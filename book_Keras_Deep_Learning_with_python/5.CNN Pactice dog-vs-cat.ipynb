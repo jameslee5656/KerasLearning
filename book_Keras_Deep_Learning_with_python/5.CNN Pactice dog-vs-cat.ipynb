{
 "cells": [
  {
   "cell_type": "code",
   "execution_count": 1,
   "metadata": {},
   "outputs": [],
   "source": [
    "import os, shutil"
   ]
  },
  {
   "cell_type": "code",
   "execution_count": 2,
   "metadata": {},
   "outputs": [],
   "source": [
    "original = '/home/james/Downloads/data'"
   ]
  },
  {
   "cell_type": "code",
   "execution_count": 3,
   "metadata": {},
   "outputs": [],
   "source": [
    "base = '/home/james/Program/KerasLearning/data/dogs-vs-cats'\n",
    "\n",
    "train_dir = os.path.join(base, 'train')\n",
    "# os.mkdir(train_dir)\n",
    "validation_dir = os.path.join(base, 'validation')\n",
    "# os.mkdir(validation_dir)\n",
    "test_dir = os.path.join(base, 'test')\n",
    "# os.mkdir(test_dir)\n",
    "\n",
    "train_cats_dir = os.path.join(train_dir,'cats')\n",
    "# os.mkdir(train_cats_dir)\n",
    "train_dogs_dir = os.path.join(train_dir, 'dogs')\n",
    "# os.mkdir(train_dogs_dir)"
   ]
  },
  {
   "cell_type": "code",
   "execution_count": 4,
   "metadata": {},
   "outputs": [],
   "source": [
    "validation_cats_dir = os.path.join(validation_dir, 'cats')\n",
    "# os.mkdir(validation_cats_dir)\n",
    "validation_dogs_dir = os.path.join(validation_dir, 'dogs')\n",
    "# os.mkdir(validation_dogs_dir)"
   ]
  },
  {
   "cell_type": "code",
   "execution_count": 5,
   "metadata": {},
   "outputs": [],
   "source": [
    "test_cats_dir = os.path.join(test_dir, 'cats')\n",
    "# os.mkdir(test_cats_dir)\n",
    "\n",
    "test_dogs_dir = os.path.join(test_dir, 'dogs')\n",
    "# os.mkdir(test_dogs_dir)"
   ]
  },
  {
   "cell_type": "code",
   "execution_count": 20,
   "metadata": {},
   "outputs": [
    {
     "ename": "FileNotFoundError",
     "evalue": "[Errno 2] No such file or directory: '/home/james/Downloads/data/train/cat.0.jpg'",
     "output_type": "error",
     "traceback": [
      "\u001b[0;31m---------------------------------------------------------------------------\u001b[0m",
      "\u001b[0;31mFileNotFoundError\u001b[0m                         Traceback (most recent call last)",
      "\u001b[0;32m<ipython-input-20-81cddb1c6eae>\u001b[0m in \u001b[0;36m<module>\u001b[0;34m()\u001b[0m\n\u001b[1;32m      3\u001b[0m     \u001b[0msrc\u001b[0m \u001b[0;34m=\u001b[0m \u001b[0mos\u001b[0m\u001b[0;34m.\u001b[0m\u001b[0mpath\u001b[0m\u001b[0;34m.\u001b[0m\u001b[0mjoin\u001b[0m\u001b[0;34m(\u001b[0m\u001b[0moriginal\u001b[0m \u001b[0;34m+\u001b[0m \u001b[0;34m'/train/'\u001b[0m\u001b[0;34m,\u001b[0m \u001b[0mfname\u001b[0m\u001b[0;34m)\u001b[0m\u001b[0;34m\u001b[0m\u001b[0;34m\u001b[0m\u001b[0m\n\u001b[1;32m      4\u001b[0m     \u001b[0mdst\u001b[0m \u001b[0;34m=\u001b[0m \u001b[0mos\u001b[0m\u001b[0;34m.\u001b[0m\u001b[0mpath\u001b[0m\u001b[0;34m.\u001b[0m\u001b[0mjoin\u001b[0m\u001b[0;34m(\u001b[0m\u001b[0mtrain_cats_dir\u001b[0m\u001b[0;34m,\u001b[0m \u001b[0mfname\u001b[0m\u001b[0;34m)\u001b[0m\u001b[0;34m\u001b[0m\u001b[0;34m\u001b[0m\u001b[0m\n\u001b[0;32m----> 5\u001b[0;31m     \u001b[0mshutil\u001b[0m\u001b[0;34m.\u001b[0m\u001b[0mcopyfile\u001b[0m\u001b[0;34m(\u001b[0m\u001b[0msrc\u001b[0m\u001b[0;34m,\u001b[0m \u001b[0mdst\u001b[0m\u001b[0;34m)\u001b[0m\u001b[0;34m\u001b[0m\u001b[0;34m\u001b[0m\u001b[0m\n\u001b[0m",
      "\u001b[0;32m/usr/lib/python3.6/shutil.py\u001b[0m in \u001b[0;36mcopyfile\u001b[0;34m(src, dst, follow_symlinks)\u001b[0m\n\u001b[1;32m    118\u001b[0m         \u001b[0mos\u001b[0m\u001b[0;34m.\u001b[0m\u001b[0msymlink\u001b[0m\u001b[0;34m(\u001b[0m\u001b[0mos\u001b[0m\u001b[0;34m.\u001b[0m\u001b[0mreadlink\u001b[0m\u001b[0;34m(\u001b[0m\u001b[0msrc\u001b[0m\u001b[0;34m)\u001b[0m\u001b[0;34m,\u001b[0m \u001b[0mdst\u001b[0m\u001b[0;34m)\u001b[0m\u001b[0;34m\u001b[0m\u001b[0;34m\u001b[0m\u001b[0m\n\u001b[1;32m    119\u001b[0m     \u001b[0;32melse\u001b[0m\u001b[0;34m:\u001b[0m\u001b[0;34m\u001b[0m\u001b[0;34m\u001b[0m\u001b[0m\n\u001b[0;32m--> 120\u001b[0;31m         \u001b[0;32mwith\u001b[0m \u001b[0mopen\u001b[0m\u001b[0;34m(\u001b[0m\u001b[0msrc\u001b[0m\u001b[0;34m,\u001b[0m \u001b[0;34m'rb'\u001b[0m\u001b[0;34m)\u001b[0m \u001b[0;32mas\u001b[0m \u001b[0mfsrc\u001b[0m\u001b[0;34m:\u001b[0m\u001b[0;34m\u001b[0m\u001b[0;34m\u001b[0m\u001b[0m\n\u001b[0m\u001b[1;32m    121\u001b[0m             \u001b[0;32mwith\u001b[0m \u001b[0mopen\u001b[0m\u001b[0;34m(\u001b[0m\u001b[0mdst\u001b[0m\u001b[0;34m,\u001b[0m \u001b[0;34m'wb'\u001b[0m\u001b[0;34m)\u001b[0m \u001b[0;32mas\u001b[0m \u001b[0mfdst\u001b[0m\u001b[0;34m:\u001b[0m\u001b[0;34m\u001b[0m\u001b[0;34m\u001b[0m\u001b[0m\n\u001b[1;32m    122\u001b[0m                 \u001b[0mcopyfileobj\u001b[0m\u001b[0;34m(\u001b[0m\u001b[0mfsrc\u001b[0m\u001b[0;34m,\u001b[0m \u001b[0mfdst\u001b[0m\u001b[0;34m)\u001b[0m\u001b[0;34m\u001b[0m\u001b[0;34m\u001b[0m\u001b[0m\n",
      "\u001b[0;31mFileNotFoundError\u001b[0m: [Errno 2] No such file or directory: '/home/james/Downloads/data/train/cat.0.jpg'"
     ]
    }
   ],
   "source": [
    "fnames = ['cat.{}.jpg'.format(i) for i in range(1000)]\n",
    "for fname in fnames:\n",
    "    src = os.path.join(original + '/train/', fname)\n",
    "    dst = os.path.join(train_cats_dir, fname)\n",
    "    shutil.copyfile(src, dst)"
   ]
  },
  {
   "cell_type": "code",
   "execution_count": 26,
   "metadata": {},
   "outputs": [],
   "source": [
    "fnames = ['cat.{}.jpg'.format(i) for i in range(1000,1500)]\n",
    "for fname in fnames:\n",
    "    src = os.path.join(original + '/train/', fname)\n",
    "    dst = os.path.join(validation_cats_dir, fname)\n",
    "    shutil.copyfile(src, dst)"
   ]
  },
  {
   "cell_type": "code",
   "execution_count": 28,
   "metadata": {},
   "outputs": [],
   "source": [
    "fnames = ['cat.{}.jpg'.format(i) for i in range(1500,2000)]\n",
    "for fname in fnames:\n",
    "    src = os.path.join(original + '/train/', fname)\n",
    "    dst = os.path.join(test_cats_dir, fname)\n",
    "    shutil.copyfile(src, dst)"
   ]
  },
  {
   "cell_type": "code",
   "execution_count": 29,
   "metadata": {},
   "outputs": [],
   "source": [
    "fnames = ['dog.{}.jpg'.format(i) for i in range(1000)]\n",
    "for fname in fnames:\n",
    "    src = os.path.join(original + '/train/', fname)\n",
    "    dst = os.path.join(train_dogs_dir, fname)\n",
    "    shutil.copyfile(src, dst)"
   ]
  },
  {
   "cell_type": "code",
   "execution_count": 30,
   "metadata": {},
   "outputs": [],
   "source": [
    "fnames = ['dog.{}.jpg'.format(i) for i in range(1000,1500)]\n",
    "for fname in fnames:\n",
    "    src = os.path.join(original + '/train/', fname)\n",
    "    dst = os.path.join(validation_dogs_dir, fname)\n",
    "    shutil.copyfile(src, dst)"
   ]
  },
  {
   "cell_type": "code",
   "execution_count": 31,
   "metadata": {},
   "outputs": [],
   "source": [
    "fnames = ['dog.{}.jpg'.format(i) for i in range(1500,2000)]\n",
    "for fname in fnames:\n",
    "    src = os.path.join(original + '/train/', fname)\n",
    "    dst = os.path.join(test_dogs_dir, fname)\n",
    "    shutil.copyfile(src, dst)"
   ]
  },
  {
   "cell_type": "code",
   "execution_count": 6,
   "metadata": {},
   "outputs": [
    {
     "name": "stdout",
     "output_type": "stream",
     "text": [
      "total training cat images: 1000\n",
      "total training dog images: 1000\n",
      "total validation cat images: 500\n",
      "total validation dog images: 500\n",
      "total test cat images: 500\n",
      "total test dog images: 500\n"
     ]
    }
   ],
   "source": [
    "print('total training cat images:', len(os.listdir(train_cats_dir)))\n",
    "print('total training dog images:', len(os.listdir(train_dogs_dir)))\n",
    "print('total validation cat images:', len(os.listdir(validation_cats_dir)))\n",
    "print('total validation dog images:', len(os.listdir(validation_dogs_dir)))\n",
    "print('total test cat images:', len(os.listdir(test_cats_dir)))\n",
    "print('total test dog images:', len(os.listdir(test_dogs_dir)))"
   ]
  },
  {
   "cell_type": "code",
   "execution_count": 7,
   "metadata": {},
   "outputs": [
    {
     "name": "stderr",
     "output_type": "stream",
     "text": [
      "Using TensorFlow backend.\n"
     ]
    },
    {
     "data": {
      "text/plain": [
       "['/job:localhost/replica:0/task:0/device:GPU:0']"
      ]
     },
     "execution_count": 7,
     "metadata": {},
     "output_type": "execute_result"
    }
   ],
   "source": [
    "from keras import backend as K\n",
    "K.tensorflow_backend._get_available_gpus()"
   ]
  },
  {
   "cell_type": "code",
   "execution_count": 8,
   "metadata": {},
   "outputs": [],
   "source": [
    "from keras import layers\n",
    "from keras import models\n",
    "from keras import optimizers"
   ]
  },
  {
   "cell_type": "code",
   "execution_count": 9,
   "metadata": {},
   "outputs": [],
   "source": [
    "model = models.Sequential()\n",
    "model.add(layers.Conv2D(32, (3,3), activation='relu',\n",
    "                        input_shape=(150, 150, 3)))\n",
    "model.add(layers.MaxPooling2D((2,2)))\n",
    "model.add(layers.Conv2D(64, (3,3), activation='relu'))\n",
    "model.add(layers.MaxPooling2D((2,2)))\n",
    "model.add(layers.Conv2D(128, (3,3), activation='relu'))\n",
    "model.add(layers.MaxPooling2D((2,2)))\n",
    "model.add(layers.Conv2D(128, (3,3), activation='relu'))\n",
    "model.add(layers.MaxPooling2D((2,2)))\n",
    "model.add(layers.Flatten())\n",
    "model.add(layers.Dense(512, activation='relu'))\n",
    "model.add(layers.Dense(1, activation='sigmoid'))"
   ]
  },
  {
   "cell_type": "code",
   "execution_count": 10,
   "metadata": {},
   "outputs": [
    {
     "name": "stdout",
     "output_type": "stream",
     "text": [
      "_________________________________________________________________\n",
      "Layer (type)                 Output Shape              Param #   \n",
      "=================================================================\n",
      "conv2d_1 (Conv2D)            (None, 148, 148, 32)      896       \n",
      "_________________________________________________________________\n",
      "max_pooling2d_1 (MaxPooling2 (None, 74, 74, 32)        0         \n",
      "_________________________________________________________________\n",
      "conv2d_2 (Conv2D)            (None, 72, 72, 64)        18496     \n",
      "_________________________________________________________________\n",
      "max_pooling2d_2 (MaxPooling2 (None, 36, 36, 64)        0         \n",
      "_________________________________________________________________\n",
      "conv2d_3 (Conv2D)            (None, 34, 34, 128)       73856     \n",
      "_________________________________________________________________\n",
      "max_pooling2d_3 (MaxPooling2 (None, 17, 17, 128)       0         \n",
      "_________________________________________________________________\n",
      "conv2d_4 (Conv2D)            (None, 15, 15, 128)       147584    \n",
      "_________________________________________________________________\n",
      "max_pooling2d_4 (MaxPooling2 (None, 7, 7, 128)         0         \n",
      "_________________________________________________________________\n",
      "flatten_1 (Flatten)          (None, 6272)              0         \n",
      "_________________________________________________________________\n",
      "dense_1 (Dense)              (None, 512)               3211776   \n",
      "_________________________________________________________________\n",
      "dense_2 (Dense)              (None, 1)                 513       \n",
      "=================================================================\n",
      "Total params: 3,453,121\n",
      "Trainable params: 3,453,121\n",
      "Non-trainable params: 0\n",
      "_________________________________________________________________\n"
     ]
    }
   ],
   "source": [
    "model.summary()"
   ]
  },
  {
   "cell_type": "code",
   "execution_count": 11,
   "metadata": {},
   "outputs": [],
   "source": [
    "model.compile(loss='binary_crossentropy',\n",
    "              optimizer=optimizers.RMSprop(lr=1e-4),\n",
    "              metrics=['acc'])"
   ]
  },
  {
   "cell_type": "code",
   "execution_count": 12,
   "metadata": {},
   "outputs": [],
   "source": [
    "from keras.preprocessing.image import ImageDataGenerator"
   ]
  },
  {
   "cell_type": "code",
   "execution_count": 13,
   "metadata": {},
   "outputs": [],
   "source": [
    "train_datagen = ImageDataGenerator(rescale=1./255)\n",
    "test_datagen = ImageDataGenerator(rescale=1./255)"
   ]
  },
  {
   "cell_type": "code",
   "execution_count": 14,
   "metadata": {},
   "outputs": [
    {
     "name": "stdout",
     "output_type": "stream",
     "text": [
      "Found 2000 images belonging to 2 classes.\n"
     ]
    }
   ],
   "source": [
    "train_generator = train_datagen.flow_from_directory(\n",
    "        train_dir,\n",
    "        target_size=(150, 150),\n",
    "        batch_size=20,\n",
    "        class_mode='binary')"
   ]
  },
  {
   "cell_type": "code",
   "execution_count": 15,
   "metadata": {},
   "outputs": [
    {
     "name": "stdout",
     "output_type": "stream",
     "text": [
      "Found 1000 images belonging to 2 classes.\n"
     ]
    }
   ],
   "source": [
    "validation_generator = test_datagen.flow_from_directory(\n",
    "        validation_dir,\n",
    "        target_size=(150, 150),\n",
    "        batch_size=20,\n",
    "        class_mode='binary')"
   ]
  },
  {
   "cell_type": "code",
   "execution_count": 16,
   "metadata": {},
   "outputs": [
    {
     "name": "stdout",
     "output_type": "stream",
     "text": [
      "data batch shape: (20, 150, 150, 3)\n",
      "labels batch shape: (20,)\n"
     ]
    }
   ],
   "source": [
    "for data_batch, labels_batch in train_generator:\n",
    "    print('data batch shape:', data_batch.shape)\n",
    "    print('labels batch shape:', labels_batch.shape)\n",
    "    break"
   ]
  },
  {
   "cell_type": "code",
   "execution_count": 17,
   "metadata": {},
   "outputs": [
    {
     "name": "stdout",
     "output_type": "stream",
     "text": [
      "Epoch 1/30\n",
      "100/100 [==============================] - 10s 105ms/step - loss: 0.6870 - acc: 0.5230 - val_loss: 0.6618 - val_acc: 0.6250\n",
      "Epoch 2/30\n",
      "100/100 [==============================] - 9s 93ms/step - loss: 0.6513 - acc: 0.6085 - val_loss: 0.6476 - val_acc: 0.6000\n",
      "Epoch 3/30\n",
      "100/100 [==============================] - 9s 93ms/step - loss: 0.6057 - acc: 0.6625 - val_loss: 0.6088 - val_acc: 0.6580\n",
      "Epoch 4/30\n",
      "100/100 [==============================] - 9s 93ms/step - loss: 0.5670 - acc: 0.7100 - val_loss: 0.5963 - val_acc: 0.6630\n",
      "Epoch 5/30\n",
      "100/100 [==============================] - 9s 93ms/step - loss: 0.5300 - acc: 0.7215 - val_loss: 0.5820 - val_acc: 0.6830\n",
      "Epoch 6/30\n",
      "100/100 [==============================] - 9s 93ms/step - loss: 0.4998 - acc: 0.7505 - val_loss: 0.5736 - val_acc: 0.7020\n",
      "Epoch 7/30\n",
      "100/100 [==============================] - 9s 94ms/step - loss: 0.4732 - acc: 0.7785 - val_loss: 0.5499 - val_acc: 0.7250\n",
      "Epoch 8/30\n",
      "100/100 [==============================] - 9s 93ms/step - loss: 0.4474 - acc: 0.7875 - val_loss: 0.6094 - val_acc: 0.6970\n",
      "Epoch 9/30\n",
      "100/100 [==============================] - 9s 93ms/step - loss: 0.4241 - acc: 0.8025 - val_loss: 0.5794 - val_acc: 0.7010\n",
      "Epoch 10/30\n",
      "100/100 [==============================] - 9s 92ms/step - loss: 0.4013 - acc: 0.8145 - val_loss: 0.5288 - val_acc: 0.7350\n",
      "Epoch 11/30\n",
      "100/100 [==============================] - 9s 93ms/step - loss: 0.3764 - acc: 0.8290 - val_loss: 0.5325 - val_acc: 0.7430\n",
      "Epoch 12/30\n",
      "100/100 [==============================] - 9s 92ms/step - loss: 0.3534 - acc: 0.8490 - val_loss: 0.6276 - val_acc: 0.7010\n",
      "Epoch 13/30\n",
      "100/100 [==============================] - 9s 93ms/step - loss: 0.3287 - acc: 0.8620 - val_loss: 0.5386 - val_acc: 0.7370\n",
      "Epoch 14/30\n",
      "100/100 [==============================] - 9s 92ms/step - loss: 0.3088 - acc: 0.8780 - val_loss: 0.5609 - val_acc: 0.7350\n",
      "Epoch 15/30\n",
      "100/100 [==============================] - 9s 93ms/step - loss: 0.2888 - acc: 0.8760 - val_loss: 0.5367 - val_acc: 0.7440\n",
      "Epoch 16/30\n",
      "100/100 [==============================] - 9s 92ms/step - loss: 0.2703 - acc: 0.8870 - val_loss: 0.5510 - val_acc: 0.7400\n",
      "Epoch 17/30\n",
      "100/100 [==============================] - 9s 93ms/step - loss: 0.2445 - acc: 0.9075 - val_loss: 0.5979 - val_acc: 0.7540\n",
      "Epoch 18/30\n",
      "100/100 [==============================] - 9s 93ms/step - loss: 0.2296 - acc: 0.9140 - val_loss: 0.5874 - val_acc: 0.7340\n",
      "Epoch 19/30\n",
      "100/100 [==============================] - 9s 95ms/step - loss: 0.2068 - acc: 0.9185 - val_loss: 0.6177 - val_acc: 0.7560\n",
      "Epoch 20/30\n",
      "100/100 [==============================] - 9s 93ms/step - loss: 0.1991 - acc: 0.9270 - val_loss: 0.6622 - val_acc: 0.7310\n",
      "Epoch 21/30\n",
      "100/100 [==============================] - 9s 93ms/step - loss: 0.1698 - acc: 0.9425 - val_loss: 0.6420 - val_acc: 0.7430\n",
      "Epoch 22/30\n",
      "100/100 [==============================] - 9s 93ms/step - loss: 0.1589 - acc: 0.9420 - val_loss: 0.6218 - val_acc: 0.7520\n",
      "Epoch 23/30\n",
      "100/100 [==============================] - 9s 93ms/step - loss: 0.1358 - acc: 0.9540 - val_loss: 0.6951 - val_acc: 0.7470\n",
      "Epoch 24/30\n",
      "100/100 [==============================] - 9s 93ms/step - loss: 0.1218 - acc: 0.9665 - val_loss: 0.7800 - val_acc: 0.7350\n",
      "Epoch 25/30\n",
      "100/100 [==============================] - 9s 92ms/step - loss: 0.1093 - acc: 0.9635 - val_loss: 0.7119 - val_acc: 0.7490\n",
      "Epoch 26/30\n",
      "100/100 [==============================] - 9s 94ms/step - loss: 0.0927 - acc: 0.9730 - val_loss: 0.7381 - val_acc: 0.7530\n",
      "Epoch 27/30\n",
      "100/100 [==============================] - 9s 93ms/step - loss: 0.0838 - acc: 0.9750 - val_loss: 0.7686 - val_acc: 0.7500\n",
      "Epoch 28/30\n",
      "100/100 [==============================] - 9s 92ms/step - loss: 0.0712 - acc: 0.9755 - val_loss: 0.8688 - val_acc: 0.7350\n",
      "Epoch 29/30\n",
      "100/100 [==============================] - 9s 93ms/step - loss: 0.0624 - acc: 0.9830 - val_loss: 0.8135 - val_acc: 0.7490\n",
      "Epoch 30/30\n",
      "100/100 [==============================] - 9s 93ms/step - loss: 0.0522 - acc: 0.9840 - val_loss: 0.9834 - val_acc: 0.7310\n"
     ]
    }
   ],
   "source": [
    "history = model.fit_generator(\n",
    "            train_generator,\n",
    "            steps_per_epoch=100,\n",
    "            epochs=30,\n",
    "            validation_data=validation_generator,\n",
    "            validation_steps=50)"
   ]
  },
  {
   "cell_type": "code",
   "execution_count": 18,
   "metadata": {},
   "outputs": [],
   "source": [
    "model.save('cats_and_dogs_small_1.h5')"
   ]
  },
  {
   "cell_type": "code",
   "execution_count": 20,
   "metadata": {},
   "outputs": [
    {
     "data": {
      "image/png": "[encoded data removed]",
      "text/plain": [
       "<Figure size 432x288 with 1 Axes>"
      ]
     },
     "metadata": {
      "needs_background": "light"
     },
     "output_type": "display_data"
    },
    {
     "data": {
      "image/png": "[encoded data removed]",
      "text/plain": [
       "<Figure size 432x288 with 1 Axes>"
      ]
     },
     "metadata": {
      "needs_background": "light"
     },
     "output_type": "display_data"
    }
   ],
   "source": [
    "import matplotlib.pyplot as plt\n",
    "\n",
    "acc = history.history['acc']\n",
    "val_acc = history.history['val_acc']\n",
    "loss = history.history['loss']\n",
    "val_loss = history.history['val_loss']\n",
    "\n",
    "epochs = range(1, len(acc) + 1)\n",
    "\n",
    "plt.plot(epochs, acc, 'bo', label='Traning acc')\n",
    "plt.plot(epochs, val_acc, 'b', label='Validation acc')\n",
    "plt.title('Training and validation accuracy')\n",
    "plt.legend()\n",
    "\n",
    "plt.figure()\n",
    "\n",
    "plt.plot(epochs, loss, 'bo', label='Training loss')\n",
    "plt.plot(epochs, val_loss, 'b', label='Validation loss')\n",
    "plt.title('Training and validation loss')\n",
    "plt.legend()\n",
    "\n",
    "plt.show()"
   ]
  },
  {
   "cell_type": "code",
   "execution_count": 22,
   "metadata": {},
   "outputs": [],
   "source": [
    "# Using data augmentation\n",
    "datagen = ImageDataGenerator(\n",
    "    rotation_range=40,\n",
    "    width_shift_range=0.2,\n",
    "    height_shift_range=0.2,\n",
    "    shear_range=0.2,\n",
    "    zoom_range=0.2,\n",
    "    horizontal_flip=True,\n",
    "    fill_mode='nearest')"
   ]
  },
  {
   "cell_type": "code",
   "execution_count": 23,
   "metadata": {},
   "outputs": [],
   "source": [
    "from keras.preprocessing import image"
   ]
  },
  {
   "cell_type": "code",
   "execution_count": 26,
   "metadata": {},
   "outputs": [
    {
     "data": {
      "image/png": "[encoded data removed]",
      "text/plain": [
       "<Figure size 432x288 with 1 Axes>"
      ]
     },
     "metadata": {
      "needs_background": "light"
     },
     "output_type": "display_data"
    }
   ],
   "source": [
    "fnames = [os.path.join(train_cats_dir, fname) for\n",
    "          fname in os.listdir(train_cats_dir)]\n",
    "img_path = fnames[3]\n",
    "img = image.load_img(img_path, target_size=(150,150))\n",
    "x = image.img_to_array(img)\n",
    "x = x.reshape((1,) + x.shape)\n",
    "i = 0\n",
    "for batch in datagen.flow(x, batch_size=1):\n",
    "    plt.figure(i)\n",
    "    imgplot = plt.imshow(image.array_to_img(batch[0]))\n",
    "    if i % 4 == 0:\n",
    "        break\n",
    "plt.show()"
   ]
  },
  {
   "cell_type": "code",
   "execution_count": 30,
   "metadata": {},
   "outputs": [
    {
     "name": "stdout",
     "output_type": "stream",
     "text": [
      "Found 1000 images belonging to 2 classes.\n",
      "Epoch 1/100\n",
      "100/100 [==============================] - 23s 229ms/step - loss: 8.0249 - acc: 0.4994 - val_loss: 0.7072 - val_acc: 0.5000\n",
      "Epoch 2/100\n",
      "100/100 [==============================] - 21s 208ms/step - loss: 8.1093 - acc: 0.4969 - val_loss: 0.7072 - val_acc: 0.5000\n",
      "Epoch 3/100\n",
      "100/100 [==============================] - 21s 209ms/step - loss: 8.0236 - acc: 0.5022 - val_loss: 0.7072 - val_acc: 0.5000\n",
      "Epoch 4/100\n",
      "100/100 [==============================] - 21s 208ms/step - loss: 7.9673 - acc: 0.5000 - val_loss: 0.6988 - val_acc: 0.5000\n",
      "Epoch 5/100\n",
      "100/100 [==============================] - 21s 214ms/step - loss: 7.9566 - acc: 0.5013 - val_loss: 0.7029 - val_acc: 0.5000\n",
      "Epoch 6/100\n",
      "100/100 [==============================] - 21s 208ms/step - loss: 8.1494 - acc: 0.4944 - val_loss: 0.7029 - val_acc: 0.5000\n",
      "Epoch 7/100\n",
      "100/100 [==============================] - 22s 216ms/step - loss: 3.7746 - acc: 0.5134 - val_loss: 0.6928 - val_acc: 0.5380\n",
      "Epoch 8/100\n",
      "100/100 [==============================] - 22s 224ms/step - loss: 0.7306 - acc: 0.5447 - val_loss: 0.6929 - val_acc: 0.5060\n",
      "Epoch 9/100\n",
      "100/100 [==============================] - 21s 210ms/step - loss: 0.7097 - acc: 0.5513 - val_loss: 0.6929 - val_acc: 0.5000\n",
      "Epoch 10/100\n",
      "100/100 [==============================] - 21s 209ms/step - loss: 0.6794 - acc: 0.5844 - val_loss: 0.6929 - val_acc: 0.5000\n",
      "Epoch 11/100\n",
      "100/100 [==============================] - 21s 209ms/step - loss: 0.6817 - acc: 0.5775 - val_loss: 0.6927 - val_acc: 0.5000\n",
      "Epoch 12/100\n",
      "100/100 [==============================] - 21s 210ms/step - loss: 0.6594 - acc: 0.5893 - val_loss: 0.6928 - val_acc: 0.5000\n",
      "Epoch 13/100\n",
      "100/100 [==============================] - 21s 207ms/step - loss: 0.6522 - acc: 0.6140 - val_loss: 0.6935 - val_acc: 0.5000\n",
      "Epoch 14/100\n",
      "100/100 [==============================] - 21s 211ms/step - loss: 0.6622 - acc: 0.6103 - val_loss: 0.6939 - val_acc: 0.5000\n",
      "Epoch 15/100\n",
      "100/100 [==============================] - 22s 216ms/step - loss: 0.6341 - acc: 0.6278 - val_loss: 0.6945 - val_acc: 0.5000\n",
      "Epoch 16/100\n",
      "100/100 [==============================] - 22s 223ms/step - loss: 0.6420 - acc: 0.6406 - val_loss: 0.6952 - val_acc: 0.5000\n",
      "Epoch 17/100\n",
      "100/100 [==============================] - 21s 206ms/step - loss: 0.6407 - acc: 0.6338 - val_loss: 0.6962 - val_acc: 0.5000\n",
      "Epoch 18/100\n",
      "100/100 [==============================] - 21s 206ms/step - loss: 0.6347 - acc: 0.6435 - val_loss: 0.6967 - val_acc: 0.5000\n",
      "Epoch 19/100\n",
      "100/100 [==============================] - 21s 210ms/step - loss: 0.6210 - acc: 0.6444 - val_loss: 0.6971 - val_acc: 0.5000\n",
      "Epoch 20/100\n",
      "100/100 [==============================] - 21s 210ms/step - loss: 0.6180 - acc: 0.6612 - val_loss: 0.6980 - val_acc: 0.5000\n",
      "Epoch 21/100\n",
      "100/100 [==============================] - 21s 207ms/step - loss: 0.6087 - acc: 0.6672 - val_loss: 0.6991 - val_acc: 0.5000\n",
      "Epoch 22/100\n",
      "100/100 [==============================] - 21s 209ms/step - loss: 0.6105 - acc: 0.6731 - val_loss: 0.7002 - val_acc: 0.5000\n",
      "Epoch 23/100\n",
      "100/100 [==============================] - 22s 216ms/step - loss: 0.6094 - acc: 0.6613 - val_loss: 0.7010 - val_acc: 0.5000\n",
      "Epoch 24/100\n",
      "100/100 [==============================] - 22s 221ms/step - loss: 0.6002 - acc: 0.6772 - val_loss: 0.7011 - val_acc: 0.5000\n",
      "Epoch 25/100\n",
      "100/100 [==============================] - 21s 208ms/step - loss: 0.6026 - acc: 0.6741 - val_loss: 0.7029 - val_acc: 0.5000\n",
      "Epoch 26/100\n",
      "100/100 [==============================] - 21s 208ms/step - loss: 0.5924 - acc: 0.6794 - val_loss: 0.7073 - val_acc: 0.5000\n",
      "Epoch 27/100\n",
      "100/100 [==============================] - 21s 208ms/step - loss: 0.5933 - acc: 0.6806 - val_loss: 0.7075 - val_acc: 0.5000\n",
      "Epoch 28/100\n",
      "100/100 [==============================] - 21s 209ms/step - loss: 0.5707 - acc: 0.6893 - val_loss: 0.7145 - val_acc: 0.5000\n",
      "Epoch 29/100\n",
      "100/100 [==============================] - 21s 207ms/step - loss: 0.5886 - acc: 0.6866 - val_loss: 0.7121 - val_acc: 0.5000\n",
      "Epoch 30/100\n",
      "100/100 [==============================] - 21s 209ms/step - loss: 0.5723 - acc: 0.7012 - val_loss: 0.7120 - val_acc: 0.5000\n",
      "Epoch 31/100\n",
      "100/100 [==============================] - 22s 215ms/step - loss: 0.5695 - acc: 0.6884 - val_loss: 0.7108 - val_acc: 0.5000\n",
      "Epoch 32/100\n",
      "100/100 [==============================] - 22s 222ms/step - loss: 0.5616 - acc: 0.7041 - val_loss: 0.7135 - val_acc: 0.5000\n",
      "Epoch 33/100\n",
      "100/100 [==============================] - 21s 209ms/step - loss: 0.5723 - acc: 0.6900 - val_loss: 0.7167 - val_acc: 0.5000\n",
      "Epoch 34/100\n",
      "100/100 [==============================] - 21s 209ms/step - loss: 0.5551 - acc: 0.7122 - val_loss: 0.7323 - val_acc: 0.5000\n",
      "Epoch 35/100\n",
      "100/100 [==============================] - 21s 209ms/step - loss: 0.5670 - acc: 0.7003 - val_loss: 0.7238 - val_acc: 0.5000\n",
      "Epoch 36/100\n",
      "100/100 [==============================] - 21s 205ms/step - loss: 0.5480 - acc: 0.7094 - val_loss: 0.7296 - val_acc: 0.5000\n",
      "Epoch 37/100\n",
      "100/100 [==============================] - 21s 210ms/step - loss: 0.5585 - acc: 0.7059 - val_loss: 0.7329 - val_acc: 0.5000\n",
      "Epoch 38/100\n",
      "100/100 [==============================] - 21s 208ms/step - loss: 0.5549 - acc: 0.7222 - val_loss: 0.7373 - val_acc: 0.5000\n",
      "Epoch 39/100\n",
      "100/100 [==============================] - 22s 218ms/step - loss: 0.5413 - acc: 0.7175 - val_loss: 0.7379 - val_acc: 0.5000\n",
      "Epoch 40/100\n",
      "100/100 [==============================] - 22s 221ms/step - loss: 0.5308 - acc: 0.7309 - val_loss: 0.7518 - val_acc: 0.5000\n",
      "Epoch 41/100\n",
      "100/100 [==============================] - 21s 209ms/step - loss: 0.5319 - acc: 0.7337 - val_loss: 0.7554 - val_acc: 0.5000\n",
      "Epoch 42/100\n",
      "100/100 [==============================] - 21s 209ms/step - loss: 0.5340 - acc: 0.7328 - val_loss: 0.7888 - val_acc: 0.5000\n",
      "Epoch 43/100\n",
      "100/100 [==============================] - 21s 205ms/step - loss: 0.5678 - acc: 0.7353 - val_loss: 0.7705 - val_acc: 0.5000\n",
      "Epoch 44/100\n",
      "100/100 [==============================] - 21s 209ms/step - loss: 0.5273 - acc: 0.7325 - val_loss: 0.8052 - val_acc: 0.5000\n",
      "Epoch 45/100\n",
      "100/100 [==============================] - 21s 209ms/step - loss: 0.5277 - acc: 0.7412 - val_loss: 0.7841 - val_acc: 0.5000\n",
      "Epoch 46/100\n",
      "100/100 [==============================] - 21s 209ms/step - loss: 0.5240 - acc: 0.7363 - val_loss: 0.8077 - val_acc: 0.5000\n",
      "Epoch 47/100\n",
      "100/100 [==============================] - 22s 216ms/step - loss: 0.5284 - acc: 0.7266 - val_loss: 0.8100 - val_acc: 0.5000\n",
      "Epoch 48/100\n",
      "100/100 [==============================] - 22s 222ms/step - loss: 0.5116 - acc: 0.7494 - val_loss: 0.8147 - val_acc: 0.5000\n",
      "Epoch 49/100\n",
      "100/100 [==============================] - 21s 207ms/step - loss: 0.5278 - acc: 0.7316 - val_loss: 0.8449 - val_acc: 0.5000\n",
      "Epoch 50/100\n",
      "100/100 [==============================] - 21s 210ms/step - loss: 0.5102 - acc: 0.7491 - val_loss: 0.7891 - val_acc: 0.5000\n",
      "Epoch 51/100\n",
      "100/100 [==============================] - 21s 209ms/step - loss: 0.5069 - acc: 0.7472 - val_loss: 0.8544 - val_acc: 0.5000\n",
      "Epoch 52/100\n",
      "100/100 [==============================] - 21s 211ms/step - loss: 0.5197 - acc: 0.7550 - val_loss: 0.8337 - val_acc: 0.5000\n",
      "Epoch 53/100\n",
      "100/100 [==============================] - 22s 216ms/step - loss: 0.5133 - acc: 0.7469 - val_loss: 0.8387 - val_acc: 0.5000\n",
      "Epoch 54/100\n",
      "100/100 [==============================] - 21s 213ms/step - loss: 0.5076 - acc: 0.7350 - val_loss: 0.8483 - val_acc: 0.5000\n",
      "Epoch 55/100\n",
      "100/100 [==============================] - 21s 215ms/step - loss: 0.5029 - acc: 0.7587 - val_loss: 0.8179 - val_acc: 0.5000\n",
      "Epoch 56/100\n",
      "100/100 [==============================] - 22s 220ms/step - loss: 0.5060 - acc: 0.7472 - val_loss: 0.8777 - val_acc: 0.5000\n",
      "Epoch 57/100\n",
      "100/100 [==============================] - 21s 206ms/step - loss: 0.5051 - acc: 0.7494 - val_loss: 0.8674 - val_acc: 0.5000\n",
      "Epoch 58/100\n",
      "100/100 [==============================] - 21s 206ms/step - loss: 0.4994 - acc: 0.7616 - val_loss: 0.8659 - val_acc: 0.5000\n",
      "Epoch 59/100\n",
      "100/100 [==============================] - 21s 206ms/step - loss: 0.5096 - acc: 0.7553 - val_loss: 0.9127 - val_acc: 0.5000\n",
      "Epoch 60/100\n"
     ]
    },
    {
     "name": "stdout",
     "output_type": "stream",
     "text": [
      "100/100 [==============================] - 21s 205ms/step - loss: 0.4879 - acc: 0.7557 - val_loss: 0.9447 - val_acc: 0.5000\n",
      "Epoch 61/100\n",
      "100/100 [==============================] - 21s 207ms/step - loss: 0.4991 - acc: 0.7622 - val_loss: 0.9757 - val_acc: 0.5000\n",
      "Epoch 62/100\n",
      "100/100 [==============================] - 21s 208ms/step - loss: 0.5077 - acc: 0.7534 - val_loss: 0.9108 - val_acc: 0.5000\n",
      "Epoch 63/100\n",
      "100/100 [==============================] - 22s 216ms/step - loss: 0.5039 - acc: 0.7616 - val_loss: 0.9581 - val_acc: 0.5000\n",
      "Epoch 64/100\n",
      "100/100 [==============================] - 22s 220ms/step - loss: 0.4932 - acc: 0.7594 - val_loss: 0.9645 - val_acc: 0.5000\n",
      "Epoch 65/100\n",
      "100/100 [==============================] - 21s 206ms/step - loss: 0.4886 - acc: 0.7569 - val_loss: 0.9618 - val_acc: 0.5000\n",
      "Epoch 66/100\n",
      "100/100 [==============================] - 21s 206ms/step - loss: 0.4765 - acc: 0.7725 - val_loss: 1.0469 - val_acc: 0.5000\n",
      "Epoch 67/100\n",
      "100/100 [==============================] - 21s 207ms/step - loss: 0.4861 - acc: 0.7672 - val_loss: 0.9255 - val_acc: 0.5000\n",
      "Epoch 68/100\n",
      "100/100 [==============================] - 20s 204ms/step - loss: 0.4966 - acc: 0.7597 - val_loss: 1.0605 - val_acc: 0.5000\n",
      "Epoch 69/100\n",
      "100/100 [==============================] - 21s 205ms/step - loss: 0.5017 - acc: 0.7616 - val_loss: 0.9785 - val_acc: 0.5000\n",
      "Epoch 70/100\n",
      "100/100 [==============================] - 21s 208ms/step - loss: 0.4891 - acc: 0.7566 - val_loss: 1.1363 - val_acc: 0.5000\n",
      "Epoch 71/100\n",
      "100/100 [==============================] - 21s 215ms/step - loss: 0.4752 - acc: 0.7588 - val_loss: 1.0818 - val_acc: 0.5000\n",
      "Epoch 72/100\n",
      "100/100 [==============================] - 22s 221ms/step - loss: 0.4851 - acc: 0.7625 - val_loss: 1.1443 - val_acc: 0.5000\n",
      "Epoch 73/100\n",
      "100/100 [==============================] - 21s 206ms/step - loss: 0.4646 - acc: 0.7772 - val_loss: 1.2413 - val_acc: 0.5000\n",
      "Epoch 74/100\n",
      "100/100 [==============================] - 21s 206ms/step - loss: 0.4705 - acc: 0.7853 - val_loss: 1.2557 - val_acc: 0.5000\n",
      "Epoch 75/100\n",
      "100/100 [==============================] - 21s 207ms/step - loss: 0.4785 - acc: 0.7675 - val_loss: 1.3307 - val_acc: 0.5000\n",
      "Epoch 76/100\n",
      "100/100 [==============================] - 21s 208ms/step - loss: 0.4867 - acc: 0.7756 - val_loss: 1.2011 - val_acc: 0.5000\n",
      "Epoch 77/100\n",
      "100/100 [==============================] - 21s 207ms/step - loss: 0.4649 - acc: 0.7835 - val_loss: 1.3993 - val_acc: 0.5000\n",
      "Epoch 78/100\n",
      "100/100 [==============================] - 21s 206ms/step - loss: 0.4436 - acc: 0.7831 - val_loss: 1.2750 - val_acc: 0.5000\n",
      "Epoch 79/100\n",
      "100/100 [==============================] - 22s 215ms/step - loss: 0.4739 - acc: 0.7800 - val_loss: 1.1419 - val_acc: 0.5000\n",
      "Epoch 80/100\n",
      "100/100 [==============================] - 22s 219ms/step - loss: 0.4715 - acc: 0.7784 - val_loss: 1.0957 - val_acc: 0.5000\n",
      "Epoch 81/100\n",
      "100/100 [==============================] - 21s 207ms/step - loss: 0.4796 - acc: 0.7853 - val_loss: 1.1645 - val_acc: 0.5000\n",
      "Epoch 82/100\n",
      "100/100 [==============================] - 21s 208ms/step - loss: 0.4576 - acc: 0.7872 - val_loss: 1.1476 - val_acc: 0.5000\n",
      "Epoch 83/100\n",
      "100/100 [==============================] - 21s 207ms/step - loss: 0.4720 - acc: 0.7806 - val_loss: 1.2324 - val_acc: 0.5000\n",
      "Epoch 84/100\n",
      "100/100 [==============================] - 21s 205ms/step - loss: 0.4559 - acc: 0.7834 - val_loss: 1.3124 - val_acc: 0.5000\n",
      "Epoch 85/100\n",
      "100/100 [==============================] - 21s 206ms/step - loss: 0.4801 - acc: 0.7831 - val_loss: 1.2178 - val_acc: 0.5000\n",
      "Epoch 86/100\n",
      "100/100 [==============================] - 21s 208ms/step - loss: 0.4524 - acc: 0.7878 - val_loss: 1.3118 - val_acc: 0.5000\n",
      "Epoch 87/100\n",
      "100/100 [==============================] - 22s 215ms/step - loss: 0.4658 - acc: 0.7768 - val_loss: 1.5738 - val_acc: 0.5000\n",
      "Epoch 88/100\n",
      "100/100 [==============================] - 22s 223ms/step - loss: 0.4548 - acc: 0.7850 - val_loss: 1.3302 - val_acc: 0.5000\n",
      "Epoch 89/100\n",
      "100/100 [==============================] - 21s 205ms/step - loss: 0.4582 - acc: 0.7884 - val_loss: 1.2082 - val_acc: 0.5000\n",
      "Epoch 90/100\n",
      "100/100 [==============================] - 21s 207ms/step - loss: 0.4527 - acc: 0.7806 - val_loss: 1.1490 - val_acc: 0.5000\n",
      "Epoch 91/100\n",
      "100/100 [==============================] - 21s 206ms/step - loss: 0.4798 - acc: 0.7841 - val_loss: 1.0658 - val_acc: 0.5000\n",
      "Epoch 92/100\n",
      "100/100 [==============================] - 21s 207ms/step - loss: 0.4582 - acc: 0.7847 - val_loss: 1.3139 - val_acc: 0.5000\n",
      "Epoch 93/100\n",
      "100/100 [==============================] - 21s 207ms/step - loss: 0.4425 - acc: 0.7978 - val_loss: 1.3930 - val_acc: 0.5000\n",
      "Epoch 94/100\n",
      "100/100 [==============================] - 21s 206ms/step - loss: 0.4659 - acc: 0.7844 - val_loss: 1.5530 - val_acc: 0.5000\n",
      "Epoch 95/100\n",
      "100/100 [==============================] - 21s 214ms/step - loss: 0.4430 - acc: 0.7931 - val_loss: 1.6986 - val_acc: 0.5000\n",
      "Epoch 96/100\n",
      "100/100 [==============================] - 22s 221ms/step - loss: 0.4656 - acc: 0.7928 - val_loss: 1.3207 - val_acc: 0.5000\n",
      "Epoch 97/100\n",
      "100/100 [==============================] - 20s 205ms/step - loss: 0.4568 - acc: 0.7872 - val_loss: 1.4065 - val_acc: 0.5000\n",
      "Epoch 98/100\n",
      "100/100 [==============================] - 21s 205ms/step - loss: 0.4403 - acc: 0.7947 - val_loss: 1.3385 - val_acc: 0.5000\n",
      "Epoch 99/100\n",
      "100/100 [==============================] - 21s 206ms/step - loss: 0.4556 - acc: 0.7772 - val_loss: 1.2767 - val_acc: 0.5000\n",
      "Epoch 100/100\n",
      "100/100 [==============================] - 21s 208ms/step - loss: 0.4633 - acc: 0.7853 - val_loss: 1.3773 - val_acc: 0.5000\n"
     ]
    }
   ],
   "source": [
    "model = models.Sequential()\n",
    "model.add(layers.Conv2D(32, (3,3), activation='relu',\n",
    "                        input_shape=(150, 150, 3)))\n",
    "model.add(layers.MaxPooling2D((2,2)))\n",
    "model.add(layers.Conv2D(64, (3,3), activation='relu'))\n",
    "model.add(layers.MaxPooling2D((2,2)))\n",
    "model.add(layers.Conv2D(128, (3,3), activation='relu'))\n",
    "model.add(layers.MaxPooling2D((2,2)))\n",
    "model.add(layers.Conv2D(128, (3,3), activation='relu'))\n",
    "model.add(layers.MaxPooling2D((2,2)))\n",
    "model.add(layers.Flatten())\n",
    "model.add(layers.Dropout(0.5))\n",
    "model.add(layers.Dense(512, activation='relu'))\n",
    "model.add(layers.Dense(1, activation='sigmoid'))\n",
    "\n",
    "model.compile(loss='binary_crossentropy',\n",
    "              optimizer=optimizers.RMSprop(lr=1e-4),\n",
    "              metrics=['acc'])\n",
    "train_datagen = ImageDataGenerator(\n",
    "    rotation_range=40,\n",
    "    width_shift_range=0.2,\n",
    "    height_shift_range=0.2,\n",
    "    shear_range=0.2,\n",
    "    zoom_range=0.2,\n",
    "    horizontal_flip=True,)\n",
    "\n",
    "test_datagen = ImageDataGenerator(rescale=1./255)\n",
    "\n",
    "train_generator = train_datagen.flow_from_directory(\n",
    "                validation_dir,\n",
    "                target_size=(150, 150),\n",
    "                batch_size=32,\n",
    "                class_mode='binary')\n",
    "\n",
    "history = model.fit_generator(\n",
    "        train_generator,\n",
    "        steps_per_epoch=100,\n",
    "        epochs=100,\n",
    "        validation_data=validation_generator,\n",
    "        validation_steps=50)"
   ]
  },
  {
   "cell_type": "code",
   "execution_count": 32,
   "metadata": {},
   "outputs": [],
   "source": [
    "model.save('cats_and_dogs_small_2.h5')"
   ]
  },
  {
   "cell_type": "code",
   "execution_count": 33,
   "metadata": {},
   "outputs": [
    {
     "data": {
      "image/png": "[encoded data removed]",
      "text/plain": [
       "<Figure size 432x288 with 1 Axes>"
      ]
     },
     "metadata": {
      "needs_background": "light"
     },
     "output_type": "display_data"
    },
    {
     "data": {
      "image/png": "[encoded data removed]",
      "text/plain": [
       "<Figure size 432x288 with 1 Axes>"
      ]
     },
     "metadata": {
      "needs_background": "light"
     },
     "output_type": "display_data"
    }
   ],
   "source": [
    "acc = history.history['acc']\n",
    "val_acc = history.history['val_acc']\n",
    "loss = history.history['loss']\n",
    "val_loss = history.history['val_loss']\n",
    "\n",
    "epochs = range(1, len(acc) + 1)\n",
    "\n",
    "plt.plot(epochs, acc, 'bo', label='Traning acc')\n",
    "plt.plot(epochs, val_acc, 'b', label='Validation acc')\n",
    "plt.title('Training and validation accuracy')\n",
    "plt.legend()\n",
    "\n",
    "plt.figure()\n",
    "\n",
    "plt.plot(epochs, loss, 'bo', label='Training loss')\n",
    "plt.plot(epochs, val_loss, 'b', label='Validation loss')\n",
    "plt.title('Training and validation loss')\n",
    "plt.legend()\n",
    "\n",
    "plt.show()"
   ]
  },
  {
   "cell_type": "code",
   "execution_count": null,
   "metadata": {},
   "outputs": [],
   "source": []
  }
 ],
 "metadata": {
  "kernelspec": {
   "display_name": "Python 3",
   "language": "python",
   "name": "python3"
  },
  "language_info": {
   "codemirror_mode": {
    "name": "ipython",
    "version": 3
   },
   "file_extension": ".py",
   "mimetype": "text/x-python",
   "name": "python",
   "nbconvert_exporter": "python",
   "pygments_lexer": "ipython3",
   "version": "3.6.7"
  }
 },
 "nbformat": 4,
 "nbformat_minor": 2
}
