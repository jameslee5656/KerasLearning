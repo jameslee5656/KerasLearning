{
 "cells": [
  {
   "cell_type": "code",
   "execution_count": 1,
   "metadata": {},
   "outputs": [],
   "source": [
    "import os, shutil"
   ]
  },
  {
   "cell_type": "code",
   "execution_count": 2,
   "metadata": {},
   "outputs": [],
   "source": [
    "original = '/home/james/Downloads/data'"
   ]
  },
  {
   "cell_type": "code",
   "execution_count": 2,
   "metadata": {},
   "outputs": [],
   "source": [
    "base = '/home/james/Program/KerasLearning/data/dogs-vs-cats'\n",
    "# base = 'G:/KerasLearning/data/dogs-vs-cats'\n",
    "\n",
    "train_dir = os.path.join(base, 'train')\n",
    "# os.mkdir(train_dir)\n",
    "validation_dir = os.path.join(base, 'validation')\n",
    "# os.mkdir(validation_dir)\n",
    "test_dir = os.path.join(base, 'test')\n",
    "# os.mkdir(test_dir)\n",
    "\n",
    "train_cats_dir = os.path.join(train_dir,'cats')\n",
    "# os.mkdir(train_cats_dir)\n",
    "train_dogs_dir = os.path.join(train_dir, 'dogs')\n",
    "# os.mkdir(train_dogs_dir)"
   ]
  },
  {
   "cell_type": "code",
   "execution_count": 3,
   "metadata": {},
   "outputs": [],
   "source": [
    "validation_cats_dir = os.path.join(validation_dir, 'cats')\n",
    "# os.mkdir(validation_cats_dir)\n",
    "validation_dogs_dir = os.path.join(validation_dir, 'dogs')\n",
    "# os.mkdir(validation_dogs_dir)"
   ]
  },
  {
   "cell_type": "code",
   "execution_count": 4,
   "metadata": {},
   "outputs": [],
   "source": [
    "test_cats_dir = os.path.join(test_dir, 'cats')\n",
    "# os.mkdir(test_cats_dir)\n",
    "\n",
    "test_dogs_dir = os.path.join(test_dir, 'dogs')\n",
    "# os.mkdir(test_dogs_dir)"
   ]
  },
  {
   "cell_type": "code",
   "execution_count": null,
   "metadata": {},
   "outputs": [],
   "source": [
    "fnames = ['cat.{}.jpg'.format(i) for i in range(1000)]\n",
    "for fname in fnames:\n",
    "    src = os.path.join(original + '/train/', fname)\n",
    "    dst = os.path.join(train_cats_dir, fname)\n",
    "    shutil.copyfile(src, dst)"
   ]
  },
  {
   "cell_type": "code",
   "execution_count": 26,
   "metadata": {},
   "outputs": [],
   "source": [
    "fnames = ['cat.{}.jpg'.format(i) for i in range(1000,1500)]\n",
    "for fname in fnames:\n",
    "    src = os.path.join(original + '/train/', fname)\n",
    "    dst = os.path.join(validation_cats_dir, fname)\n",
    "    shutil.copyfile(src, dst)"
   ]
  },
  {
   "cell_type": "code",
   "execution_count": 28,
   "metadata": {},
   "outputs": [],
   "source": [
    "fnames = ['cat.{}.jpg'.format(i) for i in range(1500,2000)]\n",
    "for fname in fnames:\n",
    "    src = os.path.join(original + '/train/', fname)\n",
    "    dst = os.path.join(test_cats_dir, fname)\n",
    "    shutil.copyfile(src, dst)"
   ]
  },
  {
   "cell_type": "code",
   "execution_count": 29,
   "metadata": {},
   "outputs": [],
   "source": [
    "fnames = ['dog.{}.jpg'.format(i) for i in range(1000)]\n",
    "for fname in fnames:\n",
    "    src = os.path.join(original + '/train/', fname)\n",
    "    dst = os.path.join(train_dogs_dir, fname)\n",
    "    shutil.copyfile(src, dst)"
   ]
  },
  {
   "cell_type": "code",
   "execution_count": 30,
   "metadata": {},
   "outputs": [],
   "source": [
    "fnames = ['dog.{}.jpg'.format(i) for i in range(1000,1500)]\n",
    "for fname in fnames:\n",
    "    src = os.path.join(original + '/train/', fname)\n",
    "    dst = os.path.join(validation_dogs_dir, fname)\n",
    "    shutil.copyfile(src, dst)"
   ]
  },
  {
   "cell_type": "code",
   "execution_count": 31,
   "metadata": {},
   "outputs": [],
   "source": [
    "fnames = ['dog.{}.jpg'.format(i) for i in range(1500,2000)]\n",
    "for fname in fnames:\n",
    "    src = os.path.join(original + '/train/', fname)\n",
    "    dst = os.path.join(test_dogs_dir, fname)\n",
    "    shutil.copyfile(src, dst)"
   ]
  },
  {
   "cell_type": "code",
   "execution_count": 5,
   "metadata": {},
   "outputs": [
    {
     "name": "stdout",
     "output_type": "stream",
     "text": [
      "total training cat images: 1000\n",
      "total training dog images: 1000\n",
      "total validation cat images: 500\n",
      "total validation dog images: 500\n",
      "total test cat images: 500\n",
      "total test dog images: 500\n"
     ]
    }
   ],
   "source": [
    "print('total training cat images:', len(os.listdir(train_cats_dir)))\n",
    "print('total training dog images:', len(os.listdir(train_dogs_dir)))\n",
    "print('total validation cat images:', len(os.listdir(validation_cats_dir)))\n",
    "print('total validation dog images:', len(os.listdir(validation_dogs_dir)))\n",
    "print('total test cat images:', len(os.listdir(test_cats_dir)))\n",
    "print('total test dog images:', len(os.listdir(test_dogs_dir)))"
   ]
  },
  {
   "cell_type": "code",
   "execution_count": 6,
   "metadata": {},
   "outputs": [
    {
     "name": "stderr",
     "output_type": "stream",
     "text": [
      "Using TensorFlow backend.\n"
     ]
    },
    {
     "data": {
      "text/plain": [
       "['/job:localhost/replica:0/task:0/device:GPU:0']"
      ]
     },
     "execution_count": 6,
     "metadata": {},
     "output_type": "execute_result"
    }
   ],
   "source": [
    "from keras import backend as K\n",
    "K.tensorflow_backend._get_available_gpus()"
   ]
  },
  {
   "cell_type": "code",
   "execution_count": 7,
   "metadata": {},
   "outputs": [],
   "source": [
    "from keras import layers\n",
    "from keras import models\n",
    "from keras import optimizers"
   ]
  },
  {
   "cell_type": "code",
   "execution_count": 8,
   "metadata": {},
   "outputs": [],
   "source": [
    "model = models.Sequential()\n",
    "model.add(layers.Conv2D(32, (3,3), activation='relu',\n",
    "                        input_shape=(150, 150, 3)))\n",
    "model.add(layers.MaxPooling2D((2,2)))\n",
    "model.add(layers.Conv2D(64, (3,3), activation='relu'))\n",
    "model.add(layers.MaxPooling2D((2,2)))\n",
    "model.add(layers.Conv2D(128, (3,3), activation='relu'))\n",
    "model.add(layers.MaxPooling2D((2,2)))\n",
    "model.add(layers.Conv2D(128, (3,3), activation='relu'))\n",
    "model.add(layers.MaxPooling2D((2,2)))\n",
    "model.add(layers.Flatten())\n",
    "model.add(layers.Dense(512, activation='relu'))\n",
    "model.add(layers.Dense(1, activation='sigmoid'))"
   ]
  },
  {
   "cell_type": "code",
   "execution_count": 9,
   "metadata": {},
   "outputs": [
    {
     "name": "stdout",
     "output_type": "stream",
     "text": [
      "_________________________________________________________________\n",
      "Layer (type)                 Output Shape              Param #   \n",
      "=================================================================\n",
      "conv2d_1 (Conv2D)            (None, 148, 148, 32)      896       \n",
      "_________________________________________________________________\n",
      "max_pooling2d_1 (MaxPooling2 (None, 74, 74, 32)        0         \n",
      "_________________________________________________________________\n",
      "conv2d_2 (Conv2D)            (None, 72, 72, 64)        18496     \n",
      "_________________________________________________________________\n",
      "max_pooling2d_2 (MaxPooling2 (None, 36, 36, 64)        0         \n",
      "_________________________________________________________________\n",
      "conv2d_3 (Conv2D)            (None, 34, 34, 128)       73856     \n",
      "_________________________________________________________________\n",
      "max_pooling2d_3 (MaxPooling2 (None, 17, 17, 128)       0         \n",
      "_________________________________________________________________\n",
      "conv2d_4 (Conv2D)            (None, 15, 15, 128)       147584    \n",
      "_________________________________________________________________\n",
      "max_pooling2d_4 (MaxPooling2 (None, 7, 7, 128)         0         \n",
      "_________________________________________________________________\n",
      "flatten_1 (Flatten)          (None, 6272)              0         \n",
      "_________________________________________________________________\n",
      "dense_1 (Dense)              (None, 512)               3211776   \n",
      "_________________________________________________________________\n",
      "dense_2 (Dense)              (None, 1)                 513       \n",
      "=================================================================\n",
      "Total params: 3,453,121\n",
      "Trainable params: 3,453,121\n",
      "Non-trainable params: 0\n",
      "_________________________________________________________________\n"
     ]
    }
   ],
   "source": [
    "model.summary()"
   ]
  },
  {
   "cell_type": "code",
   "execution_count": 10,
   "metadata": {},
   "outputs": [],
   "source": [
    "model.compile(loss='binary_crossentropy',\n",
    "              optimizer=optimizers.RMSprop(lr=1e-4),\n",
    "              metrics=['acc'])"
   ]
  },
  {
   "cell_type": "code",
   "execution_count": 11,
   "metadata": {},
   "outputs": [],
   "source": [
    "from keras.preprocessing.image import ImageDataGenerator"
   ]
  },
  {
   "cell_type": "code",
   "execution_count": 12,
   "metadata": {},
   "outputs": [],
   "source": [
    "train_datagen = ImageDataGenerator(rescale=1./255)\n",
    "test_datagen = ImageDataGenerator(rescale=1./255)"
   ]
  },
  {
   "cell_type": "code",
   "execution_count": 13,
   "metadata": {},
   "outputs": [
    {
     "name": "stdout",
     "output_type": "stream",
     "text": [
      "Found 2000 images belonging to 2 classes.\n"
     ]
    }
   ],
   "source": [
    "train_generator = train_datagen.flow_from_directory(\n",
    "        train_dir,\n",
    "        target_size=(150, 150),\n",
    "        batch_size=20,\n",
    "        class_mode='binary')"
   ]
  },
  {
   "cell_type": "code",
   "execution_count": 14,
   "metadata": {},
   "outputs": [
    {
     "name": "stdout",
     "output_type": "stream",
     "text": [
      "Found 1000 images belonging to 2 classes.\n"
     ]
    }
   ],
   "source": [
    "validation_generator = test_datagen.flow_from_directory(\n",
    "        validation_dir,\n",
    "        target_size=(150, 150),\n",
    "        batch_size=20,\n",
    "        class_mode='binary')"
   ]
  },
  {
   "cell_type": "code",
   "execution_count": 15,
   "metadata": {},
   "outputs": [
    {
     "name": "stdout",
     "output_type": "stream",
     "text": [
      "data batch shape: (20, 150, 150, 3)\n",
      "labels batch shape: (20,)\n"
     ]
    }
   ],
   "source": [
    "for data_batch, labels_batch in train_generator:\n",
    "    print('data batch shape:', data_batch.shape)\n",
    "    print('labels batch shape:', labels_batch.shape)\n",
    "    break"
   ]
  },
  {
   "cell_type": "code",
   "execution_count": 16,
   "metadata": {},
   "outputs": [
    {
     "name": "stdout",
     "output_type": "stream",
     "text": [
      "Epoch 1/30\n",
      "100/100 [==============================] - 10s 105ms/step - loss: 0.6898 - acc: 0.5325 - val_loss: 0.6932 - val_acc: 0.5010\n",
      "Epoch 2/30\n",
      "100/100 [==============================] - 10s 98ms/step - loss: 0.6609 - acc: 0.6025 - val_loss: 0.6468 - val_acc: 0.6260\n",
      "Epoch 3/30\n",
      "100/100 [==============================] - 10s 96ms/step - loss: 0.6219 - acc: 0.6645 - val_loss: 0.6136 - val_acc: 0.6660\n",
      "Epoch 4/30\n",
      "100/100 [==============================] - 9s 94ms/step - loss: 0.5804 - acc: 0.6960 - val_loss: 0.5911 - val_acc: 0.6900\n",
      "Epoch 5/30\n",
      "100/100 [==============================] - 9s 94ms/step - loss: 0.5402 - acc: 0.7300 - val_loss: 0.5780 - val_acc: 0.6940\n",
      "Epoch 6/30\n",
      "100/100 [==============================] - 9s 95ms/step - loss: 0.5035 - acc: 0.7525 - val_loss: 0.5981 - val_acc: 0.6830\n",
      "Epoch 7/30\n",
      "100/100 [==============================] - 9s 94ms/step - loss: 0.4781 - acc: 0.7740 - val_loss: 0.6509 - val_acc: 0.6600\n",
      "Epoch 8/30\n",
      "100/100 [==============================] - 9s 94ms/step - loss: 0.4508 - acc: 0.7860 - val_loss: 0.5539 - val_acc: 0.7140\n",
      "Epoch 9/30\n",
      "100/100 [==============================] - 9s 94ms/step - loss: 0.4170 - acc: 0.8210 - val_loss: 0.6153 - val_acc: 0.6930\n",
      "Epoch 10/30\n",
      "100/100 [==============================] - 9s 95ms/step - loss: 0.3823 - acc: 0.8270 - val_loss: 0.5944 - val_acc: 0.7010\n",
      "Epoch 11/30\n",
      "100/100 [==============================] - 9s 94ms/step - loss: 0.3707 - acc: 0.8330 - val_loss: 0.5460 - val_acc: 0.7320\n",
      "Epoch 12/30\n",
      "100/100 [==============================] - 9s 94ms/step - loss: 0.3419 - acc: 0.8565 - val_loss: 0.5617 - val_acc: 0.7280\n",
      "Epoch 13/30\n",
      "100/100 [==============================] - 9s 94ms/step - loss: 0.3203 - acc: 0.8585 - val_loss: 0.5698 - val_acc: 0.7210\n",
      "Epoch 14/30\n",
      "100/100 [==============================] - 9s 94ms/step - loss: 0.2939 - acc: 0.8805 - val_loss: 0.6192 - val_acc: 0.7100\n",
      "Epoch 15/30\n",
      "100/100 [==============================] - 9s 94ms/step - loss: 0.2688 - acc: 0.8845 - val_loss: 0.6017 - val_acc: 0.7200\n",
      "Epoch 16/30\n",
      "100/100 [==============================] - 9s 95ms/step - loss: 0.2465 - acc: 0.9005 - val_loss: 0.6183 - val_acc: 0.7230\n",
      "Epoch 17/30\n",
      "100/100 [==============================] - 9s 95ms/step - loss: 0.2267 - acc: 0.9075 - val_loss: 0.7516 - val_acc: 0.7120\n",
      "Epoch 18/30\n",
      "100/100 [==============================] - 9s 94ms/step - loss: 0.2113 - acc: 0.9165 - val_loss: 0.6918 - val_acc: 0.7160\n",
      "Epoch 19/30\n",
      "100/100 [==============================] - 9s 94ms/step - loss: 0.1854 - acc: 0.9285 - val_loss: 0.7397 - val_acc: 0.7150\n",
      "Epoch 20/30\n",
      "100/100 [==============================] - 9s 94ms/step - loss: 0.1619 - acc: 0.9385 - val_loss: 0.7374 - val_acc: 0.7240\n",
      "Epoch 21/30\n",
      "100/100 [==============================] - 9s 95ms/step - loss: 0.1516 - acc: 0.9455 - val_loss: 0.7165 - val_acc: 0.7270\n",
      "Epoch 22/30\n",
      "100/100 [==============================] - 9s 95ms/step - loss: 0.1295 - acc: 0.9580 - val_loss: 0.6903 - val_acc: 0.7340\n",
      "Epoch 23/30\n",
      "100/100 [==============================] - 9s 94ms/step - loss: 0.1140 - acc: 0.9650 - val_loss: 0.8133 - val_acc: 0.7120\n",
      "Epoch 24/30\n",
      "100/100 [==============================] - 9s 95ms/step - loss: 0.1030 - acc: 0.9675 - val_loss: 0.9928 - val_acc: 0.7180\n",
      "Epoch 25/30\n",
      "100/100 [==============================] - 9s 95ms/step - loss: 0.0820 - acc: 0.9770 - val_loss: 0.8343 - val_acc: 0.7230\n",
      "Epoch 26/30\n",
      "100/100 [==============================] - 10s 95ms/step - loss: 0.0714 - acc: 0.9800 - val_loss: 0.8763 - val_acc: 0.7240\n",
      "Epoch 27/30\n",
      "100/100 [==============================] - 9s 95ms/step - loss: 0.0617 - acc: 0.9855 - val_loss: 1.2590 - val_acc: 0.6830\n",
      "Epoch 28/30\n",
      "100/100 [==============================] - 10s 95ms/step - loss: 0.0544 - acc: 0.9865 - val_loss: 0.9754 - val_acc: 0.7160\n",
      "Epoch 29/30\n",
      "100/100 [==============================] - 9s 94ms/step - loss: 0.0530 - acc: 0.9840 - val_loss: 0.9727 - val_acc: 0.7290\n",
      "Epoch 30/30\n",
      "100/100 [==============================] - 10s 101ms/step - loss: 0.0379 - acc: 0.9920 - val_loss: 1.2633 - val_acc: 0.6850\n"
     ]
    }
   ],
   "source": [
    "history = model.fit_generator(\n",
    "            train_generator,\n",
    "            steps_per_epoch=100,\n",
    "            epochs=30,\n",
    "            validation_data=validation_generator,\n",
    "            validation_steps=50)"
   ]
  },
  {
   "cell_type": "code",
   "execution_count": 17,
   "metadata": {},
   "outputs": [],
   "source": [
    "model.save('cats_and_dogs_small_1.h5')"
   ]
  },
  {
   "cell_type": "code",
   "execution_count": 18,
   "metadata": {},
   "outputs": [
    {
     "data": {
      "text/plain": [
       "<Figure size 640x480 with 1 Axes>"
      ]
     },
     "metadata": {},
     "output_type": "display_data"
    },
    {
     "data": {
      "text/plain": [
       "<Figure size 640x480 with 1 Axes>"
      ]
     },
     "metadata": {},
     "output_type": "display_data"
    }
   ],
   "source": [
    "import matplotlib.pyplot as plt\n",
    "\n",
    "acc = history.history['acc']\n",
    "val_acc = history.history['val_acc']\n",
    "loss = history.history['loss']\n",
    "val_loss = history.history['val_loss']\n",
    "\n",
    "epochs = range(1, len(acc) + 1)\n",
    "\n",
    "plt.plot(epochs, acc, 'bo', label='Traning acc')\n",
    "plt.plot(epochs, val_acc, 'b', label='Validation acc')\n",
    "plt.title('Training and validation accuracy')\n",
    "plt.legend()\n",
    "\n",
    "plt.figure()\n",
    "\n",
    "plt.plot(epochs, loss, 'bo', label='Training loss')\n",
    "plt.plot(epochs, val_loss, 'b', label='Validation loss')\n",
    "plt.title('Training and validation loss')\n",
    "plt.legend()\n",
    "\n",
    "plt.show()"
   ]
  },
  {
   "cell_type": "code",
   "execution_count": 19,
   "metadata": {},
   "outputs": [],
   "source": [
    "# Using data augmentation\n",
    "datagen = ImageDataGenerator(\n",
    "    rotation_range=40,\n",
    "    width_shift_range=0.2,\n",
    "    height_shift_range=0.2,\n",
    "    shear_range=0.2,\n",
    "    zoom_range=0.2,\n",
    "    horizontal_flip=True,\n",
    "    fill_mode='nearest')"
   ]
  },
  {
   "cell_type": "code",
   "execution_count": 20,
   "metadata": {},
   "outputs": [],
   "source": [
    "from keras.preprocessing import image"
   ]
  },
  {
   "cell_type": "code",
   "execution_count": 21,
   "metadata": {},
   "outputs": [
    {
     "data": {
      "image/png": "[encoded data removed]",
      "text/plain": [
       "<Figure size 432x288 with 1 Axes>"
      ]
     },
     "metadata": {
      "needs_background": "light"
     },
     "output_type": "display_data"
    }
   ],
   "source": [
    "fnames = [os.path.join(train_cats_dir, fname) for\n",
    "          fname in os.listdir(train_cats_dir)]\n",
    "img_path = fnames[3]\n",
    "img = image.load_img(img_path, target_size=(150,150))\n",
    "x = image.img_to_array(img)\n",
    "x = x.reshape((1,) + x.shape)\n",
    "i = 0\n",
    "for batch in datagen.flow(x, batch_size=1):\n",
    "    plt.figure(i)\n",
    "    imgplot = plt.imshow(image.array_to_img(batch[0]))\n",
    "    if i % 4 == 0:\n",
    "        break\n",
    "plt.show()"
   ]
  },
  {
   "cell_type": "code",
   "execution_count": 23,
   "metadata": {},
   "outputs": [
    {
     "name": "stdout",
     "output_type": "stream",
     "text": [
      "Found 2000 images belonging to 2 classes.\n",
      "Found 1000 images belonging to 2 classes.\n",
      "Epoch 1/100\n",
      "100/100 [==============================] - 26s 260ms/step - loss: 0.6916 - acc: 0.5169 - val_loss: 0.6890 - val_acc: 0.4962\n",
      "Epoch 2/100\n",
      "100/100 [==============================] - 23s 231ms/step - loss: 0.6799 - acc: 0.5606 - val_loss: 0.7163 - val_acc: 0.5071\n",
      "Epoch 3/100\n",
      "100/100 [==============================] - 23s 227ms/step - loss: 0.6604 - acc: 0.6038 - val_loss: 0.6323 - val_acc: 0.6326\n",
      "Epoch 4/100\n",
      "100/100 [==============================] - 23s 232ms/step - loss: 0.6461 - acc: 0.6231 - val_loss: 0.6186 - val_acc: 0.6456\n",
      "Epoch 5/100\n",
      "100/100 [==============================] - 23s 227ms/step - loss: 0.6231 - acc: 0.6488 - val_loss: 0.6399 - val_acc: 0.6244\n",
      "Epoch 6/100\n",
      "100/100 [==============================] - 25s 251ms/step - loss: 0.6153 - acc: 0.6597 - val_loss: 0.5658 - val_acc: 0.7023\n",
      "Epoch 7/100\n",
      "100/100 [==============================] - 23s 227ms/step - loss: 0.6015 - acc: 0.6772 - val_loss: 0.5816 - val_acc: 0.6954\n",
      "Epoch 8/100\n",
      "100/100 [==============================] - 24s 236ms/step - loss: 0.5893 - acc: 0.6894 - val_loss: 0.5763 - val_acc: 0.6939\n",
      "Epoch 9/100\n",
      "100/100 [==============================] - 23s 226ms/step - loss: 0.5861 - acc: 0.6925 - val_loss: 0.5485 - val_acc: 0.7107\n",
      "Epoch 10/100\n",
      "100/100 [==============================] - 23s 226ms/step - loss: 0.5767 - acc: 0.7031 - val_loss: 0.5646 - val_acc: 0.6942\n",
      "Epoch 11/100\n",
      "100/100 [==============================] - 24s 239ms/step - loss: 0.5705 - acc: 0.7009 - val_loss: 0.5447 - val_acc: 0.7191\n",
      "Epoch 12/100\n",
      "100/100 [==============================] - 23s 228ms/step - loss: 0.5668 - acc: 0.6969 - val_loss: 0.5055 - val_acc: 0.7481\n",
      "Epoch 13/100\n",
      "100/100 [==============================] - 23s 232ms/step - loss: 0.5536 - acc: 0.7131 - val_loss: 0.5180 - val_acc: 0.7378\n",
      "Epoch 14/100\n",
      "100/100 [==============================] - 23s 230ms/step - loss: 0.5524 - acc: 0.7153 - val_loss: 0.5027 - val_acc: 0.7494\n",
      "Epoch 15/100\n",
      "100/100 [==============================] - 24s 239ms/step - loss: 0.5435 - acc: 0.7222 - val_loss: 0.5530 - val_acc: 0.7204\n",
      "Epoch 16/100\n",
      "100/100 [==============================] - 23s 230ms/step - loss: 0.5469 - acc: 0.7147 - val_loss: 0.5030 - val_acc: 0.7610\n",
      "Epoch 17/100\n",
      "100/100 [==============================] - 23s 229ms/step - loss: 0.5380 - acc: 0.7244 - val_loss: 0.5120 - val_acc: 0.7468\n",
      "Epoch 18/100\n",
      "100/100 [==============================] - 25s 247ms/step - loss: 0.5338 - acc: 0.7287 - val_loss: 0.5179 - val_acc: 0.7294\n",
      "Epoch 19/100\n",
      "100/100 [==============================] - 23s 228ms/step - loss: 0.5333 - acc: 0.7250 - val_loss: 0.5065 - val_acc: 0.7398\n",
      "Epoch 20/100\n",
      "100/100 [==============================] - 23s 232ms/step - loss: 0.5080 - acc: 0.7375 - val_loss: 0.5705 - val_acc: 0.7055\n",
      "Epoch 21/100\n",
      "100/100 [==============================] - 23s 227ms/step - loss: 0.5107 - acc: 0.7487 - val_loss: 0.4870 - val_acc: 0.7582\n",
      "Epoch 22/100\n",
      "100/100 [==============================] - 23s 232ms/step - loss: 0.5066 - acc: 0.7459 - val_loss: 0.4828 - val_acc: 0.7603\n",
      "Epoch 23/100\n",
      "100/100 [==============================] - 24s 241ms/step - loss: 0.5060 - acc: 0.7447 - val_loss: 0.4737 - val_acc: 0.7602\n",
      "Epoch 24/100\n",
      "100/100 [==============================] - 23s 235ms/step - loss: 0.5040 - acc: 0.7578 - val_loss: 0.5208 - val_acc: 0.7403\n",
      "Epoch 25/100\n",
      "100/100 [==============================] - 23s 226ms/step - loss: 0.4912 - acc: 0.7647 - val_loss: 0.4892 - val_acc: 0.7506\n",
      "Epoch 26/100\n",
      "100/100 [==============================] - 23s 228ms/step - loss: 0.5014 - acc: 0.7475 - val_loss: 0.4803 - val_acc: 0.7646\n",
      "Epoch 27/100\n",
      "100/100 [==============================] - 22s 224ms/step - loss: 0.4919 - acc: 0.7547 - val_loss: 0.4554 - val_acc: 0.7822\n",
      "Epoch 28/100\n",
      "100/100 [==============================] - 23s 232ms/step - loss: 0.4905 - acc: 0.7509 - val_loss: 0.4952 - val_acc: 0.7614\n",
      "Epoch 29/100\n",
      "100/100 [==============================] - 23s 230ms/step - loss: 0.4903 - acc: 0.7609 - val_loss: 0.4724 - val_acc: 0.7713\n",
      "Epoch 30/100\n",
      "100/100 [==============================] - 23s 226ms/step - loss: 0.4852 - acc: 0.7722 - val_loss: 0.4966 - val_acc: 0.7506\n",
      "Epoch 31/100\n",
      "100/100 [==============================] - 24s 236ms/step - loss: 0.4877 - acc: 0.7560 - val_loss: 0.4466 - val_acc: 0.7874\n",
      "Epoch 32/100\n",
      "100/100 [==============================] - 23s 226ms/step - loss: 0.4756 - acc: 0.7622 - val_loss: 0.4623 - val_acc: 0.7751\n",
      "Epoch 33/100\n",
      "100/100 [==============================] - 23s 225ms/step - loss: 0.4736 - acc: 0.7725 - val_loss: 0.4805 - val_acc: 0.7551\n",
      "Epoch 34/100\n",
      "100/100 [==============================] - 23s 226ms/step - loss: 0.4619 - acc: 0.7800 - val_loss: 0.4474 - val_acc: 0.8048\n",
      "Epoch 35/100\n",
      "100/100 [==============================] - 24s 244ms/step - loss: 0.4680 - acc: 0.7741 - val_loss: 0.5305 - val_acc: 0.7322\n",
      "Epoch 36/100\n",
      "100/100 [==============================] - 23s 230ms/step - loss: 0.4622 - acc: 0.7791 - val_loss: 0.4614 - val_acc: 0.7906\n",
      "Epoch 37/100\n",
      "100/100 [==============================] - 23s 226ms/step - loss: 0.4743 - acc: 0.7691 - val_loss: 0.4307 - val_acc: 0.8008\n",
      "Epoch 38/100\n",
      "100/100 [==============================] - 23s 233ms/step - loss: 0.4496 - acc: 0.7859 - val_loss: 0.4415 - val_acc: 0.7809\n",
      "Epoch 39/100\n",
      "100/100 [==============================] - 23s 225ms/step - loss: 0.4672 - acc: 0.7691 - val_loss: 0.4959 - val_acc: 0.7627\n",
      "Epoch 40/100\n",
      "100/100 [==============================] - 25s 249ms/step - loss: 0.4571 - acc: 0.7862 - val_loss: 0.5133 - val_acc: 0.7461\n",
      "Epoch 41/100\n",
      "100/100 [==============================] - 23s 227ms/step - loss: 0.4557 - acc: 0.7856 - val_loss: 0.4881 - val_acc: 0.7738\n",
      "Epoch 42/100\n",
      "100/100 [==============================] - 23s 226ms/step - loss: 0.4524 - acc: 0.7859 - val_loss: 0.4528 - val_acc: 0.7938\n",
      "Epoch 43/100\n",
      "100/100 [==============================] - 23s 228ms/step - loss: 0.4496 - acc: 0.7809 - val_loss: 0.5157 - val_acc: 0.7610\n",
      "Epoch 44/100\n",
      "100/100 [==============================] - 23s 226ms/step - loss: 0.4367 - acc: 0.8006 - val_loss: 0.4348 - val_acc: 0.7970\n",
      "Epoch 45/100\n",
      "100/100 [==============================] - 24s 238ms/step - loss: 0.4474 - acc: 0.7906 - val_loss: 0.5709 - val_acc: 0.6991\n",
      "Epoch 46/100\n",
      "100/100 [==============================] - 23s 225ms/step - loss: 0.4497 - acc: 0.7837 - val_loss: 0.5271 - val_acc: 0.7449\n",
      "Epoch 47/100\n",
      "100/100 [==============================] - 24s 236ms/step - loss: 0.4401 - acc: 0.7984 - val_loss: 0.4434 - val_acc: 0.7970\n",
      "Epoch 48/100\n",
      "100/100 [==============================] - 23s 228ms/step - loss: 0.4243 - acc: 0.8034 - val_loss: 0.4256 - val_acc: 0.8093\n",
      "Epoch 49/100\n",
      "100/100 [==============================] - 23s 225ms/step - loss: 0.4322 - acc: 0.8028 - val_loss: 0.4074 - val_acc: 0.8192\n",
      "Epoch 50/100\n",
      "100/100 [==============================] - 23s 225ms/step - loss: 0.4234 - acc: 0.8025 - val_loss: 0.4739 - val_acc: 0.7764\n",
      "Epoch 51/100\n",
      "100/100 [==============================] - 22s 223ms/step - loss: 0.4303 - acc: 0.7991 - val_loss: 0.4348 - val_acc: 0.7944\n",
      "Epoch 52/100\n",
      "100/100 [==============================] - 24s 245ms/step - loss: 0.4358 - acc: 0.7975 - val_loss: 0.5096 - val_acc: 0.7629\n",
      "Epoch 53/100\n",
      "100/100 [==============================] - 23s 226ms/step - loss: 0.4229 - acc: 0.8037 - val_loss: 0.4459 - val_acc: 0.7925\n",
      "Epoch 54/100\n",
      "100/100 [==============================] - 23s 231ms/step - loss: 0.4355 - acc: 0.7900 - val_loss: 0.4291 - val_acc: 0.8003\n",
      "Epoch 55/100\n",
      "100/100 [==============================] - 23s 226ms/step - loss: 0.4119 - acc: 0.8094 - val_loss: 0.4665 - val_acc: 0.7678\n",
      "Epoch 56/100\n",
      "100/100 [==============================] - 24s 237ms/step - loss: 0.4174 - acc: 0.8031 - val_loss: 0.4919 - val_acc: 0.7629\n",
      "Epoch 57/100\n",
      "100/100 [==============================] - 24s 235ms/step - loss: 0.4259 - acc: 0.8066 - val_loss: 0.4050 - val_acc: 0.8061\n",
      "Epoch 58/100\n",
      "100/100 [==============================] - 23s 226ms/step - loss: 0.4059 - acc: 0.8122 - val_loss: 0.4254 - val_acc: 0.8109\n",
      "Epoch 59/100\n",
      "100/100 [==============================] - 23s 227ms/step - loss: 0.4137 - acc: 0.8147 - val_loss: 0.4148 - val_acc: 0.8151\n",
      "Epoch 60/100\n"
     ]
    },
    {
     "name": "stdout",
     "output_type": "stream",
     "text": [
      "100/100 [==============================] - 22s 224ms/step - loss: 0.3966 - acc: 0.8240 - val_loss: 0.4776 - val_acc: 0.7703\n",
      "Epoch 61/100\n",
      "100/100 [==============================] - 23s 231ms/step - loss: 0.4208 - acc: 0.8119 - val_loss: 0.4194 - val_acc: 0.8189\n",
      "Epoch 62/100\n",
      "100/100 [==============================] - 23s 227ms/step - loss: 0.3991 - acc: 0.8147 - val_loss: 0.4392 - val_acc: 0.8008\n",
      "Epoch 63/100\n",
      "100/100 [==============================] - 24s 235ms/step - loss: 0.4008 - acc: 0.8166 - val_loss: 0.5076 - val_acc: 0.7726\n",
      "Epoch 64/100\n",
      "100/100 [==============================] - 22s 225ms/step - loss: 0.3978 - acc: 0.8181 - val_loss: 0.4106 - val_acc: 0.8138\n",
      "Epoch 65/100\n",
      "100/100 [==============================] - 23s 226ms/step - loss: 0.3980 - acc: 0.8194 - val_loss: 0.4355 - val_acc: 0.7919\n",
      "Epoch 66/100\n",
      "100/100 [==============================] - 23s 225ms/step - loss: 0.3968 - acc: 0.8247 - val_loss: 0.5276 - val_acc: 0.7506\n",
      "Epoch 67/100\n",
      "100/100 [==============================] - 23s 225ms/step - loss: 0.3951 - acc: 0.8197 - val_loss: 0.4920 - val_acc: 0.7735\n",
      "Epoch 68/100\n",
      "100/100 [==============================] - 23s 228ms/step - loss: 0.3784 - acc: 0.8297 - val_loss: 0.4436 - val_acc: 0.8009\n",
      "Epoch 69/100\n",
      "100/100 [==============================] - 24s 240ms/step - loss: 0.3894 - acc: 0.8238 - val_loss: 0.5103 - val_acc: 0.7728\n",
      "Epoch 70/100\n",
      "100/100 [==============================] - 23s 233ms/step - loss: 0.3826 - acc: 0.8225 - val_loss: 0.4152 - val_acc: 0.8125\n",
      "Epoch 71/100\n",
      "100/100 [==============================] - 23s 226ms/step - loss: 0.3878 - acc: 0.8225 - val_loss: 0.4292 - val_acc: 0.8084\n",
      "Epoch 72/100\n",
      "100/100 [==============================] - 24s 238ms/step - loss: 0.3784 - acc: 0.8319 - val_loss: 0.4966 - val_acc: 0.7867\n",
      "Epoch 73/100\n",
      "100/100 [==============================] - 23s 225ms/step - loss: 0.3762 - acc: 0.8350 - val_loss: 0.4649 - val_acc: 0.8061\n",
      "Epoch 74/100\n",
      "100/100 [==============================] - 23s 233ms/step - loss: 0.3870 - acc: 0.8253 - val_loss: 0.4582 - val_acc: 0.7919\n",
      "Epoch 75/100\n",
      "100/100 [==============================] - 23s 228ms/step - loss: 0.3762 - acc: 0.8316 - val_loss: 0.5298 - val_acc: 0.7719\n",
      "Epoch 76/100\n",
      "100/100 [==============================] - 22s 225ms/step - loss: 0.3826 - acc: 0.8278 - val_loss: 0.4813 - val_acc: 0.7792\n",
      "Epoch 77/100\n",
      "100/100 [==============================] - 23s 231ms/step - loss: 0.3679 - acc: 0.8272 - val_loss: 0.3918 - val_acc: 0.8293\n",
      "Epoch 78/100\n",
      "100/100 [==============================] - 22s 224ms/step - loss: 0.3593 - acc: 0.8381 - val_loss: 0.4554 - val_acc: 0.8084\n",
      "Epoch 79/100\n",
      "100/100 [==============================] - 24s 236ms/step - loss: 0.3652 - acc: 0.8372 - val_loss: 0.4613 - val_acc: 0.7932\n",
      "Epoch 80/100\n",
      "100/100 [==============================] - 23s 226ms/step - loss: 0.3720 - acc: 0.8350 - val_loss: 0.4357 - val_acc: 0.80803810 - acc: 0.8 - ETA: 4s \n",
      "Epoch 81/100\n",
      "100/100 [==============================] - 25s 246ms/step - loss: 0.3574 - acc: 0.8403 - val_loss: 0.5082 - val_acc: 0.7862\n",
      "Epoch 82/100\n",
      "100/100 [==============================] - 23s 226ms/step - loss: 0.3747 - acc: 0.8259 - val_loss: 0.4229 - val_acc: 0.8260\n",
      "Epoch 83/100\n",
      "100/100 [==============================] - 22s 224ms/step - loss: 0.3561 - acc: 0.8344 - val_loss: 0.4870 - val_acc: 0.7963\n",
      "Epoch 84/100\n",
      "100/100 [==============================] - 23s 229ms/step - loss: 0.3714 - acc: 0.8350 - val_loss: 0.5476 - val_acc: 0.7841\n",
      "Epoch 85/100\n",
      "100/100 [==============================] - 23s 225ms/step - loss: 0.3628 - acc: 0.8350 - val_loss: 0.4290 - val_acc: 0.8109\n",
      "Epoch 86/100\n",
      "100/100 [==============================] - 25s 247ms/step - loss: 0.3529 - acc: 0.8444 - val_loss: 0.3848 - val_acc: 0.8299\n",
      "Epoch 87/100\n",
      "100/100 [==============================] - 23s 225ms/step - loss: 0.3552 - acc: 0.8391 - val_loss: 0.3847 - val_acc: 0.8382\n",
      "Epoch 88/100\n",
      "100/100 [==============================] - 24s 237ms/step - loss: 0.3506 - acc: 0.8441 - val_loss: 0.4570 - val_acc: 0.8048\n",
      "Epoch 89/100\n",
      "100/100 [==============================] - 23s 229ms/step - loss: 0.3428 - acc: 0.8488 - val_loss: 0.4158 - val_acc: 0.8241\n",
      "Epoch 90/100\n",
      "100/100 [==============================] - 22s 224ms/step - loss: 0.3608 - acc: 0.8447 - val_loss: 0.4413 - val_acc: 0.8173\n",
      "Epoch 91/100\n",
      "100/100 [==============================] - 23s 234ms/step - loss: 0.3502 - acc: 0.8500 - val_loss: 0.4408 - val_acc: 0.8022\n",
      "Epoch 92/100\n",
      "100/100 [==============================] - 22s 224ms/step - loss: 0.3417 - acc: 0.8497 - val_loss: 0.4001 - val_acc: 0.8338\n",
      "Epoch 93/100\n",
      "100/100 [==============================] - 23s 230ms/step - loss: 0.3466 - acc: 0.8531 - val_loss: 0.4169 - val_acc: 0.8215\n",
      "Epoch 94/100\n",
      "100/100 [==============================] - 23s 229ms/step - loss: 0.3493 - acc: 0.8428 - val_loss: 0.4357 - val_acc: 0.8096\n",
      "Epoch 95/100\n",
      "100/100 [==============================] - 24s 235ms/step - loss: 0.3461 - acc: 0.8506 - val_loss: 0.4522 - val_acc: 0.8015\n",
      "Epoch 96/100\n",
      "100/100 [==============================] - 22s 225ms/step - loss: 0.3397 - acc: 0.8362 - val_loss: 0.3997 - val_acc: 0.8389\n",
      "Epoch 97/100\n",
      "100/100 [==============================] - 22s 225ms/step - loss: 0.3370 - acc: 0.8534 - val_loss: 0.4285 - val_acc: 0.8109\n",
      "Epoch 98/100\n",
      "100/100 [==============================] - 24s 245ms/step - loss: 0.3419 - acc: 0.8522 - val_loss: 0.3909 - val_acc: 0.8325\n",
      "Epoch 99/100\n",
      "100/100 [==============================] - 23s 227ms/step - loss: 0.3179 - acc: 0.8631 - val_loss: 0.5323 - val_acc: 0.7798\n",
      "Epoch 100/100\n",
      "100/100 [==============================] - 23s 228ms/step - loss: 0.3250 - acc: 0.8544 - val_loss: 0.3657 - val_acc: 0.8441\n"
     ]
    }
   ],
   "source": [
    "model = models.Sequential()\n",
    "model.add(layers.Conv2D(32, (3,3), activation='relu',\n",
    "                        input_shape=(150, 150, 3)))\n",
    "model.add(layers.MaxPooling2D((2,2)))\n",
    "model.add(layers.Conv2D(64, (3,3), activation='relu'))\n",
    "model.add(layers.MaxPooling2D((2,2)))\n",
    "model.add(layers.Conv2D(128, (3,3), activation='relu'))\n",
    "model.add(layers.MaxPooling2D((2,2)))\n",
    "model.add(layers.Conv2D(128, (3,3), activation='relu'))\n",
    "model.add(layers.MaxPooling2D((2,2)))\n",
    "model.add(layers.Flatten())\n",
    "model.add(layers.Dropout(0.5))\n",
    "model.add(layers.Dense(512, activation='relu'))\n",
    "model.add(layers.Dense(1, activation='sigmoid'))\n",
    "\n",
    "model.compile(loss='binary_crossentropy',\n",
    "              optimizer=optimizers.RMSprop(lr=1e-4),\n",
    "              metrics=['acc'])\n",
    "train_datagen = ImageDataGenerator(\n",
    "    rescale=1./255,\n",
    "    rotation_range=40,\n",
    "    width_shift_range=0.2,\n",
    "    height_shift_range=0.2,\n",
    "    shear_range=0.2,\n",
    "    zoom_range=0.2,\n",
    "    horizontal_flip=True,)\n",
    "\n",
    "test_datagen = ImageDataGenerator(rescale=1./255)\n",
    "\n",
    "train_generator = train_datagen.flow_from_directory(\n",
    "                train_dir,\n",
    "                target_size=(150, 150),\n",
    "                batch_size=32,\n",
    "                class_mode='binary')\n",
    "\n",
    "validation_generator = test_datagen.flow_from_directory(\n",
    "                validation_dir,\n",
    "                target_size=(150, 150),\n",
    "                batch_size=32,\n",
    "                class_mode='binary')\n",
    "\n",
    "history = model.fit_generator(\n",
    "        train_generator,\n",
    "        steps_per_epoch=100,\n",
    "        epochs=100,\n",
    "        validation_data=validation_generator,\n",
    "        validation_steps=50)"
   ]
  },
  {
   "cell_type": "code",
   "execution_count": 24,
   "metadata": {},
   "outputs": [],
   "source": [
    "model.save('cats_and_dogs_small_2.h5')"
   ]
  },
  {
   "cell_type": "code",
   "execution_count": 25,
   "metadata": {},
   "outputs": [
    {
     "data": {
      "image/png": "[encoded data removed]",
      "text/plain": [
       "<Figure size 432x288 with 1 Axes>"
      ]
     },
     "metadata": {
      "needs_background": "light"
     },
     "output_type": "display_data"
    },
    {
     "data": {
      "image/png": "[encoded data removed]",
      "text/plain": [
       "<Figure size 432x288 with 1 Axes>"
      ]
     },
     "metadata": {
      "needs_background": "light"
     },
     "output_type": "display_data"
    }
   ],
   "source": [
    "acc = history.history['acc']\n",
    "val_acc = history.history['val_acc']\n",
    "loss = history.history['loss']\n",
    "val_loss = history.history['val_loss']\n",
    "\n",
    "epochs = range(1, len(acc) + 1)\n",
    "\n",
    "plt.plot(epochs, acc, 'bo', label='Traning acc')\n",
    "plt.plot(epochs, val_acc, 'b', label='Validation acc')\n",
    "plt.title('Training and validation accuracy')\n",
    "plt.legend()\n",
    "\n",
    "plt.figure()\n",
    "\n",
    "plt.plot(epochs, loss, 'bo', label='Training loss')\n",
    "plt.plot(epochs, val_loss, 'b', label='Validation loss')\n",
    "plt.title('Training and validation loss')\n",
    "plt.legend()\n",
    "\n",
    "plt.show()"
   ]
  },
  {
   "cell_type": "code",
   "execution_count": null,
   "metadata": {},
   "outputs": [],
   "source": []
  }
 ],
 "metadata": {
  "kernelspec": {
   "display_name": "Python 3",
   "language": "python",
   "name": "python3"
  },
  "language_info": {
   "codemirror_mode": {
    "name": "ipython",
    "version": 3
   },
   "file_extension": ".py",
   "mimetype": "text/x-python",
   "name": "python",
   "nbconvert_exporter": "python",
   "pygments_lexer": "ipython3",
   "version": "3.6.7"
  }
 },
 "nbformat": 4,
 "nbformat_minor": 2
}
