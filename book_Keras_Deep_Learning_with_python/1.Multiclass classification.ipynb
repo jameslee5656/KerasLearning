{
 "cells": [
  {
   "cell_type": "code",
   "execution_count": 43,
   "metadata": {},
   "outputs": [],
   "source": [
    "from keras.datasets import reuters\n",
    "#Reuters data sets\n",
    "from keras.utils.np_utils import to_categorical\n",
    "from keras import models\n",
    "from keras import layers\n",
    "import numpy as np\n",
    "import matplotlib.pyplot as plt"
   ]
  },
  {
   "cell_type": "code",
   "execution_count": 30,
   "metadata": {},
   "outputs": [],
   "source": [
    "(train_data,train_labels), (test_data, test_labels) = reuters.load_data(num_words=10000)"
   ]
  },
  {
   "cell_type": "code",
   "execution_count": 31,
   "metadata": {},
   "outputs": [],
   "source": [
    "word_index = reuters.get_word_index()\n",
    "word_index = dict([(value, key) for (key, value) in word_index.items()])\n",
    "decode_newswire = ' '.join([reverse_word_index.get(i - 3, '?') for i in train_data[0]])"
   ]
  },
  {
   "cell_type": "code",
   "execution_count": 32,
   "metadata": {},
   "outputs": [
    {
     "data": {
      "text/plain": [
       "'? ? ? said as a result of its december acquisition of space co it expects earnings per share in 1987 of 1 15 to 1 30 dlrs per share up from 70 cts in 1986 the company said pretax net should rise to nine to 10 mln dlrs from six mln dlrs in 1986 and rental operation revenues to 19 to 22 mln dlrs from 12 5 mln dlrs it said cash flow per share this year should be 2 50 to three dlrs reuter 3'"
      ]
     },
     "execution_count": 32,
     "metadata": {},
     "output_type": "execute_result"
    }
   ],
   "source": [
    "decode_newswire"
   ]
  },
  {
   "cell_type": "code",
   "execution_count": 33,
   "metadata": {},
   "outputs": [
    {
     "data": {
      "text/plain": [
       "30979"
      ]
     },
     "execution_count": 33,
     "metadata": {},
     "output_type": "execute_result"
    }
   ],
   "source": [
    "len(word_index)"
   ]
  },
  {
   "cell_type": "code",
   "execution_count": 34,
   "metadata": {},
   "outputs": [
    {
     "name": "stdout",
     "output_type": "stream",
     "text": [
      "\n"
     ]
    }
   ],
   "source": [
    "def vectorize_sequences(sequences, dimensions=10000):\n",
    "    results = np.zeros((len(sequences), dimensions))\n",
    "    for i, sequence in enumerate(sequences):\n",
    "        results[i, sequence] = 1\n",
    "    return results\n",
    "print()\n",
    "x_train = vectorize_sequences(train_data)\n",
    "x_test = vectorize_sequences(test_data)"
   ]
  },
  {
   "cell_type": "code",
   "execution_count": 35,
   "metadata": {},
   "outputs": [],
   "source": [
    "def to_one_hot(labels, dimensions=46):\n",
    "    results = np.zeros((len(labels), dimensions))\n",
    "    for i, label in enumerate(labels):\n",
    "        results[i, label] = 1\n",
    "    return results\n",
    "one_hot_train_labels = to_one_hot(train_labels)\n",
    "one_hot_test_labels = to_one_hot(test_labels)\n",
    "# ===>> same as to_categorical\n",
    "one_hot_train_labels = to_categorical(train_labels)\n",
    "one_hot_test_labels = to_categorical(test_labels)"
   ]
  },
  {
   "cell_type": "code",
   "execution_count": 47,
   "metadata": {},
   "outputs": [],
   "source": [
    "#Our purpose is to classify into 46 category\n",
    "model = models.Sequential()\n",
    "model.add(layers.Dense(1000, activation='relu', input_shape=(10000,)))\n",
    "model.add(layers.Dense(546, activation='relu'))\n",
    "model.add(layers.Dense(128, activation='relu'))\n",
    "model.add(layers.Dense(46, activation='softmax'))\n",
    "model.compile(optimizer='rmsprop',\n",
    "              loss='categorical_crossentropy',\n",
    "              metrics=['accuracy'])"
   ]
  },
  {
   "cell_type": "code",
   "execution_count": 48,
   "metadata": {},
   "outputs": [],
   "source": [
    "x_val = x_train[:1000]\n",
    "partial_x_train = x_train[1000:]\n",
    "y_val = one_hot_train_labels[:1000]\n",
    "partial_y_label = one_hot_train_labels[1000:]"
   ]
  },
  {
   "cell_type": "code",
   "execution_count": 49,
   "metadata": {},
   "outputs": [
    {
     "name": "stdout",
     "output_type": "stream",
     "text": [
      "Train on 898 samples, validate on 8084 samples\n",
      "Epoch 1/20\n",
      "898/898 [==============================] - 7s 8ms/step - loss: 3.4358 - acc: 0.2216 - val_loss: 2.9819 - val_acc: 0.4707\n",
      "Epoch 2/20\n",
      "898/898 [==============================] - 4s 4ms/step - loss: 2.6971 - acc: 0.4332 - val_loss: 2.7896 - val_acc: 0.5597\n",
      "Epoch 3/20\n",
      "898/898 [==============================] - 4s 4ms/step - loss: 2.2393 - acc: 0.6915 - val_loss: 1.7814 - val_acc: 0.5761\n",
      "Epoch 4/20\n",
      "898/898 [==============================] - 4s 4ms/step - loss: 1.1944 - acc: 0.7205 - val_loss: 1.5452 - val_acc: 0.6650\n",
      "Epoch 5/20\n",
      "898/898 [==============================] - 4s 4ms/step - loss: 0.7848 - acc: 0.8163 - val_loss: 2.2285 - val_acc: 0.4294\n",
      "Epoch 6/20\n",
      "898/898 [==============================] - 4s 4ms/step - loss: 1.0968 - acc: 0.6670 - val_loss: 1.5587 - val_acc: 0.6817\n",
      "Epoch 7/20\n",
      "898/898 [==============================] - 4s 4ms/step - loss: 0.5082 - acc: 0.9076 - val_loss: 1.3628 - val_acc: 0.7088\n",
      "Epoch 8/20\n",
      "898/898 [==============================] - 4s 4ms/step - loss: 0.2981 - acc: 0.9465 - val_loss: 1.3448 - val_acc: 0.7147\n",
      "Epoch 9/20\n",
      "898/898 [==============================] - 4s 4ms/step - loss: 0.2015 - acc: 0.9688 - val_loss: 1.3504 - val_acc: 0.7208\n",
      "Epoch 10/20\n",
      "898/898 [==============================] - 4s 4ms/step - loss: 0.1367 - acc: 0.9822 - val_loss: 1.3470 - val_acc: 0.7253\n",
      "Epoch 11/20\n",
      "898/898 [==============================] - 4s 4ms/step - loss: 0.0932 - acc: 0.9844 - val_loss: 1.3733 - val_acc: 0.7213\n",
      "Epoch 12/20\n",
      "898/898 [==============================] - 4s 4ms/step - loss: 0.0627 - acc: 0.9922 - val_loss: 1.3798 - val_acc: 0.7275\n",
      "Epoch 13/20\n",
      "898/898 [==============================] - 4s 4ms/step - loss: 0.0441 - acc: 0.9944 - val_loss: 1.3783 - val_acc: 0.7298\n",
      "Epoch 14/20\n",
      "898/898 [==============================] - 4s 4ms/step - loss: 0.0331 - acc: 0.9955 - val_loss: 1.4105 - val_acc: 0.7293\n",
      "Epoch 15/20\n",
      "898/898 [==============================] - 4s 4ms/step - loss: 0.0255 - acc: 0.9944 - val_loss: 1.4385 - val_acc: 0.7255\n",
      "Epoch 16/20\n",
      "898/898 [==============================] - 4s 4ms/step - loss: 0.0195 - acc: 0.9978 - val_loss: 1.4326 - val_acc: 0.7260\n",
      "Epoch 17/20\n",
      "898/898 [==============================] - 4s 4ms/step - loss: 0.0172 - acc: 0.9967 - val_loss: 1.4395 - val_acc: 0.7291\n",
      "Epoch 18/20\n",
      "898/898 [==============================] - 4s 4ms/step - loss: 0.0117 - acc: 0.9967 - val_loss: 1.4478 - val_acc: 0.7329\n",
      "Epoch 19/20\n",
      "898/898 [==============================] - 4s 4ms/step - loss: 0.0114 - acc: 0.9967 - val_loss: 1.4983 - val_acc: 0.7244\n",
      "Epoch 20/20\n",
      "898/898 [==============================] - 4s 4ms/step - loss: 0.0113 - acc: 0.9978 - val_loss: 1.4991 - val_acc: 0.7237\n"
     ]
    }
   ],
   "source": [
    "history = model.fit(x_train,\n",
    "                    one_hot_train_labels,\n",
    "                    epochs = 20,\n",
    "                    batch_size = 512,\n",
    "                    validation_split = 0.9)"
   ]
  },
  {
   "cell_type": "code",
   "execution_count": 51,
   "metadata": {},
   "outputs": [
    {
     "data": {
      "image/png": "[encoded data removed]",
      "text/plain": [
       "<Figure size 432x288 with 1 Axes>"
      ]
     },
     "metadata": {
      "needs_background": "light"
     },
     "output_type": "display_data"
    }
   ],
   "source": [
    "loss = history.history['loss']\n",
    "val_loss = history.history['val_loss']\n",
    "epochs = range(1,len(loss) + 1)\n",
    "plt.plot(epochs, loss, 'bo', label='Training loss')\n",
    "plt.plot(epochs, val_loss, 'b', label='Validation loss')\n",
    "plt.title('Training and validation loss')\n",
    "plt.xlabel('Epochs')\n",
    "plt.ylabel('Loss')\n",
    "plt.legend()\n",
    "\n",
    "plt.show()"
   ]
  },
  {
   "cell_type": "code",
   "execution_count": 52,
   "metadata": {},
   "outputs": [
    {
     "data": {
      "image/png": "[encoded data removed]",
      "text/plain": [
       "<Figure size 432x288 with 1 Axes>"
      ]
     },
     "metadata": {
      "needs_background": "light"
     },
     "output_type": "display_data"
    }
   ],
   "source": [
    "acc = history.history['acc']\n",
    "val_acc = history.history['val_acc']\n",
    "\n",
    "plt.plot(epochs, acc, 'bo', label='Training loss')\n",
    "plt.plot(epochs, val_acc, 'b', label='Validation loss')\n",
    "plt.title('Training and validation accuracy')\n",
    "plt.xlabel('Epochs')\n",
    "plt.ylabel('Accuracy')\n",
    "plt.legend()\n",
    "\n",
    "plt.show()"
   ]
  },
  {
   "cell_type": "code",
   "execution_count": null,
   "metadata": {},
   "outputs": [],
   "source": []
  }
 ],
 "metadata": {
  "kernelspec": {
   "display_name": "Python 3",
   "language": "python",
   "name": "python3"
  },
  "language_info": {
   "codemirror_mode": {
    "name": "ipython",
    "version": 3
   },
   "file_extension": ".py",
   "mimetype": "text/x-python",
   "name": "python",
   "nbconvert_exporter": "python",
   "pygments_lexer": "ipython3",
   "version": "3.6.7"
  }
 },
 "nbformat": 4,
 "nbformat_minor": 2
}
