{
 "cells": [
  {
   "cell_type": "code",
   "execution_count": 1,
   "metadata": {},
   "outputs": [
    {
     "name": "stdout",
     "output_type": "stream",
     "text": [
      "['\"Date Time\"', '\"p (mbar)\"', '\"T (degC)\"', '\"Tpot (K)\"', '\"Tdew (degC)\"', '\"rh (%)\"', '\"VPmax (mbar)\"', '\"VPact (mbar)\"', '\"VPdef (mbar)\"', '\"sh (g/kg)\"', '\"H2OC (mmol/mol)\"', '\"rho (g/m**3)\"', '\"wv (m/s)\"', '\"max. wv (m/s)\"', '\"wd (deg)\"']\n",
      "420551\n"
     ]
    }
   ],
   "source": [
    "import os\n",
    "\n",
    "data_dir = '/home/james/Program/KerasLearning/data/jena_climate'\n",
    "fname = os.path.join(data_dir, 'jena_climate_2009_2016.csv')\n",
    "\n",
    "f = open(fname)\n",
    "data = f.read()\n",
    "f.close()\n",
    "\n",
    "lines = data.split('\\n')\n",
    "header = lines[0].split(',')\n",
    "lines = lines[1:]\n",
    "\n",
    "print(header)\n",
    "print(len(lines))"
   ]
  },
  {
   "cell_type": "code",
   "execution_count": 2,
   "metadata": {},
   "outputs": [
    {
     "name": "stderr",
     "output_type": "stream",
     "text": [
      "Using TensorFlow backend.\n"
     ]
    },
    {
     "data": {
      "text/plain": [
       "['/job:localhost/replica:0/task:0/device:GPU:0']"
      ]
     },
     "execution_count": 2,
     "metadata": {},
     "output_type": "execute_result"
    }
   ],
   "source": [
    "from keras import backend as K\n",
    "K.tensorflow_backend._get_available_gpus()"
   ]
  },
  {
   "cell_type": "code",
   "execution_count": 3,
   "metadata": {},
   "outputs": [],
   "source": [
    "import numpy as np\n",
    "\n",
    "float_data = np.zeros((len(lines), len(header) - 1))\n",
    "for i, line in enumerate(lines):\n",
    "    values= [float(x) for  x in line.split(',')[1:]]\n",
    "    float_data[i, :] = values"
   ]
  },
  {
   "cell_type": "code",
   "execution_count": 4,
   "metadata": {},
   "outputs": [
    {
     "data": {
      "text/plain": [
       "[<matplotlib.lines.Line2D at 0x7fe85c160be0>]"
      ]
     },
     "execution_count": 4,
     "metadata": {},
     "output_type": "execute_result"
    }
   ],
   "source": [
    "from matplotlib import pyplot as plt\n",
    "\n",
    "temp = float_data[:, 1] # temperature\n",
    "plt.plot(range(len(temp)), temp)"
   ]
  },
  {
   "cell_type": "code",
   "execution_count": 5,
   "metadata": {},
   "outputs": [
    {
     "data": {
      "text/plain": [
       "[<matplotlib.lines.Line2D at 0x7fe85c09cc50>]"
      ]
     },
     "execution_count": 5,
     "metadata": {},
     "output_type": "execute_result"
    },
    {
     "data": {
      "image/png": "[encoded data removed]",
      "text/plain": [
       "<Figure size 432x288 with 1 Axes>"
      ]
     },
     "metadata": {
      "needs_background": "light"
     },
     "output_type": "display_data"
    }
   ],
   "source": [
    "# Ten day`s plot\n",
    "plt.plot(range(1440), temp[:1440])"
   ]
  },
  {
   "cell_type": "code",
   "execution_count": 6,
   "metadata": {},
   "outputs": [],
   "source": [
    "mean = float_data[:200000].mean(axis=0)\n",
    "float_data -= mean\n",
    "std = float_data[:20000].std(axis=0)\n",
    "float_data /= std"
   ]
  },
  {
   "cell_type": "code",
   "execution_count": 7,
   "metadata": {},
   "outputs": [],
   "source": [
    "def generator(data, lookback, delay, min_index, max_index,\n",
    "              shuffle=False, batch_size=128, step=6):\n",
    "    if max_index is None:\n",
    "        max_index = len(data) - delay - 1\n",
    "    i = min_index + lookback\n",
    "    while 1:\n",
    "        if shuffle:\n",
    "            rows = np.random.randint(\n",
    "                    min_index + lookback, max_index, size=batch_size)\n",
    "        else:\n",
    "            if i + batch_size >= max_index:\n",
    "                i = min_index + lookback\n",
    "            rows = np.arange(i, min(i + batch_size, max_index))\n",
    "            i += len(rows)\n",
    "        samples = np.zeros((len(rows),\n",
    "                            lookback // step,\n",
    "                            data.shape[-1]))\n",
    "        targets = np.zeros((len(rows),))\n",
    "        for j, row in enumerate(rows):\n",
    "            indices = range(rows[j] - lookback, rows[j], step)\n",
    "            samples[j] = data[indices]\n",
    "            targets[j] = data[rows[j] + delay][1]\n",
    "        yield samples, targets"
   ]
  },
  {
   "cell_type": "code",
   "execution_count": 8,
   "metadata": {},
   "outputs": [],
   "source": [
    "lookback = 1440\n",
    "step = 6\n",
    "delay = 144\n",
    "batch_size = 128\n",
    "\n",
    "train_gen = generator(float_data,\n",
    "                      lookback=lookback,\n",
    "                      delay=delay,\n",
    "                      min_index=0,\n",
    "                      max_index=200000,\n",
    "                      shuffle=True,\n",
    "                      step=step,\n",
    "                      batch_size=batch_size)\n",
    "\n",
    "val_gen = generator(float_data,\n",
    "                      lookback=lookback,\n",
    "                      delay=delay,\n",
    "                      min_index=200001,\n",
    "                      max_index=300000,\n",
    "                      step=step,\n",
    "                      batch_size=batch_size)\n",
    "\n",
    "test_gen = generator(float_data,\n",
    "                      lookback=lookback,\n",
    "                      delay=delay,\n",
    "                      min_index=300001,\n",
    "                      max_index=None,\n",
    "                      step=step,\n",
    "                      batch_size=batch_size)\n",
    "\n",
    "val_steps = (300000 - 200001 - lookback) // batch_size\n",
    "test_steps = (len(float_data) - 300001 - lookback) // batch_size"
   ]
  },
  {
   "cell_type": "code",
   "execution_count": 9,
   "metadata": {},
   "outputs": [],
   "source": [
    "from IPython.display import clear_output"
   ]
  },
  {
   "cell_type": "code",
   "execution_count": 10,
   "metadata": {},
   "outputs": [],
   "source": [
    "def evaluate_naive_method():\n",
    "    batch_maes = []\n",
    "    for step in range(val_steps):\n",
    "        clear_output(wait=True)\n",
    "        print(step)\n",
    "        samples, targets = next(val_gen)\n",
    "        preds = samples[:,-1,1]\n",
    "        mae = np.mean(np.abs(preds - targets))\n",
    "        batch_maes.append(mae)\n",
    "    print(np.mean(batch_maes))"
   ]
  },
  {
   "cell_type": "code",
   "execution_count": 11,
   "metadata": {},
   "outputs": [
    {
     "name": "stdout",
     "output_type": "stream",
     "text": [
      "768\n",
      "0.335517562861696\n"
     ]
    }
   ],
   "source": [
    "evaluate_naive_method()"
   ]
  },
  {
   "cell_type": "code",
   "execution_count": 12,
   "metadata": {},
   "outputs": [
    {
     "data": {
      "text/plain": [
       "2.2169252476686383"
      ]
     },
     "execution_count": 12,
     "metadata": {},
     "output_type": "execute_result"
    }
   ],
   "source": [
    "celsius_mae = 0.29 * std[1]\n",
    "celsius_mae"
   ]
  },
  {
   "cell_type": "code",
   "execution_count": 13,
   "metadata": {},
   "outputs": [
    {
     "name": "stdout",
     "output_type": "stream",
     "text": [
      "Epoch 1/20\n",
      "500/500 [==============================] - 7s 14ms/step - loss: 1.6056 - val_loss: 0.5099\n",
      "Epoch 2/20\n",
      "500/500 [==============================] - 7s 13ms/step - loss: 0.4638 - val_loss: 0.4096\n",
      "Epoch 3/20\n",
      "500/500 [==============================] - 7s 13ms/step - loss: 0.3326 - val_loss: 0.3561\n",
      "Epoch 4/20\n",
      "500/500 [==============================] - 7s 14ms/step - loss: 0.3123 - val_loss: 0.3416\n",
      "Epoch 5/20\n",
      "500/500 [==============================] - 7s 13ms/step - loss: 0.2983 - val_loss: 0.3778\n",
      "Epoch 6/20\n",
      "500/500 [==============================] - 7s 14ms/step - loss: 0.2911 - val_loss: 0.3475\n",
      "Epoch 7/20\n",
      "500/500 [==============================] - 7s 14ms/step - loss: 0.2836 - val_loss: 0.3585\n",
      "Epoch 8/20\n",
      "500/500 [==============================] - 7s 14ms/step - loss: 0.2776 - val_loss: 0.3524\n",
      "Epoch 9/20\n",
      "500/500 [==============================] - 7s 14ms/step - loss: 0.2703 - val_loss: 0.4015\n",
      "Epoch 10/20\n",
      "500/500 [==============================] - 7s 14ms/step - loss: 0.2663 - val_loss: 0.3791\n",
      "Epoch 11/20\n",
      "500/500 [==============================] - 7s 14ms/step - loss: 0.2626 - val_loss: 0.3671\n",
      "Epoch 12/20\n",
      "500/500 [==============================] - 7s 14ms/step - loss: 0.2579 - val_loss: 0.4033\n",
      "Epoch 13/20\n",
      "500/500 [==============================] - 7s 14ms/step - loss: 0.2565 - val_loss: 0.3924\n",
      "Epoch 14/20\n",
      "500/500 [==============================] - 7s 14ms/step - loss: 0.2523 - val_loss: 0.3636\n",
      "Epoch 15/20\n",
      "500/500 [==============================] - 7s 13ms/step - loss: 0.2510 - val_loss: 0.3706\n",
      "Epoch 16/20\n",
      "500/500 [==============================] - 7s 13ms/step - loss: 0.2483 - val_loss: 0.4031\n",
      "Epoch 17/20\n",
      "500/500 [==============================] - 7s 14ms/step - loss: 0.2465 - val_loss: 0.3689\n",
      "Epoch 18/20\n",
      "500/500 [==============================] - 7s 14ms/step - loss: 0.2445 - val_loss: 0.3712\n",
      "Epoch 19/20\n",
      "500/500 [==============================] - 7s 14ms/step - loss: 0.2423 - val_loss: 0.4343\n",
      "Epoch 20/20\n",
      "500/500 [==============================] - 7s 14ms/step - loss: 0.2401 - val_loss: 0.3817\n"
     ]
    }
   ],
   "source": [
    "from keras.models import Sequential\n",
    "from keras import layers\n",
    "from keras.optimizers import RMSprop\n",
    "\n",
    "model = Sequential()\n",
    "model.add(layers.Flatten(input_shape=(lookback // step, float_data.shape[-1])))\n",
    "model.add(layers.Dense(32, activation='relu'))\n",
    "model.add(layers.Dense(1))\n",
    "model.compile(optimizer=RMSprop(), loss='mae')\n",
    "history = model.fit_generator(train_gen,\n",
    "                              steps_per_epoch=500,\n",
    "                              epochs=20,\n",
    "                              validation_data=val_gen,\n",
    "                              validation_steps=val_steps)"
   ]
  },
  {
   "cell_type": "code",
   "execution_count": 16,
   "metadata": {},
   "outputs": [
    {
     "data": {
      "image/png": "[encoded data removed]",
      "text/plain": [
       "<Figure size 432x288 with 1 Axes>"
      ]
     },
     "metadata": {
      "needs_background": "light"
     },
     "output_type": "display_data"
    }
   ],
   "source": [
    "%matplotlib inline\n",
    "import matplotlib.pyplot as plt\n",
    "\n",
    "loss = history.history['loss']\n",
    "val_loss = history.history['val_loss']\n",
    "\n",
    "epochs = range(1, len(loss) + 1)\n",
    "\n",
    "plt.figure()\n",
    "\n",
    "plt.plot(epochs, loss, 'bo', label='Training loss')\n",
    "plt.plot(epochs, val_loss, 'b', label='Validation loss')\n",
    "plt.title('Training and validation loss')\n",
    "plt.legend()\n",
    "\n",
    "plt.show()"
   ]
  },
  {
   "cell_type": "code",
   "execution_count": 17,
   "metadata": {},
   "outputs": [
    {
     "name": "stdout",
     "output_type": "stream",
     "text": [
      "Epoch 1/20\n",
      "500/500 [==============================] - 100s 201ms/step - loss: 0.3451 - val_loss: 0.3407\n",
      "Epoch 2/20\n",
      "500/500 [==============================] - 100s 200ms/step - loss: 0.3281 - val_loss: 0.3102\n",
      "Epoch 3/20\n",
      "500/500 [==============================] - 100s 200ms/step - loss: 0.3216 - val_loss: 0.3087\n",
      "Epoch 4/20\n",
      "500/500 [==============================] - 100s 200ms/step - loss: 0.3149 - val_loss: 0.3081\n",
      "Epoch 5/20\n",
      "500/500 [==============================] - 99s 198ms/step - loss: 0.3100 - val_loss: 0.3119\n",
      "Epoch 6/20\n",
      "500/500 [==============================] - 100s 200ms/step - loss: 0.3031 - val_loss: 0.3121\n",
      "Epoch 7/20\n",
      "500/500 [==============================] - 100s 199ms/step - loss: 0.2983 - val_loss: 0.3151\n",
      "Epoch 8/20\n",
      "500/500 [==============================] - 100s 200ms/step - loss: 0.2928 - val_loss: 0.3242\n",
      "Epoch 9/20\n",
      "500/500 [==============================] - 100s 199ms/step - loss: 0.2876 - val_loss: 0.3143\n",
      "Epoch 10/20\n",
      "500/500 [==============================] - 99s 199ms/step - loss: 0.2825 - val_loss: 0.3270\n",
      "Epoch 11/20\n",
      "500/500 [==============================] - 100s 199ms/step - loss: 0.2757 - val_loss: 0.3298\n",
      "Epoch 12/20\n",
      "500/500 [==============================] - 99s 199ms/step - loss: 0.2735 - val_loss: 0.3323\n",
      "Epoch 13/20\n",
      "500/500 [==============================] - 100s 199ms/step - loss: 0.2698 - val_loss: 0.3363\n",
      "Epoch 14/20\n",
      "500/500 [==============================] - 100s 200ms/step - loss: 0.2652 - val_loss: 0.3363\n",
      "Epoch 15/20\n",
      "500/500 [==============================] - 100s 199ms/step - loss: 0.2621 - val_loss: 0.3370\n",
      "Epoch 16/20\n",
      "500/500 [==============================] - 100s 200ms/step - loss: 0.2581 - val_loss: 0.3427\n",
      "Epoch 17/20\n",
      "500/500 [==============================] - 99s 199ms/step - loss: 0.2557 - val_loss: 0.3424\n",
      "Epoch 18/20\n",
      "500/500 [==============================] - 100s 199ms/step - loss: 0.2514 - val_loss: 0.3535\n",
      "Epoch 19/20\n",
      "500/500 [==============================] - 100s 199ms/step - loss: 0.2490 - val_loss: 0.3518\n",
      "Epoch 20/20\n",
      "500/500 [==============================] - 100s 199ms/step - loss: 0.2469 - val_loss: 0.3569\n"
     ]
    }
   ],
   "source": [
    "from keras.models import Sequential\n",
    "from keras import layers\n",
    "from keras.optimizers import RMSprop\n",
    "\n",
    "model = Sequential()\n",
    "model.add(layers.GRU(32, input_shape=(None, float_data.shape[-1])))\n",
    "model.add(layers.Dense(1))\n",
    "\n",
    "model.compile(optimizer=RMSprop(), loss='mae')\n",
    "history = model.fit_generator(train_gen,\n",
    "                             steps_per_epoch=500,\n",
    "                             epochs=20,\n",
    "                             validation_data = val_gen,\n",
    "                              validation_steps=val_steps)"
   ]
  },
  {
   "cell_type": "code",
   "execution_count": 18,
   "metadata": {},
   "outputs": [
    {
     "data": {
      "image/png": "[encoded data removed]",
      "text/plain": [
       "<Figure size 432x288 with 1 Axes>"
      ]
     },
     "metadata": {
      "needs_background": "light"
     },
     "output_type": "display_data"
    }
   ],
   "source": [
    "loss = history.history['loss']\n",
    "val_loss = history.history['val_loss']\n",
    "\n",
    "epochs = range(1, len(loss) + 1)\n",
    "\n",
    "plt.figure()\n",
    "\n",
    "plt.plot(epochs, loss, 'bo', label='Training loss')\n",
    "plt.plot(epochs, val_loss, 'b', label='Validation loss')\n",
    "plt.title('Training and validation loss')\n",
    "plt.legend()\n",
    "\n",
    "plt.show()"
   ]
  },
  {
   "cell_type": "code",
   "execution_count": 21,
   "metadata": {},
   "outputs": [
    {
     "name": "stdout",
     "output_type": "stream",
     "text": [
      "Epoch 1/40\n",
      "500/500 [==============================] - 113s 226ms/step - loss: 0.3880 - val_loss: 0.3235\n",
      "Epoch 2/40\n",
      "500/500 [==============================] - 113s 225ms/step - loss: 0.3634 - val_loss: 0.3167\n",
      "Epoch 3/40\n",
      "500/500 [==============================] - 115s 229ms/step - loss: 0.3540 - val_loss: 0.3179\n",
      "Epoch 4/40\n",
      "500/500 [==============================] - 113s 226ms/step - loss: 0.3516 - val_loss: 0.3110\n",
      "Epoch 5/40\n",
      "500/500 [==============================] - 113s 227ms/step - loss: 0.3468 - val_loss: 0.3084\n",
      "Epoch 6/40\n",
      "500/500 [==============================] - 114s 228ms/step - loss: 0.3456 - val_loss: 0.3095\n",
      "Epoch 7/40\n",
      "500/500 [==============================] - 114s 228ms/step - loss: 0.3417 - val_loss: 0.3131\n",
      "Epoch 8/40\n",
      "500/500 [==============================] - 115s 230ms/step - loss: 0.3396 - val_loss: 0.3101\n",
      "Epoch 9/40\n",
      "500/500 [==============================] - 113s 227ms/step - loss: 0.3361 - val_loss: 0.3113\n",
      "Epoch 10/40\n",
      "500/500 [==============================] - 113s 227ms/step - loss: 0.3358 - val_loss: 0.3091\n",
      "Epoch 11/40\n",
      "500/500 [==============================] - 113s 226ms/step - loss: 0.3344 - val_loss: 0.3071\n",
      "Epoch 12/40\n",
      "500/500 [==============================] - 113s 226ms/step - loss: 0.3310 - val_loss: 0.3066\n",
      "Epoch 13/40\n",
      "500/500 [==============================] - 113s 226ms/step - loss: 0.3293 - val_loss: 0.3153\n",
      "Epoch 14/40\n",
      "500/500 [==============================] - 113s 226ms/step - loss: 0.3281 - val_loss: 0.3082\n",
      "Epoch 15/40\n",
      "500/500 [==============================] - 113s 227ms/step - loss: 0.3272 - val_loss: 0.3079\n",
      "Epoch 16/40\n",
      "500/500 [==============================] - 113s 226ms/step - loss: 0.3257 - val_loss: 0.3065\n",
      "Epoch 17/40\n",
      "500/500 [==============================] - 113s 226ms/step - loss: 0.3254 - val_loss: 0.3201\n",
      "Epoch 18/40\n",
      "500/500 [==============================] - 113s 225ms/step - loss: 0.3230 - val_loss: 0.3077\n",
      "Epoch 19/40\n",
      "500/500 [==============================] - 113s 226ms/step - loss: 0.3215 - val_loss: 0.3145\n",
      "Epoch 20/40\n",
      "500/500 [==============================] - 113s 226ms/step - loss: 0.3202 - val_loss: 0.3117\n",
      "Epoch 21/40\n",
      "500/500 [==============================] - 113s 226ms/step - loss: 0.3195 - val_loss: 0.3086\n",
      "Epoch 22/40\n",
      "500/500 [==============================] - 113s 226ms/step - loss: 0.3194 - val_loss: 0.3078\n",
      "Epoch 23/40\n",
      "500/500 [==============================] - 113s 226ms/step - loss: 0.3176 - val_loss: 0.3103\n",
      "Epoch 24/40\n",
      "500/500 [==============================] - 113s 225ms/step - loss: 0.3153 - val_loss: 0.3073\n",
      "Epoch 25/40\n",
      "500/500 [==============================] - 113s 225ms/step - loss: 0.3195 - val_loss: 0.3095\n",
      "Epoch 26/40\n",
      "500/500 [==============================] - 113s 226ms/step - loss: 0.3167 - val_loss: 0.3104\n",
      "Epoch 27/40\n",
      "500/500 [==============================] - 113s 226ms/step - loss: 0.3173 - val_loss: 0.3146\n",
      "Epoch 28/40\n",
      "500/500 [==============================] - 113s 225ms/step - loss: 0.3157 - val_loss: 0.3115\n",
      "Epoch 29/40\n",
      "500/500 [==============================] - 113s 225ms/step - loss: 0.3138 - val_loss: 0.3121\n",
      "Epoch 30/40\n",
      "500/500 [==============================] - 113s 225ms/step - loss: 0.3144 - val_loss: 0.3068\n",
      "Epoch 31/40\n",
      "500/500 [==============================] - 113s 225ms/step - loss: 0.3127 - val_loss: 0.3121\n",
      "Epoch 32/40\n",
      "500/500 [==============================] - 113s 226ms/step - loss: 0.3127 - val_loss: 0.3112\n",
      "Epoch 33/40\n",
      "500/500 [==============================] - 113s 226ms/step - loss: 0.3145 - val_loss: 0.3114\n",
      "Epoch 34/40\n",
      "500/500 [==============================] - 113s 226ms/step - loss: 0.3100 - val_loss: 0.3134\n",
      "Epoch 35/40\n",
      "500/500 [==============================] - 113s 225ms/step - loss: 0.3115 - val_loss: 0.3101\n",
      "Epoch 36/40\n",
      "500/500 [==============================] - 113s 225ms/step - loss: 0.3099 - val_loss: 0.3156\n",
      "Epoch 37/40\n",
      "500/500 [==============================] - 113s 225ms/step - loss: 0.3101 - val_loss: 0.3200\n",
      "Epoch 38/40\n",
      "500/500 [==============================] - 113s 227ms/step - loss: 0.3100 - val_loss: 0.3114\n",
      "Epoch 39/40\n",
      "500/500 [==============================] - 113s 225ms/step - loss: 0.3121 - val_loss: 0.3128\n",
      "Epoch 40/40\n",
      "500/500 [==============================] - 114s 229ms/step - loss: 0.3094 - val_loss: 0.3152\n"
     ]
    }
   ],
   "source": [
    "from keras.models import Sequential\n",
    "from keras import layers\n",
    "from keras.optimizers import RMSprop\n",
    "\n",
    "model = Sequential()\n",
    "model.add(layers.GRU(32,\n",
    "                     dropout=0.2,\n",
    "                     recurrent_dropout=0.2,\n",
    "                     input_shape=(None, float_data.shape[-1])))\n",
    "model.add(layers.Dense(1))\n",
    "\n",
    "model.compile(optimizer=RMSprop(), loss='mae')\n",
    "history = model.fit_generator(train_gen,\n",
    "                              steps_per_epoch=500,\n",
    "                              epochs=40,\n",
    "                              validation_data=val_gen,\n",
    "                              validation_steps=val_steps)"
   ]
  },
  {
   "cell_type": "code",
   "execution_count": 22,
   "metadata": {},
   "outputs": [
    {
     "data": {
      "image/png": "[encoded data removed]",
      "text/plain": [
       "<Figure size 432x288 with 1 Axes>"
      ]
     },
     "metadata": {
      "needs_background": "light"
     },
     "output_type": "display_data"
    }
   ],
   "source": [
    "loss = history.history['loss']\n",
    "val_loss = history.history['val_loss']\n",
    "\n",
    "epochs = range(1, len(loss) + 1)\n",
    "\n",
    "plt.figure()\n",
    "\n",
    "plt.plot(epochs, loss, 'bo', label='Training loss')\n",
    "plt.plot(epochs, val_loss, 'b', label='Validation loss')\n",
    "plt.title('Training and validation loss')\n",
    "plt.legend()\n",
    "\n",
    "plt.show()"
   ]
  },
  {
   "cell_type": "code",
   "execution_count": 23,
   "metadata": {},
   "outputs": [
    {
     "name": "stdout",
     "output_type": "stream",
     "text": [
      "Epoch 1/40\n",
      "500/500 [==============================] - 234s 468ms/step - loss: 0.3923 - val_loss: 0.3210\n",
      "Epoch 2/40\n",
      "500/500 [==============================] - 230s 460ms/step - loss: 0.3688 - val_loss: 0.3257\n",
      "Epoch 3/40\n",
      "500/500 [==============================] - 229s 459ms/step - loss: 0.3588 - val_loss: 0.3345\n",
      "Epoch 4/40\n",
      "500/500 [==============================] - 231s 461ms/step - loss: 0.3542 - val_loss: 0.3134\n",
      "Epoch 5/40\n",
      "500/500 [==============================] - 230s 459ms/step - loss: 0.3476 - val_loss: 0.3139\n",
      "Epoch 6/40\n",
      "500/500 [==============================] - 230s 460ms/step - loss: 0.3436 - val_loss: 0.3140\n",
      "Epoch 7/40\n",
      "500/500 [==============================] - 233s 466ms/step - loss: 0.3413 - val_loss: 0.3227\n",
      "Epoch 8/40\n",
      "500/500 [==============================] - 229s 459ms/step - loss: 0.3378 - val_loss: 0.3111\n",
      "Epoch 9/40\n",
      "500/500 [==============================] - 228s 457ms/step - loss: 0.3334 - val_loss: 0.3067\n",
      "Epoch 10/40\n",
      "500/500 [==============================] - 228s 456ms/step - loss: 0.3330 - val_loss: 0.3084\n",
      "Epoch 11/40\n",
      "500/500 [==============================] - 228s 456ms/step - loss: 0.3285 - val_loss: 0.3087\n",
      "Epoch 12/40\n",
      "500/500 [==============================] - 228s 456ms/step - loss: 0.3270 - val_loss: 0.3059\n",
      "Epoch 13/40\n",
      "500/500 [==============================] - 228s 456ms/step - loss: 0.3247 - val_loss: 0.3089\n",
      "Epoch 14/40\n",
      "500/500 [==============================] - 228s 456ms/step - loss: 0.3218 - val_loss: 0.3069\n",
      "Epoch 15/40\n",
      "500/500 [==============================] - 228s 456ms/step - loss: 0.3194 - val_loss: 0.3142\n",
      "Epoch 16/40\n",
      "500/500 [==============================] - 228s 456ms/step - loss: 0.3199 - val_loss: 0.3069\n",
      "Epoch 17/40\n",
      "500/500 [==============================] - 229s 457ms/step - loss: 0.3184 - val_loss: 0.3166\n",
      "Epoch 18/40\n",
      "500/500 [==============================] - 229s 457ms/step - loss: 0.3167 - val_loss: 0.3145\n",
      "Epoch 19/40\n",
      "500/500 [==============================] - 229s 457ms/step - loss: 0.3138 - val_loss: 0.3119\n",
      "Epoch 20/40\n",
      "500/500 [==============================] - 229s 458ms/step - loss: 0.3144 - val_loss: 0.3094\n",
      "Epoch 21/40\n",
      "500/500 [==============================] - 230s 461ms/step - loss: 0.3119 - val_loss: 0.3153\n",
      "Epoch 22/40\n",
      "500/500 [==============================] - 230s 460ms/step - loss: 0.3111 - val_loss: 0.3161\n",
      "Epoch 23/40\n",
      "500/500 [==============================] - 230s 459ms/step - loss: 0.3082 - val_loss: 0.3161\n",
      "Epoch 24/40\n",
      "500/500 [==============================] - 230s 459ms/step - loss: 0.3101 - val_loss: 0.3148\n",
      "Epoch 25/40\n",
      "500/500 [==============================] - 234s 467ms/step - loss: 0.3071 - val_loss: 0.3140\n",
      "Epoch 26/40\n",
      "500/500 [==============================] - 230s 459ms/step - loss: 0.3063 - val_loss: 0.3151\n",
      "Epoch 27/40\n",
      "500/500 [==============================] - 230s 459ms/step - loss: 0.3053 - val_loss: 0.3143\n",
      "Epoch 28/40\n",
      "500/500 [==============================] - 230s 460ms/step - loss: 0.3035 - val_loss: 0.3142\n",
      "Epoch 29/40\n",
      "500/500 [==============================] - 230s 460ms/step - loss: 0.3036 - val_loss: 0.3162\n",
      "Epoch 30/40\n",
      "500/500 [==============================] - 229s 458ms/step - loss: 0.3019 - val_loss: 0.3199\n",
      "Epoch 31/40\n",
      "500/500 [==============================] - 229s 459ms/step - loss: 0.3005 - val_loss: 0.3150\n",
      "Epoch 32/40\n",
      "500/500 [==============================] - 231s 462ms/step - loss: 0.3003 - val_loss: 0.3176\n",
      "Epoch 33/40\n",
      "500/500 [==============================] - 229s 459ms/step - loss: 0.3001 - val_loss: 0.3191\n",
      "Epoch 34/40\n",
      "500/500 [==============================] - 230s 460ms/step - loss: 0.2987 - val_loss: 0.3276\n",
      "Epoch 35/40\n",
      "500/500 [==============================] - 229s 459ms/step - loss: 0.2980 - val_loss: 0.3239\n",
      "Epoch 36/40\n",
      "500/500 [==============================] - 229s 457ms/step - loss: 0.2965 - val_loss: 0.3258\n",
      "Epoch 37/40\n",
      "500/500 [==============================] - 228s 456ms/step - loss: 0.2965 - val_loss: 0.3243\n",
      "Epoch 38/40\n",
      "500/500 [==============================] - 227s 455ms/step - loss: 0.2955 - val_loss: 0.3242\n",
      "Epoch 39/40\n",
      "500/500 [==============================] - 228s 456ms/step - loss: 0.2952 - val_loss: 0.3243\n",
      "Epoch 40/40\n",
      "500/500 [==============================] - 228s 457ms/step - loss: 0.2950 - val_loss: 0.3206\n"
     ]
    }
   ],
   "source": [
    "from keras.models import Sequential\n",
    "from keras import layers\n",
    "from keras.optimizers import RMSprop\n",
    "\n",
    "model = Sequential()\n",
    "model.add(layers.GRU(32,\n",
    "                     dropout=0.1,\n",
    "                     recurrent_dropout=0.5,\n",
    "                     return_sequences=True,\n",
    "                     input_shape=(None, float_data.shape[-1])))\n",
    "model.add(layers.GRU(64,\n",
    "                     dropout=0.1,\n",
    "                     recurrent_dropout=0.5))\n",
    "model.add(layers.Dense(1))\n",
    "\n",
    "model.compile(optimizer=RMSprop(), loss='mae')\n",
    "history = model.fit_generator(train_gen,\n",
    "                              steps_per_epoch=500,\n",
    "                              epochs=40,\n",
    "                              validation_data=val_gen,\n",
    "                              validation_steps=val_steps)"
   ]
  },
  {
   "cell_type": "code",
   "execution_count": 24,
   "metadata": {},
   "outputs": [
    {
     "data": {
      "image/png": "[encoded data removed]",
      "text/plain": [
       "<Figure size 432x288 with 1 Axes>"
      ]
     },
     "metadata": {
      "needs_background": "light"
     },
     "output_type": "display_data"
    }
   ],
   "source": [
    "loss = history.history['loss']\n",
    "val_loss = history.history['val_loss']\n",
    "\n",
    "epochs = range(1, len(loss) + 1)\n",
    "\n",
    "plt.figure()\n",
    "\n",
    "plt.plot(epochs, loss, 'bo', label='Training loss')\n",
    "plt.plot(epochs, val_loss, 'b', label='Validation loss')\n",
    "plt.title('Training and validation loss')\n",
    "plt.legend()\n",
    "\n",
    "plt.show()\n",
    "# we found out the computation cost is pretty high but the loss didn`t improve much"
   ]
  },
  {
   "cell_type": "code",
   "execution_count": 25,
   "metadata": {},
   "outputs": [],
   "source": [
    "# Bidirectional RNN \n",
    "# It`s performance is better than RNN\n",
    "# Usually good at the natural language\n",
    "def generator(data, lookback, delay, min_index, max_index,\n",
    "              shuffle=False, batch_size=128, step=6):\n",
    "    if max_index is None:\n",
    "        max_index = len(data) - delay - 1\n",
    "    i = min_index + lookback\n",
    "    while 1:\n",
    "        if shuffle:\n",
    "            rows = np.random.randint(\n",
    "                    min_index + lookback, max_index, size=batch_size)\n",
    "        else:\n",
    "            if i + batch_size >= max_index:\n",
    "                i = min_index + lookback\n",
    "            rows = np.arange(i, min(i + batch_size, max_index))\n",
    "            i += len(rows)\n",
    "        samples = np.zeros((len(rows),\n",
    "                            lookback // step,\n",
    "                            data.shape[-1]))\n",
    "        targets = np.zeros((len(rows),))\n",
    "        for j, row in enumerate(rows):\n",
    "            indices = range(rows[j] - lookback, rows[j], step)\n",
    "            samples[j] = data[indices]\n",
    "            targets[j] = data[rows[j] + delay][1]\n",
    "        yield samples[:, ::-1, :], targets"
   ]
  },
  {
   "cell_type": "code",
   "execution_count": 26,
   "metadata": {},
   "outputs": [],
   "source": [
    "lookback = 1440\n",
    "step = 6\n",
    "delay = 144\n",
    "batch_size = 128\n",
    "\n",
    "train_gen = generator(float_data,\n",
    "                      lookback=lookback,\n",
    "                      delay=delay,\n",
    "                      min_index=0,\n",
    "                      max_index=200000,\n",
    "                      shuffle=True,\n",
    "                      step=step,\n",
    "                      batch_size=batch_size)\n",
    "\n",
    "val_gen = generator(float_data,\n",
    "                      lookback=lookback,\n",
    "                      delay=delay,\n",
    "                      min_index=200001,\n",
    "                      max_index=300000,\n",
    "                      step=step,\n",
    "                      batch_size=batch_size)\n",
    "\n",
    "test_gen = generator(float_data,\n",
    "                      lookback=lookback,\n",
    "                      delay=delay,\n",
    "                      min_index=300001,\n",
    "                      max_index=None,\n",
    "                      step=step,\n",
    "                      batch_size=batch_size)\n",
    "\n",
    "val_steps = (300000 - 200001 - lookback) // batch_size\n",
    "test_steps = (len(float_data) - 300001 - lookback) // batch_size"
   ]
  },
  {
   "cell_type": "code",
   "execution_count": 27,
   "metadata": {},
   "outputs": [
    {
     "name": "stdout",
     "output_type": "stream",
     "text": [
      "Epoch 1/40\n",
      "500/500 [==============================] - 230s 460ms/step - loss: 0.5794 - val_loss: 0.5565\n",
      "Epoch 2/40\n",
      "500/500 [==============================] - 229s 458ms/step - loss: 0.5546 - val_loss: 0.5358\n",
      "Epoch 3/40\n",
      "500/500 [==============================] - 229s 457ms/step - loss: 0.4905 - val_loss: 0.4267\n",
      "Epoch 4/40\n",
      "500/500 [==============================] - 229s 458ms/step - loss: 0.3841 - val_loss: 0.3364\n",
      "Epoch 5/40\n",
      "500/500 [==============================] - 229s 458ms/step - loss: 0.3493 - val_loss: 0.3311\n",
      "Epoch 6/40\n",
      "500/500 [==============================] - 229s 457ms/step - loss: 0.3408 - val_loss: 0.3446\n",
      "Epoch 7/40\n",
      "500/500 [==============================] - 229s 457ms/step - loss: 0.3358 - val_loss: 0.3272\n",
      "Epoch 8/40\n",
      "500/500 [==============================] - 229s 458ms/step - loss: 0.3300 - val_loss: 0.3257\n",
      "Epoch 9/40\n",
      "500/500 [==============================] - 229s 458ms/step - loss: 0.3269 - val_loss: 0.3323\n",
      "Epoch 10/40\n",
      "500/500 [==============================] - 229s 457ms/step - loss: 0.3230 - val_loss: 0.3327\n",
      "Epoch 11/40\n",
      "500/500 [==============================] - 229s 457ms/step - loss: 0.3206 - val_loss: 0.3392\n",
      "Epoch 12/40\n",
      "500/500 [==============================] - 229s 458ms/step - loss: 0.3196 - val_loss: 0.3304\n",
      "Epoch 13/40\n",
      "500/500 [==============================] - 229s 457ms/step - loss: 0.3165 - val_loss: 0.3383\n",
      "Epoch 14/40\n",
      "500/500 [==============================] - 229s 457ms/step - loss: 0.3156 - val_loss: 0.3411\n",
      "Epoch 15/40\n",
      "500/500 [==============================] - 229s 458ms/step - loss: 0.3120 - val_loss: 0.3296\n",
      "Epoch 16/40\n",
      "500/500 [==============================] - 229s 457ms/step - loss: 0.3105 - val_loss: 0.3363\n",
      "Epoch 17/40\n",
      "500/500 [==============================] - 229s 458ms/step - loss: 0.3082 - val_loss: 0.3433\n",
      "Epoch 18/40\n",
      "500/500 [==============================] - 229s 458ms/step - loss: 0.3069 - val_loss: 0.3390\n",
      "Epoch 19/40\n",
      "500/500 [==============================] - 229s 458ms/step - loss: 0.3047 - val_loss: 0.3448\n",
      "Epoch 20/40\n",
      "500/500 [==============================] - 229s 457ms/step - loss: 0.3047 - val_loss: 0.3463\n",
      "Epoch 21/40\n",
      "500/500 [==============================] - 229s 457ms/step - loss: 0.3038 - val_loss: 0.3423\n",
      "Epoch 22/40\n",
      "500/500 [==============================] - 229s 457ms/step - loss: 0.3032 - val_loss: 0.3459\n",
      "Epoch 23/40\n",
      "500/500 [==============================] - 229s 458ms/step - loss: 0.2989 - val_loss: 0.3401\n",
      "Epoch 24/40\n",
      "500/500 [==============================] - 229s 458ms/step - loss: 0.2983 - val_loss: 0.3451\n",
      "Epoch 25/40\n",
      "500/500 [==============================] - 233s 465ms/step - loss: 0.2963 - val_loss: 0.3480\n",
      "Epoch 26/40\n",
      "500/500 [==============================] - 233s 467ms/step - loss: 0.2973 - val_loss: 0.3436\n",
      "Epoch 27/40\n",
      "500/500 [==============================] - 233s 465ms/step - loss: 0.2957 - val_loss: 0.3496\n",
      "Epoch 28/40\n",
      "500/500 [==============================] - 230s 460ms/step - loss: 0.2963 - val_loss: 0.3436\n",
      "Epoch 29/40\n",
      "500/500 [==============================] - 230s 459ms/step - loss: 0.2935 - val_loss: 0.3536\n",
      "Epoch 30/40\n",
      "500/500 [==============================] - 231s 462ms/step - loss: 0.2920 - val_loss: 0.3477\n",
      "Epoch 31/40\n",
      "500/500 [==============================] - 228s 457ms/step - loss: 0.2929 - val_loss: 0.3502\n",
      "Epoch 32/40\n",
      "500/500 [==============================] - 230s 460ms/step - loss: 0.2905 - val_loss: 0.3501\n",
      "Epoch 33/40\n",
      "500/500 [==============================] - 232s 464ms/step - loss: 0.2892 - val_loss: 0.3541\n",
      "Epoch 34/40\n",
      "500/500 [==============================] - 233s 466ms/step - loss: 0.2877 - val_loss: 0.3487\n",
      "Epoch 35/40\n",
      "500/500 [==============================] - 238s 476ms/step - loss: 0.2889 - val_loss: 0.3545\n",
      "Epoch 36/40\n",
      "500/500 [==============================] - 238s 477ms/step - loss: 0.2884 - val_loss: 0.3492\n",
      "Epoch 37/40\n",
      "500/500 [==============================] - 237s 474ms/step - loss: 0.2885 - val_loss: 0.3523\n",
      "Epoch 38/40\n",
      "500/500 [==============================] - 231s 462ms/step - loss: 0.2862 - val_loss: 0.3562\n",
      "Epoch 39/40\n",
      "500/500 [==============================] - 229s 457ms/step - loss: 0.2868 - val_loss: 0.3544\n",
      "Epoch 40/40\n",
      "500/500 [==============================] - 230s 460ms/step - loss: 0.2853 - val_loss: 0.3490\n"
     ]
    }
   ],
   "source": [
    "model = Sequential()\n",
    "model.add(layers.GRU(32,\n",
    "                     dropout=0.1,\n",
    "                     recurrent_dropout=0.5,\n",
    "                     return_sequences=True,\n",
    "                     input_shape=(None, float_data.shape[-1])))\n",
    "model.add(layers.GRU(64,\n",
    "                     dropout=0.1,\n",
    "                     recurrent_dropout=0.5))\n",
    "model.add(layers.Dense(1))\n",
    "\n",
    "model.compile(optimizer=RMSprop(), loss='mae')\n",
    "history = model.fit_generator(train_gen,\n",
    "                              steps_per_epoch=500,\n",
    "                              epochs=40,\n",
    "                              validation_data=val_gen,\n",
    "                              validation_steps=val_steps)"
   ]
  },
  {
   "cell_type": "code",
   "execution_count": 28,
   "metadata": {},
   "outputs": [
    {
     "data": {
      "image/png": "[encoded data removed]",
      "text/plain": [
       "<Figure size 432x288 with 1 Axes>"
      ]
     },
     "metadata": {
      "needs_background": "light"
     },
     "output_type": "display_data"
    }
   ],
   "source": [
    "loss = history.history['loss']\n",
    "val_loss = history.history['val_loss']\n",
    "\n",
    "epochs = range(1, len(loss) + 1)\n",
    "\n",
    "plt.figure()\n",
    "\n",
    "plt.plot(epochs, loss, 'bo', label='Training loss')\n",
    "plt.plot(epochs, val_loss, 'b', label='Validation loss')\n",
    "plt.title('Training and validation loss')\n",
    "plt.legend()\n",
    "\n",
    "plt.show()\n",
    "# we found out the backwards GRU`s effect is worser than the basic method"
   ]
  },
  {
   "cell_type": "code",
   "execution_count": 31,
   "metadata": {},
   "outputs": [
    {
     "name": "stdout",
     "output_type": "stream",
     "text": [
      "Train on 20000 samples, validate on 5000 samples\n",
      "Epoch 1/10\n",
      "20000/20000 [==============================] - 69s 3ms/step - loss: 0.4990 - acc: 0.7638 - val_loss: 0.3460 - val_acc: 0.8692\n",
      "Epoch 2/10\n",
      "20000/20000 [==============================] - 68s 3ms/step - loss: 0.3277 - acc: 0.8751 - val_loss: 0.3629 - val_acc: 0.8466\n",
      "Epoch 3/10\n",
      "20000/20000 [==============================] - 68s 3ms/step - loss: 0.2616 - acc: 0.9007 - val_loss: 0.3151 - val_acc: 0.8660\n",
      "Epoch 4/10\n",
      "20000/20000 [==============================] - 68s 3ms/step - loss: 0.2182 - acc: 0.9198 - val_loss: 0.3900 - val_acc: 0.8698\n",
      "Epoch 5/10\n",
      "20000/20000 [==============================] - 68s 3ms/step - loss: 0.1985 - acc: 0.9323 - val_loss: 0.4886 - val_acc: 0.8382\n",
      "Epoch 6/10\n",
      "20000/20000 [==============================] - 68s 3ms/step - loss: 0.1792 - acc: 0.9378 - val_loss: 0.4071 - val_acc: 0.8540\n",
      "Epoch 7/10\n",
      "20000/20000 [==============================] - 68s 3ms/step - loss: 0.1572 - acc: 0.9453 - val_loss: 0.3601 - val_acc: 0.8722\n",
      "Epoch 8/10\n",
      "20000/20000 [==============================] - 68s 3ms/step - loss: 0.1477 - acc: 0.9511 - val_loss: 0.5022 - val_acc: 0.8656\n",
      "Epoch 9/10\n",
      "20000/20000 [==============================] - 68s 3ms/step - loss: 0.1406 - acc: 0.9542 - val_loss: 0.3749 - val_acc: 0.8584\n",
      "Epoch 10/10\n",
      "20000/20000 [==============================] - 68s 3ms/step - loss: 0.1205 - acc: 0.9578 - val_loss: 1.1789 - val_acc: 0.7682\n"
     ]
    }
   ],
   "source": [
    "from keras.datasets import imdb\n",
    "from keras.preprocessing import sequence\n",
    "from keras import layers\n",
    "from keras.models import Sequential\n",
    "\n",
    "max_features = 10000\n",
    "max_len = 500\n",
    "\n",
    "(x_train, y_train), (x_test, y_test) = imdb.load_data(\n",
    "    num_words=max_features)\n",
    "\n",
    "x_train = [x[::-1] for x in x_train]\n",
    "x_test = [x[::-1] for x in x_test]\n",
    "\n",
    "x_train = sequence.pad_sequences(x_train, maxlen=max_len)\n",
    "x_test = sequence.pad_sequences(x_test, maxlen=max_len)\n",
    "\n",
    "model = Sequential()\n",
    "model.add(layers.Embedding(max_features, 128))\n",
    "model.add(layers.LSTM(32))\n",
    "model.add(layers.Dense(1, activation='sigmoid'))\n",
    "\n",
    "model.compile(optimizer='rmsprop',\n",
    "              loss='binary_crossentropy',\n",
    "              metrics=['acc'])\n",
    "history = model.fit(x_train, y_train,\n",
    "                    epochs=10,\n",
    "                    batch_size=128,\n",
    "                    validation_split=0.2)"
   ]
  },
  {
   "cell_type": "code",
   "execution_count": 32,
   "metadata": {},
   "outputs": [
    {
     "data": {
      "image/png": "[encoded data removed]",
      "text/plain": [
       "<Figure size 432x288 with 1 Axes>"
      ]
     },
     "metadata": {
      "needs_background": "light"
     },
     "output_type": "display_data"
    }
   ],
   "source": [
    "loss = history.history['loss']\n",
    "val_loss = history.history['val_loss']\n",
    "\n",
    "epochs = range(1, len(loss) + 1)\n",
    "\n",
    "plt.figure()\n",
    "\n",
    "plt.plot(epochs, loss, 'bo', label='Training loss')\n",
    "plt.plot(epochs, val_loss, 'b', label='Validation loss')\n",
    "plt.title('Training and validation loss')\n",
    "plt.legend()\n",
    "\n",
    "plt.show()\n",
    "# It is as same the positive sequence"
   ]
  },
  {
   "cell_type": "code",
   "execution_count": 33,
   "metadata": {},
   "outputs": [
    {
     "name": "stdout",
     "output_type": "stream",
     "text": [
      "Train on 20000 samples, validate on 5000 samples\n",
      "Epoch 1/10\n",
      "20000/20000 [==============================] - 131s 7ms/step - loss: 0.5586 - acc: 0.7169 - val_loss: 0.4294 - val_acc: 0.8168\n",
      "Epoch 2/10\n",
      "20000/20000 [==============================] - 129s 6ms/step - loss: 0.3273 - acc: 0.8747 - val_loss: 0.4143 - val_acc: 0.8424\n",
      "Epoch 3/10\n",
      "20000/20000 [==============================] - 129s 6ms/step - loss: 0.2709 - acc: 0.8977 - val_loss: 0.3804 - val_acc: 0.8764\n",
      "Epoch 4/10\n",
      "20000/20000 [==============================] - 129s 6ms/step - loss: 0.2260 - acc: 0.9164 - val_loss: 0.3110 - val_acc: 0.8816\n",
      "Epoch 5/10\n",
      "20000/20000 [==============================] - 129s 6ms/step - loss: 0.2035 - acc: 0.9276 - val_loss: 0.3403 - val_acc: 0.8842\n",
      "Epoch 6/10\n",
      "20000/20000 [==============================] - 129s 6ms/step - loss: 0.1837 - acc: 0.9365 - val_loss: 0.4946 - val_acc: 0.8124\n",
      "Epoch 7/10\n",
      "20000/20000 [==============================] - 129s 6ms/step - loss: 0.1685 - acc: 0.9420 - val_loss: 0.3834 - val_acc: 0.8670\n",
      "Epoch 8/10\n",
      "20000/20000 [==============================] - 129s 6ms/step - loss: 0.1507 - acc: 0.9483 - val_loss: 0.4038 - val_acc: 0.8362\n",
      "Epoch 9/10\n",
      "20000/20000 [==============================] - 129s 6ms/step - loss: 0.1405 - acc: 0.9508 - val_loss: 0.3601 - val_acc: 0.8802\n",
      "Epoch 10/10\n",
      "20000/20000 [==============================] - 129s 6ms/step - loss: 0.1315 - acc: 0.9572 - val_loss: 0.3830 - val_acc: 0.8798\n"
     ]
    }
   ],
   "source": [
    "# So we combine positive sequence and the negative sequence than we have a double size \n",
    "# training\n",
    "model = Sequential()\n",
    "model.add(layers.Embedding(max_features, 32))\n",
    "model.add(layers.Bidirectional(layers.LSTM(32)))\n",
    "model.add(layers.Dense(1, activation='sigmoid'))\n",
    "\n",
    "model.compile(optimizer='rmsprop', loss='binary_crossentropy', metrics=['acc'])\n",
    "history = model.fit(x_train, y_train,\n",
    "                    epochs=10,\n",
    "                    batch_size=128,\n",
    "                    validation_split=0.2)"
   ]
  },
  {
   "cell_type": "code",
   "execution_count": 34,
   "metadata": {},
   "outputs": [
    {
     "data": {
      "image/png": "[encoded data removed]",
      "text/plain": [
       "<Figure size 432x288 with 1 Axes>"
      ]
     },
     "metadata": {
      "needs_background": "light"
     },
     "output_type": "display_data"
    }
   ],
   "source": [
    "loss = history.history['loss']\n",
    "val_loss = history.history['val_loss']\n",
    "\n",
    "epochs = range(1, len(loss) + 1)\n",
    "\n",
    "plt.figure()\n",
    "\n",
    "plt.plot(epochs, loss, 'bo', label='Training loss')\n",
    "plt.plot(epochs, val_loss, 'b', label='Validation loss')\n",
    "plt.title('Training and validation loss')\n",
    "plt.legend()\n",
    "\n",
    "plt.show()\n",
    "# We may find out the model overfitting quite quickly ==> having double parameters"
   ]
  },
  {
   "cell_type": "code",
   "execution_count": 35,
   "metadata": {},
   "outputs": [],
   "source": [
    "def generator(data, lookback, delay, min_index, max_index,\n",
    "              shuffle=False, batch_size=128, step=6):\n",
    "    if max_index is None:\n",
    "        max_index = len(data) - delay - 1\n",
    "    i = min_index + lookback\n",
    "    while 1:\n",
    "        if shuffle:\n",
    "            rows = np.random.randint(\n",
    "                    min_index + lookback, max_index, size=batch_size)\n",
    "        else:\n",
    "            if i + batch_size >= max_index:\n",
    "                i = min_index + lookback\n",
    "            rows = np.arange(i, min(i + batch_size, max_index))\n",
    "            i += len(rows)\n",
    "        samples = np.zeros((len(rows),\n",
    "                            lookback // step,\n",
    "                            data.shape[-1]))\n",
    "        targets = np.zeros((len(rows),))\n",
    "        for j, row in enumerate(rows):\n",
    "            indices = range(rows[j] - lookback, rows[j], step)\n",
    "            samples[j] = data[indices]\n",
    "            targets[j] = data[rows[j] + delay][1]\n",
    "        yield samples, targets"
   ]
  },
  {
   "cell_type": "code",
   "execution_count": 36,
   "metadata": {},
   "outputs": [],
   "source": [
    "lookback = 1440\n",
    "step = 6\n",
    "delay = 144\n",
    "batch_size = 128\n",
    "\n",
    "train_gen = generator(float_data,\n",
    "                      lookback=lookback,\n",
    "                      delay=delay,\n",
    "                      min_index=0,\n",
    "                      max_index=200000,\n",
    "                      shuffle=True,\n",
    "                      step=step,\n",
    "                      batch_size=batch_size)\n",
    "\n",
    "val_gen = generator(float_data,\n",
    "                      lookback=lookback,\n",
    "                      delay=delay,\n",
    "                      min_index=200001,\n",
    "                      max_index=300000,\n",
    "                      step=step,\n",
    "                      batch_size=batch_size)\n",
    "\n",
    "test_gen = generator(float_data,\n",
    "                      lookback=lookback,\n",
    "                      delay=delay,\n",
    "                      min_index=300001,\n",
    "                      max_index=None,\n",
    "                      step=step,\n",
    "                      batch_size=batch_size)\n",
    "\n",
    "val_steps = (300000 - 200001 - lookback) // batch_size\n",
    "test_steps = (len(float_data) - 300001 - lookback) // batch_size"
   ]
  },
  {
   "cell_type": "code",
   "execution_count": 37,
   "metadata": {},
   "outputs": [
    {
     "name": "stdout",
     "output_type": "stream",
     "text": [
      "Epoch 1/40\n",
      "500/500 [==============================] - 193s 386ms/step - loss: 0.3389 - val_loss: 0.3194\n",
      "Epoch 2/40\n",
      "500/500 [==============================] - 192s 384ms/step - loss: 0.3173 - val_loss: 0.3171\n",
      "Epoch 3/40\n",
      "500/500 [==============================] - 192s 384ms/step - loss: 0.3094 - val_loss: 0.3137\n",
      "Epoch 4/40\n",
      "500/500 [==============================] - 192s 384ms/step - loss: 0.3053 - val_loss: 0.3159\n",
      "Epoch 5/40\n",
      "500/500 [==============================] - 192s 384ms/step - loss: 0.2956 - val_loss: 0.3126\n",
      "Epoch 6/40\n",
      "500/500 [==============================] - 192s 384ms/step - loss: 0.2861 - val_loss: 0.3179\n",
      "Epoch 7/40\n",
      "500/500 [==============================] - 192s 384ms/step - loss: 0.2816 - val_loss: 0.3225\n",
      "Epoch 8/40\n",
      "500/500 [==============================] - 192s 384ms/step - loss: 0.2745 - val_loss: 0.3343\n",
      "Epoch 9/40\n",
      "500/500 [==============================] - 192s 384ms/step - loss: 0.2674 - val_loss: 0.3299\n",
      "Epoch 10/40\n",
      "500/500 [==============================] - 192s 384ms/step - loss: 0.2605 - val_loss: 0.3343\n",
      "Epoch 11/40\n",
      "500/500 [==============================] - 192s 384ms/step - loss: 0.2537 - val_loss: 0.3389\n",
      "Epoch 12/40\n",
      "500/500 [==============================] - 192s 384ms/step - loss: 0.2458 - val_loss: 0.3460\n",
      "Epoch 13/40\n",
      "500/500 [==============================] - 192s 384ms/step - loss: 0.2382 - val_loss: 0.3505\n",
      "Epoch 14/40\n",
      "500/500 [==============================] - 192s 384ms/step - loss: 0.2335 - val_loss: 0.3536\n",
      "Epoch 15/40\n",
      "500/500 [==============================] - 192s 384ms/step - loss: 0.2283 - val_loss: 0.3552\n",
      "Epoch 16/40\n",
      "500/500 [==============================] - 192s 384ms/step - loss: 0.2226 - val_loss: 0.3673\n",
      "Epoch 17/40\n",
      "500/500 [==============================] - 192s 385ms/step - loss: 0.2164 - val_loss: 0.3557\n",
      "Epoch 18/40\n",
      "500/500 [==============================] - 192s 385ms/step - loss: 0.2129 - val_loss: 0.3674\n",
      "Epoch 19/40\n",
      "500/500 [==============================] - 192s 385ms/step - loss: 0.2091 - val_loss: 0.3648\n",
      "Epoch 20/40\n",
      "500/500 [==============================] - 192s 385ms/step - loss: 0.2050 - val_loss: 0.3720\n",
      "Epoch 21/40\n",
      "500/500 [==============================] - 193s 385ms/step - loss: 0.2004 - val_loss: 0.3664\n",
      "Epoch 22/40\n",
      "500/500 [==============================] - 192s 384ms/step - loss: 0.1974 - val_loss: 0.3709\n",
      "Epoch 23/40\n",
      "500/500 [==============================] - 192s 385ms/step - loss: 0.1942 - val_loss: 0.3739\n",
      "Epoch 24/40\n",
      "500/500 [==============================] - 192s 384ms/step - loss: 0.1903 - val_loss: 0.3791\n",
      "Epoch 25/40\n",
      "500/500 [==============================] - 192s 385ms/step - loss: 0.1875 - val_loss: 0.3772\n",
      "Epoch 26/40\n",
      "500/500 [==============================] - 192s 384ms/step - loss: 0.1859 - val_loss: 0.3785\n",
      "Epoch 27/40\n",
      "500/500 [==============================] - 192s 384ms/step - loss: 0.1826 - val_loss: 0.3831\n",
      "Epoch 28/40\n",
      "500/500 [==============================] - 192s 384ms/step - loss: 0.1787 - val_loss: 0.3783\n",
      "Epoch 29/40\n",
      "500/500 [==============================] - 192s 385ms/step - loss: 0.1775 - val_loss: 0.3802\n",
      "Epoch 30/40\n",
      "500/500 [==============================] - 192s 385ms/step - loss: 0.1762 - val_loss: 0.3860\n",
      "Epoch 31/40\n",
      "500/500 [==============================] - 192s 384ms/step - loss: 0.1732 - val_loss: 0.3829\n",
      "Epoch 32/40\n",
      "500/500 [==============================] - 192s 384ms/step - loss: 0.1702 - val_loss: 0.3907\n",
      "Epoch 33/40\n",
      "500/500 [==============================] - 192s 384ms/step - loss: 0.1695 - val_loss: 0.3833\n",
      "Epoch 34/40\n",
      "500/500 [==============================] - 192s 385ms/step - loss: 0.1673 - val_loss: 0.3882\n",
      "Epoch 35/40\n",
      "500/500 [==============================] - 192s 384ms/step - loss: 0.1670 - val_loss: 0.3870\n",
      "Epoch 36/40\n",
      "500/500 [==============================] - 192s 385ms/step - loss: 0.1645 - val_loss: 0.3869\n",
      "Epoch 37/40\n",
      "500/500 [==============================] - 192s 384ms/step - loss: 0.1642 - val_loss: 0.3937\n",
      "Epoch 38/40\n",
      "500/500 [==============================] - 192s 384ms/step - loss: 0.1618 - val_loss: 0.3929\n",
      "Epoch 39/40\n",
      "500/500 [==============================] - 192s 384ms/step - loss: 0.1602 - val_loss: 0.3944\n",
      "Epoch 40/40\n",
      "500/500 [==============================] - 192s 384ms/step - loss: 0.1595 - val_loss: 0.3904\n"
     ]
    }
   ],
   "source": [
    "from keras.models import Sequential\n",
    "from keras import layers\n",
    "from keras.optimizers import RMSprop\n",
    "\n",
    "model = Sequential()\n",
    "model.add(layers.Bidirectional(\n",
    "    layers.GRU(32), input_shape=(None, float_data.shape[-1])))\n",
    "model.add(layers.Dense(1))\n",
    "\n",
    "model.compile(optimizer=RMSprop(), loss='mae')\n",
    "history = model.fit_generator(train_gen, steps_per_epoch=500,\n",
    "                              epochs=40,\n",
    "                              validation_data=val_gen,\n",
    "                              validation_steps=val_steps)"
   ]
  },
  {
   "cell_type": "code",
   "execution_count": 38,
   "metadata": {},
   "outputs": [
    {
     "name": "stdout",
     "output_type": "stream",
     "text": [
      "Loading data\n",
      "25000 train sequences\n",
      "25000 test sequences\n",
      "Pad sequences (smaples x time)\n",
      "x_train shape: (25000, 500)\n",
      "x_test shape: (25000, 500)\n"
     ]
    }
   ],
   "source": [
    "# convnet for sequence data\n",
    "from keras.datasets import imdb\n",
    "from keras.preprocessing import sequence\n",
    "\n",
    "max_features = 10000\n",
    "max_len = 500\n",
    "\n",
    "print('Loading data')\n",
    "(x_train, y_train), (x_test, y_test) = imdb.load_data(num_words=max_features)\n",
    "print(len(x_train), 'train sequences')\n",
    "print(len(x_test), 'test sequences')\n",
    "\n",
    "print('Pad sequences (smaples x time)')\n",
    "x_train = sequence.pad_sequences(x_train, maxlen=max_len)\n",
    "x_test = sequence.pad_sequences(x_test, maxlen=max_len)\n",
    "print('x_train shape:', x_train.shape)\n",
    "print('x_test shape:', x_test.shape)"
   ]
  },
  {
   "cell_type": "code",
   "execution_count": 42,
   "metadata": {},
   "outputs": [
    {
     "name": "stdout",
     "output_type": "stream",
     "text": [
      "_________________________________________________________________\n",
      "Layer (type)                 Output Shape              Param #   \n",
      "=================================================================\n",
      "embedding_6 (Embedding)      (None, 500, 128)          1280000   \n",
      "_________________________________________________________________\n",
      "conv1d_7 (Conv1D)            (None, 494, 32)           28704     \n",
      "_________________________________________________________________\n",
      "max_pooling1d_4 (MaxPooling1 (None, 98, 32)            0         \n",
      "_________________________________________________________________\n",
      "conv1d_8 (Conv1D)            (None, 92, 32)            7200      \n",
      "_________________________________________________________________\n",
      "global_max_pooling1d_4 (Glob (None, 32)                0         \n",
      "_________________________________________________________________\n",
      "dense_15 (Dense)             (None, 1)                 33        \n",
      "=================================================================\n",
      "Total params: 1,315,937\n",
      "Trainable params: 1,315,937\n",
      "Non-trainable params: 0\n",
      "_________________________________________________________________\n",
      "Train on 20000 samples, validate on 5000 samples\n",
      "Epoch 1/10\n",
      "20000/20000 [==============================] - 5s 267us/step - loss: 0.7177 - acc: 0.5260 - val_loss: 0.6819 - val_acc: 0.6010\n",
      "Epoch 2/10\n",
      "20000/20000 [==============================] - 2s 102us/step - loss: 0.6629 - acc: 0.6629 - val_loss: 0.6617 - val_acc: 0.6594\n",
      "Epoch 3/10\n",
      "20000/20000 [==============================] - 2s 105us/step - loss: 0.6199 - acc: 0.7501 - val_loss: 0.6107 - val_acc: 0.7354\n",
      "Epoch 4/10\n",
      "20000/20000 [==============================] - 2s 104us/step - loss: 0.5315 - acc: 0.8036 - val_loss: 0.4969 - val_acc: 0.8018\n",
      "Epoch 5/10\n",
      "20000/20000 [==============================] - 2s 105us/step - loss: 0.4149 - acc: 0.8460 - val_loss: 0.4456 - val_acc: 0.8226\n",
      "Epoch 6/10\n",
      "20000/20000 [==============================] - 2s 106us/step - loss: 0.3468 - acc: 0.8683 - val_loss: 0.4079 - val_acc: 0.8472\n",
      "Epoch 7/10\n",
      "20000/20000 [==============================] - 2s 106us/step - loss: 0.3035 - acc: 0.8786 - val_loss: 0.3961 - val_acc: 0.8484\n",
      "Epoch 8/10\n",
      "20000/20000 [==============================] - 2s 105us/step - loss: 0.2700 - acc: 0.8739 - val_loss: 0.4080 - val_acc: 0.8346\n",
      "Epoch 9/10\n",
      "20000/20000 [==============================] - 2s 105us/step - loss: 0.2449 - acc: 0.8582 - val_loss: 0.4135 - val_acc: 0.8180\n",
      "Epoch 10/10\n",
      "20000/20000 [==============================] - 2s 105us/step - loss: 0.2214 - acc: 0.8405 - val_loss: 0.4455 - val_acc: 0.7942\n"
     ]
    }
   ],
   "source": [
    "from keras.models import Sequential\n",
    "from keras import layers\n",
    "from keras.optimizers import RMSprop\n",
    "\n",
    "model = Sequential()\n",
    "model.add(layers.Embedding(max_features, 128, input_length=max_len))\n",
    "model.add(layers.Conv1D(32, 7, activation='relu'))\n",
    "model.add(layers.MaxPooling1D(5))\n",
    "model.add(layers.Conv1D(32, 7, activation='relu'))\n",
    "model.add(layers.GlobalMaxPooling1D())\n",
    "model.add(layers.Dense(1))\n",
    "\n",
    "model.summary()\n",
    "\n",
    "model.compile(optimizer=RMSprop(lr=1e-4),\n",
    "              loss='binary_crossentropy',\n",
    "              metrics=['acc'])\n",
    "history = model.fit(x_train, y_train,\n",
    "                    epochs=10,\n",
    "                    batch_size=128,\n",
    "                    validation_split=0.2)"
   ]
  },
  {
   "cell_type": "code",
   "execution_count": 43,
   "metadata": {},
   "outputs": [
    {
     "data": {
      "image/png": "[encoded data removed]",
      "text/plain": [
       "<Figure size 432x288 with 1 Axes>"
      ]
     },
     "metadata": {
      "needs_background": "light"
     },
     "output_type": "display_data"
    }
   ],
   "source": [
    "loss = history.history['loss']\n",
    "val_loss = history.history['val_loss']\n",
    "\n",
    "epochs = range(1, len(loss) + 1)\n",
    "\n",
    "plt.figure()\n",
    "\n",
    "plt.plot(epochs, loss, 'bo', label='Training loss')\n",
    "plt.plot(epochs, val_loss, 'b', label='Validation loss')\n",
    "plt.title('Training and validation loss')\n",
    "plt.legend()\n",
    "\n",
    "plt.show()\n"
   ]
  },
  {
   "cell_type": "code",
   "execution_count": 46,
   "metadata": {},
   "outputs": [
    {
     "name": "stdout",
     "output_type": "stream",
     "text": [
      "Epoch 1/20\n",
      "500/500 [==============================] - 8s 16ms/step - loss: 0.4857 - val_loss: 0.5049\n",
      "Epoch 2/20\n",
      "500/500 [==============================] - 7s 14ms/step - loss: 0.4181 - val_loss: 0.5196\n",
      "Epoch 3/20\n",
      "500/500 [==============================] - 7s 13ms/step - loss: 0.3882 - val_loss: 0.5091\n",
      "Epoch 4/20\n",
      "500/500 [==============================] - 7s 13ms/step - loss: 0.3716 - val_loss: 0.5311\n",
      "Epoch 5/20\n",
      "500/500 [==============================] - 7s 13ms/step - loss: 0.3561 - val_loss: 0.5138\n",
      "Epoch 6/20\n",
      "500/500 [==============================] - 7s 13ms/step - loss: 0.3468 - val_loss: 0.5376\n",
      "Epoch 7/20\n",
      "500/500 [==============================] - 7s 13ms/step - loss: 0.3350 - val_loss: 0.5345\n",
      "Epoch 8/20\n",
      "500/500 [==============================] - 7s 13ms/step - loss: 0.3291 - val_loss: 0.5509\n",
      "Epoch 9/20\n",
      "500/500 [==============================] - 7s 13ms/step - loss: 0.3205 - val_loss: 0.5332\n",
      "Epoch 10/20\n",
      "500/500 [==============================] - 7s 14ms/step - loss: 0.3144 - val_loss: 0.5577\n",
      "Epoch 11/20\n",
      "500/500 [==============================] - 7s 14ms/step - loss: 0.3098 - val_loss: 0.5543\n",
      "Epoch 12/20\n",
      "500/500 [==============================] - 7s 14ms/step - loss: 0.3061 - val_loss: 0.5600\n",
      "Epoch 13/20\n",
      "500/500 [==============================] - 7s 13ms/step - loss: 0.3009 - val_loss: 0.5669\n",
      "Epoch 14/20\n",
      "500/500 [==============================] - 7s 13ms/step - loss: 0.2974 - val_loss: 0.5439\n",
      "Epoch 15/20\n",
      "500/500 [==============================] - 7s 13ms/step - loss: 0.2934 - val_loss: 0.5514\n",
      "Epoch 16/20\n",
      "500/500 [==============================] - 7s 13ms/step - loss: 0.2878 - val_loss: 0.5922\n",
      "Epoch 17/20\n",
      "500/500 [==============================] - 7s 13ms/step - loss: 0.2855 - val_loss: 0.5694\n",
      "Epoch 18/20\n",
      "500/500 [==============================] - 7s 13ms/step - loss: 0.2836 - val_loss: 0.5549\n",
      "Epoch 19/20\n",
      "500/500 [==============================] - 7s 14ms/step - loss: 0.2793 - val_loss: 0.5651\n",
      "Epoch 20/20\n",
      "500/500 [==============================] - 7s 13ms/step - loss: 0.2791 - val_loss: 0.5670\n"
     ]
    }
   ],
   "source": [
    "from keras.models import Sequential\n",
    "from keras import layers\n",
    "from keras.optimizers import RMSprop\n",
    "\n",
    "model = Sequential()\n",
    "model.add(layers.Conv1D(32, 5, activation='relu',\n",
    "                        input_shape=(None, float_data.shape[-1])))\n",
    "model.add(layers.MaxPooling1D(3))\n",
    "model.add(layers.Conv1D(32, 5, activation='relu'))\n",
    "model.add(layers.MaxPooling1D(3))\n",
    "model.add(layers.Conv1D(32, 5, activation='relu'))\n",
    "model.add(layers.GlobalMaxPooling1D())\n",
    "model.add(layers.Dense(1))\n",
    "\n",
    "model.compile(optimizer=RMSprop(), loss='mae')\n",
    "history = model.fit_generator(train_gen,\n",
    "                              steps_per_epoch=500,\n",
    "                              epochs=20,\n",
    "                              validation_data=val_gen,\n",
    "                              validation_steps=val_steps)"
   ]
  },
  {
   "cell_type": "code",
   "execution_count": 47,
   "metadata": {},
   "outputs": [
    {
     "data": {
      "image/png": "[encoded data removed]",
      "text/plain": [
       "<Figure size 432x288 with 1 Axes>"
      ]
     },
     "metadata": {
      "needs_background": "light"
     },
     "output_type": "display_data"
    }
   ],
   "source": [
    "loss = history.history['loss']\n",
    "val_loss = history.history['val_loss']\n",
    "\n",
    "epochs = range(1, len(loss) + 1)\n",
    "\n",
    "plt.figure()\n",
    "\n",
    "plt.plot(epochs, loss, 'bo', label='Training loss')\n",
    "plt.plot(epochs, val_loss, 'b', label='Validation loss')\n",
    "plt.title('Training and validation loss')\n",
    "plt.legend()\n",
    "\n",
    "plt.show()\n"
   ]
  },
  {
   "cell_type": "code",
   "execution_count": 49,
   "metadata": {},
   "outputs": [],
   "source": [
    "step = 3\n",
    "lookback = 720\n",
    "delay = 144\n",
    "\n",
    "train_gen = generator(float_data,\n",
    "                      lookback=lookback,\n",
    "                      delay=delay,\n",
    "                      min_index=0,\n",
    "                      max_index=200000,\n",
    "                      shuffle=True,\n",
    "                      step=step)\n",
    "\n",
    "val_gen = generator(float_data,\n",
    "                    lookback=lookback,\n",
    "                    delay=delay,\n",
    "                    min_index=200001,\n",
    "                    max_index=300000,\n",
    "                    step=step)\n",
    "\n",
    "test_gen = generator(float_data,\n",
    "                     lookback=lookback,\n",
    "                     delay=delay,\n",
    "                     min_index=300001,\n",
    "                     max_index=None,\n",
    "                     step=step)\n",
    "val_steps = (300000 - 200001 - lookback) // 128\n",
    "test_steps = (len(float_data) - 300001- lookback) // 128"
   ]
  },
  {
   "cell_type": "code",
   "execution_count": 51,
   "metadata": {},
   "outputs": [
    {
     "name": "stdout",
     "output_type": "stream",
     "text": [
      "_________________________________________________________________\n",
      "Layer (type)                 Output Shape              Param #   \n",
      "=================================================================\n",
      "conv1d_18 (Conv1D)           (None, None, 32)          2272      \n",
      "_________________________________________________________________\n",
      "max_pooling1d_11 (MaxPooling (None, None, 32)          0         \n",
      "_________________________________________________________________\n",
      "conv1d_19 (Conv1D)           (None, None, 32)          5152      \n",
      "_________________________________________________________________\n",
      "gru_10 (GRU)                 (None, 32)                6240      \n",
      "_________________________________________________________________\n",
      "dense_17 (Dense)             (None, 1)                 33        \n",
      "=================================================================\n",
      "Total params: 13,697\n",
      "Trainable params: 13,697\n",
      "Non-trainable params: 0\n",
      "_________________________________________________________________\n",
      "Epoch 1/20\n",
      "500/500 [==============================] - 43s 86ms/step - loss: 0.3878 - val_loss: 0.3244\n",
      "Epoch 2/20\n",
      "500/500 [==============================] - 42s 83ms/step - loss: 0.3508 - val_loss: 0.3164\n",
      "Epoch 3/20\n",
      "500/500 [==============================] - 42s 84ms/step - loss: 0.3390 - val_loss: 0.3135\n",
      "Epoch 4/20\n",
      "500/500 [==============================] - 42s 83ms/step - loss: 0.3292 - val_loss: 0.3171\n",
      "Epoch 5/20\n",
      "500/500 [==============================] - 42s 84ms/step - loss: 0.3228 - val_loss: 0.3278\n",
      "Epoch 6/20\n",
      "500/500 [==============================] - 42s 84ms/step - loss: 0.3152 - val_loss: 0.3173\n",
      "Epoch 7/20\n",
      "500/500 [==============================] - 42s 84ms/step - loss: 0.3108 - val_loss: 0.3273\n",
      "Epoch 8/20\n",
      "500/500 [==============================] - 42s 84ms/step - loss: 0.3042 - val_loss: 0.3265\n",
      "Epoch 9/20\n",
      "500/500 [==============================] - 42s 83ms/step - loss: 0.2985 - val_loss: 0.3326\n",
      "Epoch 10/20\n",
      "500/500 [==============================] - 42s 84ms/step - loss: 0.2949 - val_loss: 0.3279\n",
      "Epoch 11/20\n",
      "500/500 [==============================] - 42s 84ms/step - loss: 0.2910 - val_loss: 0.3271\n",
      "Epoch 12/20\n",
      "500/500 [==============================] - 42s 84ms/step - loss: 0.2852 - val_loss: 0.3339\n",
      "Epoch 13/20\n",
      "500/500 [==============================] - 42s 84ms/step - loss: 0.2810 - val_loss: 0.3335\n",
      "Epoch 14/20\n",
      "500/500 [==============================] - 42s 84ms/step - loss: 0.2799 - val_loss: 0.3306\n",
      "Epoch 15/20\n",
      "500/500 [==============================] - 42s 84ms/step - loss: 0.2761 - val_loss: 0.3351\n",
      "Epoch 16/20\n",
      "500/500 [==============================] - 42s 84ms/step - loss: 0.2736 - val_loss: 0.3335\n",
      "Epoch 17/20\n",
      "500/500 [==============================] - 42s 84ms/step - loss: 0.2695 - val_loss: 0.3401\n",
      "Epoch 18/20\n",
      "500/500 [==============================] - 42s 84ms/step - loss: 0.2680 - val_loss: 0.3346\n",
      "Epoch 19/20\n",
      "500/500 [==============================] - 42s 84ms/step - loss: 0.2652 - val_loss: 0.3366\n",
      "Epoch 20/20\n",
      "500/500 [==============================] - 42s 84ms/step - loss: 0.2627 - val_loss: 0.3427\n"
     ]
    }
   ],
   "source": [
    "from keras.models import Sequential\n",
    "from keras import layers\n",
    "from keras.optimizers import RMSprop\n",
    "\n",
    "model = Sequential()\n",
    "model.add(layers.Conv1D(32, 5, activation='relu',\n",
    "                        input_shape=(None, float_data.shape[-1])))\n",
    "model.add(layers.MaxPooling1D(3))\n",
    "model.add(layers.Conv1D(32, 5, activation='relu'))\n",
    "model.add(layers.GRU(32, dropout=0.1, recurrent_dropout=0.5))\n",
    "model.add(layers.Dense(1))\n",
    "\n",
    "model.summary()\n",
    "\n",
    "model.compile(optimizer=RMSprop(), loss='mae')\n",
    "history = model.fit_generator(train_gen,\n",
    "                              steps_per_epoch=500,\n",
    "                              epochs=20,\n",
    "                              validation_data=val_gen,\n",
    "                              validation_steps=val_steps)"
   ]
  },
  {
   "cell_type": "code",
   "execution_count": 52,
   "metadata": {},
   "outputs": [
    {
     "data": {
      "image/png": "[encoded data removed]",
      "text/plain": [
       "<Figure size 432x288 with 1 Axes>"
      ]
     },
     "metadata": {
      "needs_background": "light"
     },
     "output_type": "display_data"
    }
   ],
   "source": [
    "loss = history.history['loss']\n",
    "val_loss = history.history['val_loss']\n",
    "\n",
    "epochs = range(1, len(loss) + 1)\n",
    "\n",
    "plt.figure()\n",
    "\n",
    "plt.plot(epochs, loss, 'bo', label='Training loss')\n",
    "plt.plot(epochs, val_loss, 'b', label='Validation loss')\n",
    "plt.title('Training and validation loss')\n",
    "plt.legend()\n",
    "\n",
    "plt.show()\n"
   ]
  },
  {
   "cell_type": "code",
   "execution_count": null,
   "metadata": {},
   "outputs": [],
   "source": []
  },
  {
   "cell_type": "code",
   "execution_count": null,
   "metadata": {},
   "outputs": [],
   "source": []
  },
  {
   "cell_type": "code",
   "execution_count": null,
   "metadata": {},
   "outputs": [],
   "source": []
  }
 ],
 "metadata": {
  "kernelspec": {
   "display_name": "Python 3",
   "language": "python",
   "name": "python3"
  },
  "language_info": {
   "codemirror_mode": {
    "name": "ipython",
    "version": 3
   },
   "file_extension": ".py",
   "mimetype": "text/x-python",
   "name": "python",
   "nbconvert_exporter": "python",
   "pygments_lexer": "ipython3",
   "version": "3.6.7"
  }
 },
 "nbformat": 4,
 "nbformat_minor": 2
}
