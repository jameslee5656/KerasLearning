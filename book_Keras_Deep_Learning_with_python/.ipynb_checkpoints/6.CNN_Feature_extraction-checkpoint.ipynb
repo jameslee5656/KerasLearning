{
 "cells": [
  {
   "cell_type": "code",
   "execution_count": 1,
   "metadata": {},
   "outputs": [
    {
     "name": "stderr",
     "output_type": "stream",
     "text": [
      "Using TensorFlow backend.\n"
     ]
    }
   ],
   "source": [
    "from keras.applications import VGG16"
   ]
  },
  {
   "cell_type": "code",
   "execution_count": 2,
   "metadata": {},
   "outputs": [],
   "source": [
    "conv_base = VGG16(weights='imagenet',\n",
    "                  include_top=False,\n",
    "                  input_shape=(150,150,3))"
   ]
  },
  {
   "cell_type": "code",
   "execution_count": 3,
   "metadata": {},
   "outputs": [
    {
     "data": {
      "text/plain": [
       "['/job:localhost/replica:0/task:0/device:GPU:0']"
      ]
     },
     "execution_count": 3,
     "metadata": {},
     "output_type": "execute_result"
    }
   ],
   "source": [
    "from keras import backend as K\n",
    "K.tensorflow_backend._get_available_gpus()"
   ]
  },
  {
   "cell_type": "code",
   "execution_count": 4,
   "metadata": {},
   "outputs": [
    {
     "name": "stdout",
     "output_type": "stream",
     "text": [
      "_________________________________________________________________\n",
      "Layer (type)                 Output Shape              Param #   \n",
      "=================================================================\n",
      "input_1 (InputLayer)         (None, 150, 150, 3)       0         \n",
      "_________________________________________________________________\n",
      "block1_conv1 (Conv2D)        (None, 150, 150, 64)      1792      \n",
      "_________________________________________________________________\n",
      "block1_conv2 (Conv2D)        (None, 150, 150, 64)      36928     \n",
      "_________________________________________________________________\n",
      "block1_pool (MaxPooling2D)   (None, 75, 75, 64)        0         \n",
      "_________________________________________________________________\n",
      "block2_conv1 (Conv2D)        (None, 75, 75, 128)       73856     \n",
      "_________________________________________________________________\n",
      "block2_conv2 (Conv2D)        (None, 75, 75, 128)       147584    \n",
      "_________________________________________________________________\n",
      "block2_pool (MaxPooling2D)   (None, 37, 37, 128)       0         \n",
      "_________________________________________________________________\n",
      "block3_conv1 (Conv2D)        (None, 37, 37, 256)       295168    \n",
      "_________________________________________________________________\n",
      "block3_conv2 (Conv2D)        (None, 37, 37, 256)       590080    \n",
      "_________________________________________________________________\n",
      "block3_conv3 (Conv2D)        (None, 37, 37, 256)       590080    \n",
      "_________________________________________________________________\n",
      "block3_pool (MaxPooling2D)   (None, 18, 18, 256)       0         \n",
      "_________________________________________________________________\n",
      "block4_conv1 (Conv2D)        (None, 18, 18, 512)       1180160   \n",
      "_________________________________________________________________\n",
      "block4_conv2 (Conv2D)        (None, 18, 18, 512)       2359808   \n",
      "_________________________________________________________________\n",
      "block4_conv3 (Conv2D)        (None, 18, 18, 512)       2359808   \n",
      "_________________________________________________________________\n",
      "block4_pool (MaxPooling2D)   (None, 9, 9, 512)         0         \n",
      "_________________________________________________________________\n",
      "block5_conv1 (Conv2D)        (None, 9, 9, 512)         2359808   \n",
      "_________________________________________________________________\n",
      "block5_conv2 (Conv2D)        (None, 9, 9, 512)         2359808   \n",
      "_________________________________________________________________\n",
      "block5_conv3 (Conv2D)        (None, 9, 9, 512)         2359808   \n",
      "_________________________________________________________________\n",
      "block5_pool (MaxPooling2D)   (None, 4, 4, 512)         0         \n",
      "=================================================================\n",
      "Total params: 14,714,688\n",
      "Trainable params: 14,714,688\n",
      "Non-trainable params: 0\n",
      "_________________________________________________________________\n"
     ]
    }
   ],
   "source": [
    "conv_base.summary()"
   ]
  },
  {
   "cell_type": "code",
   "execution_count": 5,
   "metadata": {},
   "outputs": [],
   "source": [
    "import os\n",
    "import numpy as np\n",
    "from keras.preprocessing.image import ImageDataGenerator"
   ]
  },
  {
   "cell_type": "code",
   "execution_count": 6,
   "metadata": {},
   "outputs": [],
   "source": [
    "# base_dir = 'G:/KerasLearning/data/dogs-vs-cats'\n",
    "base_dir = '/home/james/Program/KerasLearning/data/dogs-vs-cats'\n",
    "train_dir = os.path.join(base_dir, 'train')\n",
    "validation_dir = os.path.join(base_dir, 'validation')\n",
    "test_dir = os.path.join(base_dir, 'test')\n",
    "\n",
    "datagen = ImageDataGenerator(rescale=1./255)\n",
    "batch_size = 20\n",
    "\n",
    "def extract_features(directory, sample_count):\n",
    "    features = np.zeros(shape=(sample_count, 4, 4, 512))\n",
    "    labels = np.zeros(shape=(sample_count))\n",
    "    generator = datagen.flow_from_directory(\n",
    "        directory,\n",
    "        target_size=(150,150),\n",
    "        batch_size=batch_size,\n",
    "        class_mode='binary')\n",
    "    i = 0\n",
    "    for inputs_batch, labels_batch in generator:\n",
    "        features_batch = conv_base.predict(inputs_batch)\n",
    "        features[i * batch_size : (i + 1) * batch_size] = features_batch\n",
    "        labels[i * batch_size : (i + 1) * batch_size] = labels_batch\n",
    "        i += 1\n",
    "        if i * batch_size >= sample_count:\n",
    "            break\n",
    "    return features, labels"
   ]
  },
  {
   "cell_type": "code",
   "execution_count": 7,
   "metadata": {},
   "outputs": [
    {
     "name": "stdout",
     "output_type": "stream",
     "text": [
      "Found 2000 images belonging to 2 classes.\n",
      "Found 1000 images belonging to 2 classes.\n",
      "Found 1000 images belonging to 2 classes.\n"
     ]
    }
   ],
   "source": [
    "train_features, train_labels = extract_features(train_dir, 2000)\n",
    "validation_features, validation_labels = extract_features(validation_dir, 1000)\n",
    "test_features, test_labels = extract_features(test_dir, 1000)"
   ]
  },
  {
   "cell_type": "code",
   "execution_count": 8,
   "metadata": {},
   "outputs": [],
   "source": [
    "train_features = np.reshape(train_features, (2000, 4 * 4 * 512))\n",
    "validation_features = np.reshape(validation_features, (1000, 4 * 4 * 512))\n",
    "test_features = np.reshape(test_features, (1000, 4 * 4 * 512))"
   ]
  },
  {
   "cell_type": "code",
   "execution_count": 9,
   "metadata": {},
   "outputs": [],
   "source": [
    "from keras import models, layers, optimizers"
   ]
  },
  {
   "cell_type": "code",
   "execution_count": 10,
   "metadata": {},
   "outputs": [
    {
     "name": "stdout",
     "output_type": "stream",
     "text": [
      "Train on 2000 samples, validate on 1000 samples\n",
      "Epoch 1/30\n",
      "2000/2000 [==============================] - 1s 616us/step - loss: 0.6979 - acc: 0.5755 - val_loss: 0.5530 - val_acc: 0.7430\n",
      "Epoch 2/30\n",
      "2000/2000 [==============================] - 0s 211us/step - loss: 0.5446 - acc: 0.7195 - val_loss: 0.4468 - val_acc: 0.8440\n",
      "Epoch 3/30\n",
      "2000/2000 [==============================] - 0s 207us/step - loss: 0.4521 - acc: 0.7850 - val_loss: 0.3912 - val_acc: 0.8600\n",
      "Epoch 4/30\n",
      "2000/2000 [==============================] - 0s 212us/step - loss: 0.3890 - acc: 0.8375 - val_loss: 0.3589 - val_acc: 0.8600\n",
      "Epoch 5/30\n",
      "2000/2000 [==============================] - 0s 215us/step - loss: 0.3545 - acc: 0.8505 - val_loss: 0.3335 - val_acc: 0.8710\n",
      "Epoch 6/30\n",
      "2000/2000 [==============================] - 0s 209us/step - loss: 0.3386 - acc: 0.8560 - val_loss: 0.3168 - val_acc: 0.8790\n",
      "Epoch 7/30\n",
      "2000/2000 [==============================] - 0s 220us/step - loss: 0.3164 - acc: 0.8720 - val_loss: 0.3016 - val_acc: 0.8860\n",
      "Epoch 8/30\n",
      "2000/2000 [==============================] - 0s 213us/step - loss: 0.2973 - acc: 0.8750 - val_loss: 0.2923 - val_acc: 0.8900\n",
      "Epoch 9/30\n",
      "2000/2000 [==============================] - 0s 212us/step - loss: 0.2749 - acc: 0.8890 - val_loss: 0.2901 - val_acc: 0.8800\n",
      "Epoch 10/30\n",
      "2000/2000 [==============================] - 0s 218us/step - loss: 0.2642 - acc: 0.8955 - val_loss: 0.2787 - val_acc: 0.8890\n",
      "Epoch 11/30\n",
      "2000/2000 [==============================] - 0s 224us/step - loss: 0.2580 - acc: 0.8965 - val_loss: 0.2717 - val_acc: 0.8930\n",
      "Epoch 12/30\n",
      "2000/2000 [==============================] - 0s 214us/step - loss: 0.2420 - acc: 0.9055 - val_loss: 0.2657 - val_acc: 0.9020\n",
      "Epoch 13/30\n",
      "2000/2000 [==============================] - 0s 222us/step - loss: 0.2352 - acc: 0.9110 - val_loss: 0.2681 - val_acc: 0.8890\n",
      "Epoch 14/30\n",
      "2000/2000 [==============================] - 0s 211us/step - loss: 0.2310 - acc: 0.9145 - val_loss: 0.2583 - val_acc: 0.9030\n",
      "Epoch 15/30\n",
      "2000/2000 [==============================] - 0s 216us/step - loss: 0.2210 - acc: 0.9135 - val_loss: 0.2619 - val_acc: 0.8880\n",
      "Epoch 16/30\n",
      "2000/2000 [==============================] - 0s 213us/step - loss: 0.2164 - acc: 0.9220 - val_loss: 0.2577 - val_acc: 0.8950\n",
      "Epoch 17/30\n",
      "2000/2000 [==============================] - 0s 214us/step - loss: 0.2064 - acc: 0.9255 - val_loss: 0.2509 - val_acc: 0.9040\n",
      "Epoch 18/30\n",
      "2000/2000 [==============================] - 0s 215us/step - loss: 0.1984 - acc: 0.9290 - val_loss: 0.2502 - val_acc: 0.8990\n",
      "Epoch 19/30\n",
      "2000/2000 [==============================] - 0s 217us/step - loss: 0.1957 - acc: 0.9250 - val_loss: 0.2470 - val_acc: 0.8990\n",
      "Epoch 20/30\n",
      "2000/2000 [==============================] - 0s 213us/step - loss: 0.1872 - acc: 0.9305 - val_loss: 0.2444 - val_acc: 0.9080\n",
      "Epoch 21/30\n",
      "2000/2000 [==============================] - 0s 215us/step - loss: 0.1838 - acc: 0.9335 - val_loss: 0.2431 - val_acc: 0.9050\n",
      "Epoch 22/30\n",
      "2000/2000 [==============================] - 0s 217us/step - loss: 0.1844 - acc: 0.9310 - val_loss: 0.2429 - val_acc: 0.9070\n",
      "Epoch 23/30\n",
      "2000/2000 [==============================] - 0s 211us/step - loss: 0.1702 - acc: 0.9380 - val_loss: 0.2420 - val_acc: 0.9010\n",
      "Epoch 24/30\n",
      "2000/2000 [==============================] - 0s 221us/step - loss: 0.1698 - acc: 0.9380 - val_loss: 0.2404 - val_acc: 0.9090\n",
      "Epoch 25/30\n",
      "2000/2000 [==============================] - 0s 215us/step - loss: 0.1648 - acc: 0.9435 - val_loss: 0.2388 - val_acc: 0.9090\n",
      "Epoch 26/30\n",
      "2000/2000 [==============================] - 0s 225us/step - loss: 0.1660 - acc: 0.9395 - val_loss: 0.2415 - val_acc: 0.9010\n",
      "Epoch 27/30\n",
      "2000/2000 [==============================] - 0s 213us/step - loss: 0.1540 - acc: 0.9460 - val_loss: 0.2386 - val_acc: 0.9020\n",
      "Epoch 28/30\n",
      "2000/2000 [==============================] - 0s 218us/step - loss: 0.1518 - acc: 0.9460 - val_loss: 0.2407 - val_acc: 0.9000\n",
      "Epoch 29/30\n",
      "2000/2000 [==============================] - 0s 222us/step - loss: 0.1516 - acc: 0.9480 - val_loss: 0.2416 - val_acc: 0.9000\n",
      "Epoch 30/30\n",
      "2000/2000 [==============================] - 0s 222us/step - loss: 0.1448 - acc: 0.9475 - val_loss: 0.2467 - val_acc: 0.8980\n"
     ]
    }
   ],
   "source": [
    "model = models.Sequential()\n",
    "model.add(layers.Dense(256, activation='relu', input_dim=4 * 4 * 512))\n",
    "model.add(layers.Dropout(0.5))\n",
    "model.add(layers.Dense(1, activation='sigmoid'))\n",
    "\n",
    "model.compile(optimizer=optimizers.RMSprop(lr=1e-5),\n",
    "              loss='binary_crossentropy',\n",
    "              metrics=['acc'])\n",
    "history = model.fit(train_features, train_labels,\n",
    "          epochs=30,\n",
    "          batch_size=20,\n",
    "          validation_data=(validation_features, validation_labels))\n"
   ]
  },
  {
   "cell_type": "code",
   "execution_count": 15,
   "metadata": {},
   "outputs": [
    {
     "data": {
      "image/png": "[encoded data removed]",
      "text/plain": [
       "<Figure size 432x288 with 1 Axes>"
      ]
     },
     "metadata": {
      "needs_background": "light"
     },
     "output_type": "display_data"
    },
    {
     "data": {
      "image/png": "[encoded data removed]",
      "text/plain": [
       "<Figure size 432x288 with 1 Axes>"
      ]
     },
     "metadata": {
      "needs_background": "light"
     },
     "output_type": "display_data"
    },
    {
     "data": {
      "text/plain": [
       "<Figure size 432x288 with 0 Axes>"
      ]
     },
     "metadata": {},
     "output_type": "display_data"
    }
   ],
   "source": [
    "import matplotlib.pyplot as plt\n",
    "\n",
    "%matplotlib inline\n",
    "acc = history.history['acc']\n",
    "val_acc = history.history['val_acc']\n",
    "loss = history.history['loss']\n",
    "val_loss = history.history['val_loss']\n",
    "\n",
    "epochs = range(1, len(acc) + 1)\n",
    "\n",
    "plt.plot(epochs, acc, 'bo', label='Training acc')\n",
    "plt.plot(epochs, val_acc, 'b', label='Validation acc')\n",
    "plt.title('Training and validation accuracy')\n",
    "plt.legend()\n",
    "\n",
    "plt.figure()\n",
    "\n",
    "plt.plot(epochs, loss, 'bo', label='Training loss')\n",
    "plt.plot(epochs, val_loss, 'b', label='Validation loss')\n",
    "plt.title('Training and validation error')\n",
    "plt.legend()\n",
    "\n",
    "plt.figure()\n",
    "\n",
    "plt.show()"
   ]
  },
  {
   "cell_type": "code",
   "execution_count": 12,
   "metadata": {},
   "outputs": [],
   "source": [
    "#Method 2 need GPU\n",
    "from keras import layers, models\n",
    "\n",
    "model = models.Sequential()\n",
    "model.add(conv_base)\n",
    "model.add(layers.Flatten())\n",
    "model.add(layers.Dense(256, activation = 'relu'))\n",
    "model.add(layers.Dense(1, activation='sigmoid'))"
   ]
  },
  {
   "cell_type": "code",
   "execution_count": 13,
   "metadata": {},
   "outputs": [
    {
     "name": "stdout",
     "output_type": "stream",
     "text": [
      "_________________________________________________________________\n",
      "Layer (type)                 Output Shape              Param #   \n",
      "=================================================================\n",
      "vgg16 (Model)                (None, 4, 4, 512)         14714688  \n",
      "_________________________________________________________________\n",
      "flatten_1 (Flatten)          (None, 8192)              0         \n",
      "_________________________________________________________________\n",
      "dense_3 (Dense)              (None, 256)               2097408   \n",
      "_________________________________________________________________\n",
      "dense_4 (Dense)              (None, 1)                 257       \n",
      "=================================================================\n",
      "Total params: 16,812,353\n",
      "Trainable params: 16,812,353\n",
      "Non-trainable params: 0\n",
      "_________________________________________________________________\n"
     ]
    }
   ],
   "source": [
    "model.summary()"
   ]
  },
  {
   "cell_type": "code",
   "execution_count": 16,
   "metadata": {},
   "outputs": [
    {
     "name": "stdout",
     "output_type": "stream",
     "text": [
      "This is the number of trainable weights before freezing the conv base: 30\n"
     ]
    }
   ],
   "source": [
    "print('This is the number of trainable weights '\n",
    "      'before freezing the conv base:', len(model.trainable_weights))"
   ]
  },
  {
   "cell_type": "code",
   "execution_count": 17,
   "metadata": {},
   "outputs": [],
   "source": [
    "conv_base.trainable = False"
   ]
  },
  {
   "cell_type": "code",
   "execution_count": 18,
   "metadata": {},
   "outputs": [
    {
     "name": "stdout",
     "output_type": "stream",
     "text": [
      "This is the number of trainable weightsafter freezing the conv base: 4\n"
     ]
    }
   ],
   "source": [
    "print('This is the number of trainable weights'\n",
    "      'after freezing the conv base:', len(model.trainable_weights))"
   ]
  },
  {
   "cell_type": "code",
   "execution_count": 19,
   "metadata": {},
   "outputs": [],
   "source": [
    "from keras.preprocessing.image import ImageDataGenerator\n",
    "from keras import optimizers"
   ]
  },
  {
   "cell_type": "code",
   "execution_count": 21,
   "metadata": {},
   "outputs": [
    {
     "name": "stdout",
     "output_type": "stream",
     "text": [
      "Found 2000 images belonging to 2 classes.\n"
     ]
    }
   ],
   "source": [
    "train_datagen = ImageDataGenerator(\n",
    "    rescale=1./255,\n",
    "    rotation_range=40,\n",
    "    width_shift_range=0.2,\n",
    "    height_shift_range=0.2,\n",
    "    shear_range=0.2,\n",
    "    zoom_range=0.2,\n",
    "    horizontal_flip=True,\n",
    "    fill_mode='nearest')\n",
    "test_datagen =  ImageDataGenerator(rescale=1./255)\n",
    "\n",
    "train_generator = train_datagen.flow_from_directory(\n",
    "    train_dir,\n",
    "    target_size=(150,150),\n",
    "    batch_size=20,\n",
    "    class_mode='binary')"
   ]
  },
  {
   "cell_type": "code",
   "execution_count": 23,
   "metadata": {},
   "outputs": [
    {
     "name": "stdout",
     "output_type": "stream",
     "text": [
      "Found 1000 images belonging to 2 classes.\n"
     ]
    }
   ],
   "source": [
    "validation_generator = test_datagen.flow_from_directory(\n",
    "    validation_dir,\n",
    "    target_size=(150,150),\n",
    "    batch_size=20,\n",
    "    class_mode='binary')"
   ]
  },
  {
   "cell_type": "code",
   "execution_count": 25,
   "metadata": {},
   "outputs": [],
   "source": [
    "model.compile(loss='binary_crossentropy',\n",
    "              optimizer=optimizers.RMSprop(lr=2e-5),\n",
    "              metrics=['acc'])"
   ]
  },
  {
   "cell_type": "code",
   "execution_count": 26,
   "metadata": {},
   "outputs": [
    {
     "name": "stdout",
     "output_type": "stream",
     "text": [
      "Epoch 1/30\n",
      "100/100 [==============================] - 17s 168ms/step - loss: 0.5953 - acc: 0.6860 - val_loss: 0.4532 - val_acc: 0.8210\n",
      "Epoch 2/30\n",
      "100/100 [==============================] - 15s 152ms/step - loss: 0.4840 - acc: 0.7780 - val_loss: 0.3685 - val_acc: 0.8550\n",
      "Epoch 3/30\n",
      "100/100 [==============================] - 15s 152ms/step - loss: 0.4326 - acc: 0.8145 - val_loss: 0.3311 - val_acc: 0.8640\n",
      "Epoch 4/30\n",
      "100/100 [==============================] - 15s 152ms/step - loss: 0.4041 - acc: 0.8235 - val_loss: 0.3074 - val_acc: 0.8710\n",
      "Epoch 5/30\n",
      "100/100 [==============================] - 15s 151ms/step - loss: 0.3824 - acc: 0.8245 - val_loss: 0.2904 - val_acc: 0.8780\n",
      "Epoch 6/30\n",
      "100/100 [==============================] - 15s 151ms/step - loss: 0.3740 - acc: 0.8370 - val_loss: 0.2798 - val_acc: 0.8800\n",
      "Epoch 7/30\n",
      "100/100 [==============================] - 15s 152ms/step - loss: 0.3558 - acc: 0.8400 - val_loss: 0.2714 - val_acc: 0.8880\n",
      "Epoch 8/30\n",
      "100/100 [==============================] - 15s 152ms/step - loss: 0.3536 - acc: 0.8490 - val_loss: 0.2659 - val_acc: 0.8930\n",
      "Epoch 9/30\n",
      "100/100 [==============================] - 15s 152ms/step - loss: 0.3424 - acc: 0.8480 - val_loss: 0.2647 - val_acc: 0.8870\n",
      "Epoch 10/30\n",
      "100/100 [==============================] - 15s 151ms/step - loss: 0.3434 - acc: 0.8540 - val_loss: 0.2620 - val_acc: 0.8900\n",
      "Epoch 11/30\n",
      "100/100 [==============================] - 15s 152ms/step - loss: 0.3289 - acc: 0.8535 - val_loss: 0.2605 - val_acc: 0.8930\n",
      "Epoch 12/30\n",
      "100/100 [==============================] - 15s 151ms/step - loss: 0.3310 - acc: 0.8580 - val_loss: 0.2646 - val_acc: 0.8860\n",
      "Epoch 13/30\n",
      "100/100 [==============================] - 15s 152ms/step - loss: 0.3216 - acc: 0.8650 - val_loss: 0.2555 - val_acc: 0.8940\n",
      "Epoch 14/30\n",
      "100/100 [==============================] - 15s 151ms/step - loss: 0.3285 - acc: 0.8500 - val_loss: 0.2535 - val_acc: 0.8950\n",
      "Epoch 15/30\n",
      "100/100 [==============================] - 15s 152ms/step - loss: 0.3192 - acc: 0.8575 - val_loss: 0.2513 - val_acc: 0.8980\n",
      "Epoch 16/30\n",
      "100/100 [==============================] - 15s 152ms/step - loss: 0.3117 - acc: 0.8615 - val_loss: 0.2644 - val_acc: 0.8920\n",
      "Epoch 17/30\n",
      "100/100 [==============================] - 15s 152ms/step - loss: 0.3045 - acc: 0.8685 - val_loss: 0.2444 - val_acc: 0.9000\n",
      "Epoch 18/30\n",
      "100/100 [==============================] - 15s 152ms/step - loss: 0.2960 - acc: 0.8755 - val_loss: 0.2559 - val_acc: 0.8930\n",
      "Epoch 19/30\n",
      "100/100 [==============================] - 15s 153ms/step - loss: 0.3172 - acc: 0.8615 - val_loss: 0.2469 - val_acc: 0.8990\n",
      "Epoch 20/30\n",
      "100/100 [==============================] - 15s 152ms/step - loss: 0.2937 - acc: 0.8735 - val_loss: 0.2465 - val_acc: 0.9010\n",
      "Epoch 21/30\n",
      "100/100 [==============================] - 15s 152ms/step - loss: 0.2923 - acc: 0.8740 - val_loss: 0.2434 - val_acc: 0.8980\n",
      "Epoch 22/30\n",
      "100/100 [==============================] - 15s 152ms/step - loss: 0.2890 - acc: 0.8850 - val_loss: 0.2540 - val_acc: 0.8940\n",
      "Epoch 23/30\n",
      "100/100 [==============================] - 15s 152ms/step - loss: 0.2849 - acc: 0.8715 - val_loss: 0.2413 - val_acc: 0.8950\n",
      "Epoch 24/30\n",
      "100/100 [==============================] - 15s 152ms/step - loss: 0.2972 - acc: 0.8775 - val_loss: 0.2396 - val_acc: 0.9030\n",
      "Epoch 25/30\n",
      "100/100 [==============================] - 15s 152ms/step - loss: 0.2958 - acc: 0.8745 - val_loss: 0.2405 - val_acc: 0.8950\n",
      "Epoch 26/30\n",
      "100/100 [==============================] - 15s 151ms/step - loss: 0.2942 - acc: 0.8790 - val_loss: 0.2469 - val_acc: 0.8950\n",
      "Epoch 27/30\n",
      "100/100 [==============================] - 15s 152ms/step - loss: 0.2831 - acc: 0.8725 - val_loss: 0.2448 - val_acc: 0.9030\n",
      "Epoch 28/30\n",
      "100/100 [==============================] - 15s 151ms/step - loss: 0.2920 - acc: 0.8770 - val_loss: 0.2390 - val_acc: 0.8990\n",
      "Epoch 29/30\n",
      "100/100 [==============================] - 15s 152ms/step - loss: 0.2935 - acc: 0.8760 - val_loss: 0.2380 - val_acc: 0.9000\n",
      "Epoch 30/30\n",
      "100/100 [==============================] - 15s 152ms/step - loss: 0.2808 - acc: 0.8780 - val_loss: 0.2374 - val_acc: 0.9040\n"
     ]
    }
   ],
   "source": [
    "history = model.fit_generator(\n",
    "    train_generator,\n",
    "    steps_per_epoch=100,\n",
    "    epochs=30,\n",
    "    validation_data=validation_generator,\n",
    "    validation_steps=50)"
   ]
  },
  {
   "cell_type": "code",
   "execution_count": 28,
   "metadata": {},
   "outputs": [
    {
     "data": {
      "text/plain": [
       "<Figure size 432x288 with 0 Axes>"
      ]
     },
     "execution_count": 28,
     "metadata": {},
     "output_type": "execute_result"
    },
    {
     "data": {
      "image/png": "[encoded data removed]",
      "text/plain": [
       "<Figure size 432x288 with 1 Axes>"
      ]
     },
     "metadata": {
      "needs_background": "light"
     },
     "output_type": "display_data"
    },
    {
     "data": {
      "image/png": "[encoded data removed]",
      "text/plain": [
       "<Figure size 432x288 with 1 Axes>"
      ]
     },
     "metadata": {
      "needs_background": "light"
     },
     "output_type": "display_data"
    },
    {
     "data": {
      "text/plain": [
       "<Figure size 432x288 with 0 Axes>"
      ]
     },
     "metadata": {},
     "output_type": "display_data"
    }
   ],
   "source": [
    "%matplotlib inline\n",
    "acc = history.history['acc']\n",
    "val_acc = history.history['val_acc']\n",
    "loss = history.history['loss']\n",
    "val_loss = history.history['val_loss']\n",
    "\n",
    "epochs = range(1, len(acc) + 1)\n",
    "\n",
    "plt.plot(epochs, acc, 'bo', label='Training acc')\n",
    "plt.plot(epochs, val_acc, 'b', label='Validation acc')\n",
    "plt.title('Training and validation accuracy')\n",
    "plt.legend()\n",
    "\n",
    "plt.figure()\n",
    "\n",
    "plt.plot(epochs, loss, 'bo', label='Training loss')\n",
    "plt.plot(epochs, val_loss, 'b', label='Validation loss')\n",
    "plt.title('Training and validation error')\n",
    "plt.legend()\n",
    "\n",
    "plt.figure()\n"
   ]
  },
  {
   "cell_type": "code",
   "execution_count": null,
   "metadata": {},
   "outputs": [],
   "source": []
  }
 ],
 "metadata": {
  "kernelspec": {
   "display_name": "Python 3",
   "language": "python",
   "name": "python3"
  },
  "language_info": {
   "codemirror_mode": {
    "name": "ipython",
    "version": 3
   },
   "file_extension": ".py",
   "mimetype": "text/x-python",
   "name": "python",
   "nbconvert_exporter": "python",
   "pygments_lexer": "ipython3",
   "version": "3.6.7"
  }
 },
 "nbformat": 4,
 "nbformat_minor": 2
}
